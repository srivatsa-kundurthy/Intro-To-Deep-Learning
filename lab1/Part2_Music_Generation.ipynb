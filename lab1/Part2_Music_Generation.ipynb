{
  "nbformat": 4,
  "nbformat_minor": 0,
  "metadata": {
    "colab": {
      "name": "Part2_Music_Generation.ipynb",
      "provenance": [],
      "collapsed_sections": [
        "uoJsVjtCMunI"
      ]
    },
    "kernelspec": {
      "name": "python3",
      "display_name": "Python 3",
      "language": "python"
    },
    "accelerator": "GPU"
  },
  "cells": [
    {
      "cell_type": "markdown",
      "metadata": {
        "id": "uoJsVjtCMunI"
      },
      "source": [
        "<table align=\"center\">\n",
        "  <td align=\"center\"><a target=\"_blank\" href=\"http://introtodeeplearning.com\">\n",
        "        <img src=\"https://i.ibb.co/Jr88sn2/mit.png\" style=\"padding-bottom:5px;\" />\n",
        "      Visit MIT Deep Learning</a></td>\n",
        "  <td align=\"center\"><a target=\"_blank\" href=\"https://colab.research.google.com/github/aamini/introtodeeplearning/blob/master/lab1/Part2_Music_Generation.ipynb\">\n",
        "        <img src=\"https://i.ibb.co/2P3SLwK/colab.png\"  style=\"padding-bottom:5px;\" />Run in Google Colab</a></td>\n",
        "  <td align=\"center\"><a target=\"_blank\" href=\"https://github.com/aamini/introtodeeplearning/blob/master/lab1/Part2_Music_Generation.ipynb\">\n",
        "        <img src=\"https://i.ibb.co/xfJbPmL/github.png\"  height=\"70px\" style=\"padding-bottom:5px;\"  />View Source on GitHub</a></td>\n",
        "</table>\n",
        "\n",
        "# Copyright Information"
      ]
    },
    {
      "cell_type": "code",
      "metadata": {
        "id": "bUik05YqMyCH"
      },
      "source": [
        "# Copyright 2021 MIT 6.S191 Introduction to Deep Learning. All Rights Reserved.\n",
        "# \n",
        "# Licensed under the MIT License. You may not use this file except in compliance\n",
        "# with the License. Use and/or modification of this code outside of 6.S191 must\n",
        "# reference:\n",
        "#\n",
        "# © MIT 6.S191: Introduction to Deep Learning\n",
        "# http://introtodeeplearning.com\n",
        "#"
      ],
      "execution_count": 6,
      "outputs": []
    },
    {
      "cell_type": "markdown",
      "metadata": {
        "id": "O-97SDET3JG-"
      },
      "source": [
        "# Lab 1: Intro to TensorFlow and Music Generation with RNNs\n",
        "\n",
        "# Part 2: Music Generation with RNNs\n",
        "\n",
        "In this portion of the lab, we will explore building a Recurrent Neural Network (RNN) for music generation. We will train a model to learn the patterns in raw sheet music in [ABC notation](https://en.wikipedia.org/wiki/ABC_notation) and then use this model to generate new music. "
      ]
    },
    {
      "cell_type": "markdown",
      "metadata": {
        "id": "rsvlBQYCrE4I"
      },
      "source": [
        "## 2.1 Dependencies \n",
        "First, let's download the course repository, install dependencies, and import the relevant packages we'll need for this lab."
      ]
    },
    {
      "cell_type": "code",
      "metadata": {
        "id": "riVZCVK65QTH"
      },
      "source": [
        "# Import Tensorflow 2.0\n",
        "# %tensorflow_version 2.x\n",
        "import tensorflow as tf \n",
        "\n",
        "# Download and import the MIT 6.S191 package\n",
        "'''\n",
        "!pip install mitdeeplearning\n",
        "import mitdeeplearning as mdl\n",
        "'''\n",
        "# Import all remaining packages\n",
        "import numpy as np\n",
        "import os\n",
        "import time\n",
        "import functools\n",
        "from IPython import display as ipythondisplay\n",
        "from tqdm import tqdm\n",
        "#!apt-get install abcmidi timidity > /dev/null 2>&1\n",
        "\n",
        "# Check that we are using a GPU, if not switch runtimes\n",
        "#   using Runtime > Change Runtime Type > GPU\n",
        "#assert len(tf.config.list_physical_devices('GPU')) > 0"
      ],
      "execution_count": 19,
      "outputs": []
    },
    {
      "cell_type": "markdown",
      "metadata": {
        "id": "_ajvp0No4qDm"
      },
      "source": [
        "## 2.2 Dataset\n",
        "\n",
        "![Let's Dance!](http://33.media.tumblr.com/3d223954ad0a77f4e98a7b87136aa395/tumblr_nlct5lFVbF1qhu7oio1_500.gif)\n",
        "\n",
        "We've gathered a dataset of thousands of Irish folk songs, represented in the ABC notation. Let's download the dataset and inspect it: \n"
      ]
    },
    {
      "cell_type": "code",
      "metadata": {
        "id": "P7dFnP5q3Jve",
        "tags": []
      },
      "source": [
        "# Download the dataset\n",
        "songs = mdl.lab1.load_training_data()\n",
        "\n",
        "# Print one of the songs to inspect it in greater detail!\n",
        "example_song = songs[0]\n",
        "print(\"\\nExample song: \")\n",
        "print(example_song)"
      ],
      "execution_count": 8,
      "outputs": [
        {
          "output_type": "stream",
          "name": "stdout",
          "text": [
            "Found 817 songs in text\n\nExample song: \nX:1\nT:Alexander's\nZ: id:dc-hornpipe-1\nM:C|\nL:1/8\nK:D Major\n(3ABc|dAFA DFAd|fdcd FAdf|gfge fefd|(3efe (3dcB A2 (3ABc|!\ndAFA DFAd|fdcd FAdf|gfge fefd|(3efe dc d2:|!\nAG|FAdA FAdA|GBdB GBdB|Acec Acec|dfaf gecA|!\nFAdA FAdA|GBdB GBdB|Aceg fefd|(3efe dc d2:|!\n"
          ]
        }
      ]
    },
    {
      "cell_type": "markdown",
      "metadata": {
        "id": "hKF3EHJlCAj2"
      },
      "source": [
        "We can easily convert a song in ABC notation to an audio waveform and play it back. Be patient for this conversion to run, it can take some time."
      ]
    },
    {
      "cell_type": "code",
      "metadata": {
        "id": "11toYzhEEKDz"
      },
      "source": [
        "# Convert the ABC notation to audio file and listen to it\n",
        "mdl.lab1.play_song(example_song)\n",
        "print('done')"
      ],
      "execution_count": 9,
      "outputs": [
        {
          "output_type": "stream",
          "name": "stdout",
          "text": [
            "done\n"
          ]
        }
      ]
    },
    {
      "cell_type": "markdown",
      "metadata": {
        "id": "7vH24yyquwKQ"
      },
      "source": [
        "One important thing to think about is that this notation of music does not simply contain information on the notes being played, but additionally there is meta information such as the song title, key, and tempo. How does the number of different characters that are present in the text file impact the complexity of the learning problem? This will become important soon, when we generate a numerical representation for the text data."
      ]
    },
    {
      "cell_type": "code",
      "metadata": {
        "id": "IlCgQBRVymwR"
      },
      "source": [
        "# Join our list of song strings into a single string containing all songs\n",
        "songs_joined = \"\\n\\n\".join(songs) \n",
        "\n",
        "# Find all unique characters in the joined string\n",
        "vocab = sorted(set(songs_joined))\n",
        "print(vocab)\n",
        "print(\"There are\", len(vocab), \"unique characters in the dataset\")"
      ],
      "execution_count": 10,
      "outputs": [
        {
          "output_type": "stream",
          "name": "stdout",
          "text": [
            "['\\n', ' ', '!', '\"', '#', \"'\", '(', ')', ',', '-', '.', '/', '0', '1', '2', '3', '4', '5', '6', '7', '8', '9', ':', '<', '=', '>', 'A', 'B', 'C', 'D', 'E', 'F', 'G', 'H', 'I', 'J', 'K', 'L', 'M', 'N', 'O', 'P', 'Q', 'R', 'S', 'T', 'U', 'V', 'W', 'X', 'Y', 'Z', '[', ']', '^', '_', 'a', 'b', 'c', 'd', 'e', 'f', 'g', 'h', 'i', 'j', 'k', 'l', 'm', 'n', 'o', 'p', 'q', 'r', 's', 't', 'u', 'v', 'w', 'x', 'y', 'z', '|']\nThere are 83 unique characters in the dataset\n"
          ]
        }
      ]
    },
    {
      "cell_type": "markdown",
      "metadata": {
        "id": "rNnrKn_lL-IJ"
      },
      "source": [
        "## 2.3 Process the dataset for the learning task\n",
        "\n",
        "Let's take a step back and consider our prediction task. We're trying to train a RNN model to learn patterns in ABC music, and then use this model to generate (i.e., predict) a new piece of music based on this learned information. \n",
        "\n",
        "Breaking this down, what we're really asking the model is: given a character, or a sequence of characters, what is the most probable next character? We'll train the model to perform this task. \n",
        "\n",
        "To achieve this, we will input a sequence of characters to the model, and train the model to predict the output, that is, the following character at each time step. RNNs maintain an internal state that depends on previously seen elements, so information about all characters seen up until a given moment will be taken into account in generating the prediction."
      ]
    },
    {
      "cell_type": "markdown",
      "metadata": {
        "id": "LFjSVAlWzf-N"
      },
      "source": [
        "### Vectorize the text\n",
        "\n",
        "Before we begin training our RNN model, we'll need to create a numerical representation of our text-based dataset. To do this, we'll generate two lookup tables: one that maps characters to numbers, and a second that maps numbers back to characters. Recall that we just identified the unique characters present in the text."
      ]
    },
    {
      "cell_type": "code",
      "metadata": {
        "id": "IalZLbvOzf-F"
      },
      "source": [
        "### Define numerical representation of text ###\n",
        "\n",
        "# Create a mapping from character to unique index.\n",
        "# For example, to get the index of the character \"d\", \n",
        "#   we can evaluate `char2idx[\"d\"]`.  \n",
        "char2idx = {u:i for i, u in enumerate(vocab)}\n",
        "print(char2idx)\n",
        "#Like list comprehension, but for dictionaries\n",
        "#really nice notation to map\n",
        "\n",
        "# Create a mapping from indices to characters. This is\n",
        "#   the inverse of char2idx and allows us to convert back\n",
        "#   from unique index to the character in our vocabulary.\n",
        "idx2char = np.array(vocab)\n",
        "print(idx2char)"
      ],
      "execution_count": 11,
      "outputs": [
        {
          "output_type": "stream",
          "name": "stdout",
          "text": [
            "{'\\n': 0, ' ': 1, '!': 2, '\"': 3, '#': 4, \"'\": 5, '(': 6, ')': 7, ',': 8, '-': 9, '.': 10, '/': 11, '0': 12, '1': 13, '2': 14, '3': 15, '4': 16, '5': 17, '6': 18, '7': 19, '8': 20, '9': 21, ':': 22, '<': 23, '=': 24, '>': 25, 'A': 26, 'B': 27, 'C': 28, 'D': 29, 'E': 30, 'F': 31, 'G': 32, 'H': 33, 'I': 34, 'J': 35, 'K': 36, 'L': 37, 'M': 38, 'N': 39, 'O': 40, 'P': 41, 'Q': 42, 'R': 43, 'S': 44, 'T': 45, 'U': 46, 'V': 47, 'W': 48, 'X': 49, 'Y': 50, 'Z': 51, '[': 52, ']': 53, '^': 54, '_': 55, 'a': 56, 'b': 57, 'c': 58, 'd': 59, 'e': 60, 'f': 61, 'g': 62, 'h': 63, 'i': 64, 'j': 65, 'k': 66, 'l': 67, 'm': 68, 'n': 69, 'o': 70, 'p': 71, 'q': 72, 'r': 73, 's': 74, 't': 75, 'u': 76, 'v': 77, 'w': 78, 'x': 79, 'y': 80, 'z': 81, '|': 82}\n['\\n' ' ' '!' '\"' '#' \"'\" '(' ')' ',' '-' '.' '/' '0' '1' '2' '3' '4' '5'\n '6' '7' '8' '9' ':' '<' '=' '>' 'A' 'B' 'C' 'D' 'E' 'F' 'G' 'H' 'I' 'J'\n 'K' 'L' 'M' 'N' 'O' 'P' 'Q' 'R' 'S' 'T' 'U' 'V' 'W' 'X' 'Y' 'Z' '[' ']'\n '^' '_' 'a' 'b' 'c' 'd' 'e' 'f' 'g' 'h' 'i' 'j' 'k' 'l' 'm' 'n' 'o' 'p'\n 'q' 'r' 's' 't' 'u' 'v' 'w' 'x' 'y' 'z' '|']\n"
          ]
        }
      ]
    },
    {
      "cell_type": "markdown",
      "metadata": {
        "id": "tZfqhkYCymwX"
      },
      "source": [
        "This gives us an integer representation for each character. Observe that the unique characters (i.e., our vocabulary) in the text are mapped as indices from 0 to `len(unique)`. Let's take a peek at this numerical representation of our dataset:"
      ]
    },
    {
      "cell_type": "code",
      "metadata": {
        "id": "FYyNlCNXymwY"
      },
      "source": [
        "print('{')\n",
        "for char,_ in zip(char2idx, range(20)):\n",
        "    print('  {:4s}: {:3d},'.format(repr(char), char2idx[char]))\n",
        "print('  ...\\n}')"
      ],
      "execution_count": 12,
      "outputs": [
        {
          "output_type": "stream",
          "name": "stdout",
          "text": [
            "{\n  '\\n':   0,\n  ' ' :   1,\n  '!' :   2,\n  '\"' :   3,\n  '#' :   4,\n  \"'\" :   5,\n  '(' :   6,\n  ')' :   7,\n  ',' :   8,\n  '-' :   9,\n  '.' :  10,\n  '/' :  11,\n  '0' :  12,\n  '1' :  13,\n  '2' :  14,\n  '3' :  15,\n  '4' :  16,\n  '5' :  17,\n  '6' :  18,\n  '7' :  19,\n  ...\n}\n"
          ]
        }
      ]
    },
    {
      "cell_type": "code",
      "metadata": {
        "id": "g-LnKyu4dczc"
      },
      "source": [
        "### Vectorize the songs string ###\n",
        "\n",
        "'''TODO: Write a function to convert the all songs string to a vectorized\n",
        "    (i.e., numeric) representation. Use the appropriate mapping\n",
        "    above to convert from vocab characters to the corresponding indices.\n",
        "\n",
        "  NOTE: the output of the `vectorize_string` function \n",
        "  should be a np.array with `N` elements, where `N` is\n",
        "  the number of characters in the input string\n",
        "'''\n",
        "\n",
        "def vectorize_string(string):\n",
        "  # TODO\n",
        "\n",
        "  fin = []\n",
        "  for elem in string:\n",
        "    temp = char2idx[elem]\n",
        "    fin.append(temp)\n",
        "\n",
        "  return np.array(fin)\n",
        "  \n",
        "  \n",
        "\n",
        "vectorized_songs = vectorize_string(songs_joined)\n",
        "print(vectorized_songs)"
      ],
      "execution_count": 13,
      "outputs": [
        {
          "output_type": "stream",
          "name": "stdout",
          "text": [
            "[49 22 13 ... 22 82  2]\n"
          ]
        }
      ]
    },
    {
      "cell_type": "markdown",
      "metadata": {
        "id": "IqxpSuZ1w-ub"
      },
      "source": [
        "We can also look at how the first part of the text is mapped to an integer representation:"
      ]
    },
    {
      "cell_type": "code",
      "metadata": {
        "id": "l1VKcQHcymwb"
      },
      "source": [
        "print ('{} ---- characters mapped to int ----> {}'.format(repr(songs_joined[:10]), vectorized_songs[:10]))\n",
        "# check that vectorized_songs is a numpy array\n",
        "assert isinstance(vectorized_songs, np.ndarray), \"returned result should be a numpy array\""
      ],
      "execution_count": 14,
      "outputs": [
        {
          "output_type": "stream",
          "name": "stdout",
          "text": [
            "'X:1\\nT:Alex' ---- characters mapped to int ----> [49 22 13  0 45 22 26 67 60 79]\n"
          ]
        }
      ]
    },
    {
      "cell_type": "markdown",
      "metadata": {
        "id": "hgsVvVxnymwf"
      },
      "source": [
        "### Create training examples and targets\n",
        "\n",
        "Our next step is to actually divide the text into example sequences that we'll use during training. Each input sequence that we feed into our RNN will contain `seq_length` characters from the text. We'll also need to define a target sequence for each input sequence, which will be used in training the RNN to predict the next character. For each input, the corresponding target will contain the same length of text, except shifted one character to the right.\n",
        "\n",
        "To do this, we'll break the text into chunks of `seq_length+1`. Suppose `seq_length` is 4 and our text is \"Hello\". Then, our input sequence is \"Hell\" and the target sequence is \"ello\".\n",
        "\n",
        "The batch method will then let us convert this stream of character indices to sequences of the desired size."
      ]
    },
    {
      "cell_type": "code",
      "metadata": {
        "id": "LF-N8F7BoDRi"
      },
      "source": [
        "### Batch definition to create training examples ###\n",
        "\n",
        "def get_batch(vectorized_songs, seq_length, batch_size):\n",
        "  # the length of the vectorized songs string\n",
        "  # .shape[0] simply extracts int from tensor (like tuple)\n",
        "  n = vectorized_songs.shape[0] - 1\n",
        "  print(vectorized_songs.shape, n)\n",
        "  # randomly choose the starting indices for the examples in the training batch\n",
        "  idx = np.random.choice(n-seq_length, batch_size)\n",
        "  print('idx',idx)\n",
        "\n",
        "  '''TODO: construct a list of input sequences for the training batch'''\n",
        "  input_batch = [vectorized_songs[elem:elem + seq_length] for elem in idx]\n",
        "  print(input_batch)\n",
        "  '''TODO: construct a list of output sequences for the training batch'''\n",
        "  output_batch = [vectorized_songs[elem + 1: elem + seq_length + 1] for elem in idx]\n",
        "  print(output_batch)\n",
        "\n",
        "  # x_batch, y_batch provide the true inputs and targets for network training\n",
        "  x_batch = np.reshape(input_batch, [batch_size, seq_length])\n",
        "  y_batch = np.reshape(output_batch, [batch_size, seq_length])\n",
        "  return x_batch, y_batch\n",
        "\n",
        "\n",
        "# Perform some simple tests to make sure your batch function is working properly! \n",
        "test_args = (vectorized_songs, 10, 2)\n",
        "if not mdl.lab1.test_batch_func_types(get_batch, test_args) or \\\n",
        "   not mdl.lab1.test_batch_func_shapes(get_batch, test_args) or \\\n",
        "   not mdl.lab1.test_batch_func_next_step(get_batch, test_args): \n",
        "   print(\"======\\n[FAIL] could not pass tests\")\n",
        "else: \n",
        "   print(\"======\\n[PASS] passed all tests!\")\n",
        "\n"
      ],
      "execution_count": 15,
      "outputs": [
        {
          "output_type": "stream",
          "name": "stdout",
          "text": [
            "(200679,) 200678\n",
            "idx [101991    676]\n",
            "[array([28,  0, 37, 22, 13, 11, 20,  0, 36, 22]), array([59, 27, 82, 26, 14, 61, 14,  1, 61, 60])]\n",
            "[array([ 0, 37, 22, 13, 11, 20,  0, 36, 22, 29]), array([27, 82, 26, 14, 61, 14,  1, 61, 60, 61])]\n",
            "[PASS] test_batch_func_types\n",
            "(200679,) 200678\n",
            "idx [158971  41130]\n",
            "[array([59,  1, 60, 62, 61, 60, 82, 61, 56, 56]), array([32, 32,  1, 27, 32, 32, 82, 29, 31, 26])]\n",
            "[array([ 1, 60, 62, 61, 60, 82, 61, 56, 56, 61]), array([32,  1, 27, 32, 32, 82, 29, 31, 26,  1])]\n",
            "[PASS] test_batch_func_shapes\n",
            "(200679,) 200678\n",
            "idx [38904 86110]\n",
            "[array([82, 59, 60, 61,  1, 61, 60, 61, 82, 61]), array([27,  1, 26, 29, 29, 14, 82, 32, 27, 27])]\n",
            "[array([59, 60, 61,  1, 61, 60, 61, 82, 61, 60]), array([ 1, 26, 29, 29, 14, 82, 32, 27, 27, 14])]\n",
            "[PASS] test_batch_func_next_step\n",
            "======\n",
            "[PASS] passed all tests!\n"
          ]
        }
      ]
    },
    {
      "cell_type": "markdown",
      "metadata": {
        "id": "_33OHL3b84i0"
      },
      "source": [
        "For each of these vectors, each index is processed at a single time step. So, for the input at time step 0, the model receives the index for the first character in the sequence, and tries to predict the index of the next character. At the next timestep, it does the same thing, but the RNN considers the information from the previous step, i.e., its updated state, in addition to the current input.\n",
        "\n",
        "We can make this concrete by taking a look at how this works over the first several characters in our text:"
      ]
    },
    {
      "cell_type": "code",
      "metadata": {
        "id": "0eBu9WZG84i0"
      },
      "source": [
        "x_batch, y_batch = get_batch(vectorized_songs, seq_length=5, batch_size=1)\n",
        "\n",
        "for i, (input_idx, target_idx) in enumerate(zip(np.squeeze(x_batch), np.squeeze(y_batch))):\n",
        "    print(\"Step {:3d}\".format(i))\n",
        "    print(\"  input: {} ({:s})\".format(input_idx, repr(idx2char[input_idx])))\n",
        "    print(\"  expected output: {} ({:s})\".format(target_idx, repr(idx2char[target_idx])))"
      ],
      "execution_count": 16,
      "outputs": [
        {
          "output_type": "stream",
          "name": "stdout",
          "text": [
            "(200679,) 200678\nidx [93209]\n[array([56, 59,  0, 51, 22])]\n[array([59,  0, 51, 22,  1])]\nStep   0\n  input: 56 ('a')\n  expected output: 59 ('d')\nStep   1\n  input: 59 ('d')\n  expected output: 0 ('\\n')\nStep   2\n  input: 0 ('\\n')\n  expected output: 51 ('Z')\nStep   3\n  input: 51 ('Z')\n  expected output: 22 (':')\nStep   4\n  input: 22 (':')\n  expected output: 1 (' ')\n"
          ]
        }
      ]
    },
    {
      "cell_type": "markdown",
      "metadata": {
        "id": "r6oUuElIMgVx"
      },
      "source": [
        "## 2.4 The Recurrent Neural Network (RNN) model"
      ]
    },
    {
      "cell_type": "markdown",
      "metadata": {
        "id": "m8gPwEjRzf-Z"
      },
      "source": [
        "Now we're ready to define and train a RNN model on our ABC music dataset, and then use that trained model to generate a new song. We'll train our RNN using batches of song snippets from our dataset, which we generated in the previous section.\n",
        "\n",
        "The model is based off the LSTM architecture, where we use a state vector to maintain information about the temporal relationships between consecutive characters. The final output of the LSTM is then fed into a fully connected [`Dense`](https://www.tensorflow.org/api_docs/python/tf/keras/layers/Dense) layer where we'll output a softmax over each character in the vocabulary, and then sample from this distribution to predict the next character. \n",
        "\n",
        "As we introduced in the first portion of this lab, we'll be using the Keras API, specifically, [`tf.keras.Sequential`](https://www.tensorflow.org/api_docs/python/tf/keras/models/Sequential), to define the model. Three layers are used to define the model:\n",
        "\n",
        "* [`tf.keras.layers.Embedding`](https://www.tensorflow.org/api_docs/python/tf/keras/layers/Embedding): This is the input layer, consisting of a trainable lookup table that maps the numbers of each character to a vector with `embedding_dim` dimensions.\n",
        "* [`tf.keras.layers.LSTM`](https://www.tensorflow.org/api_docs/python/tf/keras/layers/LSTM): Our LSTM network, with size `units=rnn_units`. \n",
        "* [`tf.keras.layers.Dense`](https://www.tensorflow.org/api_docs/python/tf/keras/layers/Dense): The output layer, with `vocab_size` outputs.\n",
        "\n",
        "\n",
        "<img src=\"https://raw.githubusercontent.com/aamini/introtodeeplearning/2019/lab1/img/lstm_unrolled-01-01.png\" alt=\"Drawing\"/>"
      ]
    },
    {
      "cell_type": "markdown",
      "metadata": {
        "id": "rlaOqndqBmJo"
      },
      "source": [
        "### Define the RNN model\n",
        "\n",
        "Now, we will define a function that we will use to actually build the model."
      ]
    },
    {
      "cell_type": "code",
      "metadata": {
        "id": "8DsWzojvkbc7"
      },
      "source": [
        "def LSTM(rnn_units): \n",
        "  return tf.keras.layers.LSTM(\n",
        "    rnn_units, \n",
        "    return_sequences=True, \n",
        "    recurrent_initializer='glorot_uniform',\n",
        "    recurrent_activation='sigmoid',\n",
        "    stateful=True,\n",
        "  )"
      ],
      "execution_count": 17,
      "outputs": []
    },
    {
      "cell_type": "markdown",
      "metadata": {
        "id": "IbWU4dMJmMvq"
      },
      "source": [
        "The time has come! Fill in the `TODOs` to define the RNN model within the `build_model` function, and then call the function you just defined to instantiate the model!"
      ]
    },
    {
      "cell_type": "code",
      "metadata": {
        "id": "MtCrdfzEI2N0"
      },
      "source": [
        "### Defining the RNN Model ###\n",
        "\n",
        "'''TODO: Add LSTM and Dense layers to define the RNN model using the Sequential API.'''\n",
        "def build_model(vocab_size, embedding_dim, rnn_units, batch_size):\n",
        "  '''\n",
        "  model = tf.keras.Sequential([\n",
        "    # Layer 1: Embedding layer to transform indices into dense vectors \n",
        "    #   of a fixed embedding size\n",
        "    tf.keras.layers.Embedding(vocab_size, embedding_dim, batch_input_shape=[batch_size, None]),\n",
        "\n",
        "    # Layer 2: LSTM with `rnn_units` number of units. \n",
        "    # TODO: Call the LSTM function defined above to add this layer.\n",
        "    LSTM(rnn_units),\n",
        "    # Layer 3: Dense (fully-connected) layer that transforms the LSTM output\n",
        "    #   into the vocabulary size. \n",
        "    # TODO: Add the Dense layer.\n",
        "   \n",
        "  \n",
        "    tf.keras.layers.Dense(vocab_size)\n",
        "])\n",
        " '''\n",
        "\n",
        "  model = tf.keras.Sequential([tf.keras.layers.Embedding(vocab_size, embedding_dim, batch_input_shape=[batch_size, None]),tf.keras.layers.Dense(vocab_size, activation='sigmoid')])\n",
        "\n",
        "  return model\n",
        "\n",
        "# Build a simple model with default hyperparameters. You will get the \n",
        "#   chance to change these later.\n",
        "model = build_model(len(vocab), embedding_dim=256, rnn_units=1024, batch_size=32)"
      ],
      "execution_count": 38,
      "outputs": []
    },
    {
      "cell_type": "markdown",
      "metadata": {
        "id": "-ubPo0_9Prjb"
      },
      "source": [
        "### Test out the RNN model\n",
        "\n",
        "It's always a good idea to run a few simple checks on our model to see that it behaves as expected.  \n",
        "\n",
        "First, we can use the `Model.summary` function to print out a summary of our model's internal workings. Here we can check the layers in the model, the shape of the output of each of the layers, the batch size, etc."
      ]
    },
    {
      "cell_type": "code",
      "metadata": {
        "id": "RwG1DD6rDrRM"
      },
      "source": [
        "model.summary()"
      ],
      "execution_count": 39,
      "outputs": [
        {
          "output_type": "stream",
          "name": "stdout",
          "text": [
            "Model: \"sequential_3\"\n_________________________________________________________________\nLayer (type)                 Output Shape              Param #   \n=================================================================\nembedding_3 (Embedding)      (32, None, 256)           21248     \n_________________________________________________________________\ndense_3 (Dense)              (32, None, 83)            21331     \n=================================================================\nTotal params: 42,579\nTrainable params: 42,579\nNon-trainable params: 0\n_________________________________________________________________\n"
          ]
        }
      ]
    },
    {
      "cell_type": "markdown",
      "metadata": {
        "id": "8xeDn5nZD0LX"
      },
      "source": [
        "We can also quickly check the dimensionality of our output, using a sequence length of 100. Note that the model can be run on inputs of any length."
      ]
    },
    {
      "cell_type": "code",
      "metadata": {
        "id": "C-_70kKAPrPU",
        "tags": [
          "outputPrepend"
        ]
      },
      "source": [
        "x, y = get_batch(vectorized_songs, seq_length=100, batch_size=32)\n",
        "print('x', x)\n",
        "print('y', y)\n",
        "pred = model(x)\n",
        "print(\"Input shape:      \", x.shape, \" # (batch_size, sequence_length)\")\n",
        "print(\"Prediction shape: \", pred.shape, \"# (batch_size, sequence_length, vocab_size)\")\n",
        "# We want dimensionality to match (between input and output)"
      ],
      "execution_count": 42,
      "outputs": [
        {
          "output_type": "stream",
          "name": "stdout",
          "text": [
            ", 67]), array([27, 26, 32,  1, 31, 32, 26, 82, 27, 30, 30,  1, 27, 30, 30,  1, 32,\n       14, 26, 82, 27, 58, 59,  1, 26, 27, 32,  1, 31, 30, 29, 22, 82,  2,\n        0, 59, 60, 59,  1, 59, 26, 31,  1, 32, 14, 26, 82, 59, 60, 59,  1,\n       59, 60, 61,  1, 62, 61, 60, 82, 59, 60, 59,  1, 59, 26, 31,  1, 32,\n       14, 26, 82, 27, 58, 59,  1, 26, 27, 32,  1, 31, 30, 29, 82,  2,  0,\n       59, 60, 59,  1, 59, 26, 31,  1, 32, 14, 26, 82, 59, 60, 59]), array([26,  1, 26, 32, 30, 82, 29, 30, 29,  1, 29, 14, 22, 82,  2,  0,  0,\n       49, 22, 19, 18,  0, 45, 22, 35, 70, 60,  1, 28, 70, 70, 67, 60, 80,\n        5, 74,  0, 51, 22,  1, 64, 59, 22, 59, 58,  9, 65, 64, 62,  9, 13,\n       17, 13,  0, 38, 22, 18, 11, 20,  0, 37, 22, 13, 11, 20,  0, 36, 22,\n       29,  1, 38, 56, 65, 70, 73,  0, 60, 82, 61, 60, 61,  1, 59, 14, 27,\n       82, 26, 15,  1, 26, 27, 59, 82, 60, 15,  1, 60, 59, 27, 82]), array([26, 31, 26, 82, 27, 32, 27,  1, 27, 58, 59, 82, 58, 60, 58,  1, 26,\n       27, 58, 82, 59, 61, 60,  1, 59, 14, 22, 82,  2,  0,  0, 49, 22, 21,\n       12,  0, 45, 22, 37, 76, 58, 66,  1, 41, 60, 69, 69, 80,  0, 51, 22,\n        1, 64, 59, 22, 59, 58,  9, 65, 64, 62,  9, 19, 14,  0, 38, 22, 18,\n       11, 20,  0, 37, 22, 13, 11, 20,  0, 36, 22, 32,  1, 38, 56, 65, 70,\n       73,  0, 59, 58, 82, 27, 26, 32,  1, 26, 32, 31, 82, 29, 32]), array([27, 58, 82, 59, 60, 59,  1, 58, 26, 32, 82, 31, 14, 29,  1, 29, 30,\n       29, 82, 31, 30, 29,  1, 31, 32, 26, 82,  2,  0, 27, 26, 27,  1, 58,\n       27, 58, 82, 59, 58, 26,  1, 59, 14, 60, 82, 61, 60, 59,  1, 58, 26,\n       31, 82, 26, 32, 31,  1, 32, 22, 82,  2,  0, 27, 59, 82, 62, 15,  1,\n       59, 60, 61, 82, 62, 14, 56,  1, 57, 56, 62, 82, 61, 15,  1, 59, 60,\n       61, 82, 56, 61, 59,  1, 58, 26, 59, 82,  2,  0, 62, 15,  1]), array([59,  1, 60, 59, 27, 59, 82, 60, 62, 59, 27,  1, 27, 26, 26, 14, 22,\n       82,  2,  0, 56, 14, 60, 56,  1, 56, 62, 60, 61, 82, 62, 14, 59, 62,\n        1, 27, 62, 59, 62, 82, 56, 14, 60, 56,  1, 56, 62, 56, 57, 82, 62,\n       60, 59, 27,  1, 27, 26, 26, 14, 82,  2,  0, 56, 62, 56, 57,  1, 56,\n       62, 60, 61, 82, 62, 14, 56, 61,  1, 62, 60, 59, 27, 82, 59, 60, 62,\n       56,  1, 57, 62, 56, 61, 82, 62, 60, 59, 27,  1, 27, 26, 26]), array([26, 14, 31,  1, 27, 26, 31, 82, 32, 31, 32,  1, 32, 31, 29, 82,  2,\n        0, 26, 14, 31,  1, 27, 14, 31, 82, 26, 14, 32,  1, 31, 30, 29, 82,\n       32, 26, 27,  1, 58, 26, 31, 82, 32, 31, 32,  1, 26, 31, 29, 22, 82,\n        2,  0, 59, 61, 56,  1, 56, 61, 59, 82, 59, 54, 58, 59,  1, 60, 58,\n       26, 82, 32, 26, 27,  1, 58, 26, 31, 82, 32, 31, 32,  1, 26, 31, 29,\n       82,  2,  0, 59, 61, 56,  1, 56, 61, 56, 82, 62, 60, 62,  1]), array([56, 73, 67, 64, 69, 62,  1, 26, 74, 67, 60, 60, 71,  0, 51, 22,  1,\n       64, 59, 22, 59, 58,  9, 65, 64, 62,  9, 20, 14,  0, 38, 22, 18, 11,\n       20,  0, 37, 22, 13, 11, 20,  0, 36, 22, 29,  1, 38, 56, 65, 70, 73,\n        0, 60, 82, 61, 59, 59,  1, 58, 26, 26, 82, 27, 32, 32,  1, 26, 14,\n       32, 82, 31, 26, 26,  1, 59, 60, 61, 82, 62, 61, 62,  1, 60, 56, 56,\n       82,  2,  0, 61, 59, 59,  1, 58, 26, 26, 82, 27, 32, 32,  1]), array([32, 27, 82, 27, 14, 32, 27,  1, 26, 29, 31, 26, 82, 27, 14, 32, 27,\n        1, 30, 27, 32, 27, 82, 27, 58, 59, 27,  1, 26, 29, 31, 26, 82,  2,\n        0, 27, 14, 32, 27,  1, 30, 27, 32, 27, 82, 27, 14, 32, 27,  1, 26,\n       29, 31, 26, 82, 27, 26, 32, 31,  1, 32, 26, 27, 58, 82, 59, 58, 59,\n       27,  1, 26, 29, 31, 26, 82, 53,  2,  0,  0, 49, 22, 14, 16, 18,  0,\n       45, 22, 38, 70, 73, 69, 64, 69, 62,  1, 44, 75, 56, 73,  0]), array([60, 82, 59, 60, 61,  1, 56, 62, 61,  1, 56, 62, 61, 82, 57, 62, 61,\n        1, 60, 14, 61,  1, 62, 61, 60, 22, 82,  2,  0, 59, 61, 60,  1, 59,\n       26, 31,  1, 32, 31, 30, 82, 59, 61, 60,  1, 59, 26, 31,  1, 27, 32,\n       30, 82, 59, 61, 60,  1, 59, 26, 31,  1, 32, 31, 30, 82, 27, 26, 27,\n        1, 30, 14, 31,  1, 32, 31, 30, 22, 82,  2,  0, 29, 31, 26,  1, 61,\n       60, 59,  1, 31, 32, 30, 82, 29, 31, 26,  1, 59, 26, 31,  1]), array([15, 12, 17,  0, 45, 22, 43, 60, 59,  1, 28, 73, 70, 78,  0, 51, 22,\n        1, 64, 59, 22, 59, 58,  9, 73, 60, 60, 67,  9, 14, 20, 14,  0, 38,\n       22, 28,  0, 37, 22, 13, 11, 20,  0, 36, 22, 26,  1, 29, 70, 73, 64,\n       56, 69,  0, 27,  8, 32,  8, 82, 26,  8, 14, 30, 26,  8,  1, 27,  8,\n       32,  8, 32,  8, 27,  8, 82, 26,  8, 14, 30, 32,  1, 31, 29, 30, 32,\n       82, 26, 32, 30, 29,  1, 30, 26,  8, 26,  8, 29, 82, 30, 28]), array([59, 14, 60, 82, 61, 15,  1, 60, 15, 82, 59, 58, 26,  1, 32, 30, 26,\n       82, 29, 30, 29,  1, 29, 14, 22, 82,  2,  0,  0, 49, 22, 16, 21,  0,\n       45, 22, 32, 60, 60, 74, 60,  1, 64, 69,  1, 75, 63, 60,  1, 27, 70,\n       62,  0, 51, 22,  1, 64, 59, 22, 59, 58,  9, 65, 64, 62,  9, 13, 18,\n       16,  0, 38, 22, 18, 11, 20,  0, 37, 22, 13, 11, 20,  0, 36, 22, 26,\n        1, 29, 70, 73, 64, 56, 69,  0, 27, 82, 58, 30, 30,  1, 32]), array([14, 56, 14,  1, 60, 61, 56, 60, 82, 61, 56, 60, 61,  1, 56, 60, 61,\n       60, 82, 56, 14, 56, 14,  1, 60, 61, 56, 60, 82, 61, 56, 60, 58,  1,\n       27, 14, 26, 14, 22, 82,  2,  0, 58, 59, 60, 58,  1, 59, 60, 61, 59,\n       82, 58, 59, 60, 58,  1, 27, 58, 59, 27, 82, 58, 59, 60, 58,  1, 59,\n       60, 61, 59, 82, 60, 56, 60, 58,  1, 27, 14, 26, 14, 22, 82,  2,  0,\n        0, 49, 22, 13, 16, 17,  0, 45, 22, 33, 70, 67, 80,  1, 37])]\n[array([49, 22, 13, 14,  0, 45, 22, 32, 64, 77, 60,  1, 46, 74,  1, 56,  1,\n       29, 73, 64, 69, 66,  1, 70, 61,  1, 48, 56, 75, 60, 73,  0, 51, 22,\n        1, 64, 59, 22, 59, 58,  9, 74, 67, 64, 71, 65, 64, 62,  9, 13, 14,\n        0, 38, 22, 21, 11, 20,  0, 37, 22, 13, 11, 20,  0, 36, 22, 32,  1,\n       38, 56, 65, 70, 73,  0, 29, 82, 32, 27, 59,  1, 62, 59, 58,  1, 27,\n       26, 32, 82, 27, 59, 27,  1, 58, 26, 26,  1, 26, 14, 29, 82]), array([82, 60, 59, 60, 62,  1, 27, 14, 27, 26, 82, 32, 15, 26,  1, 27, 58,\n       27, 26, 82, 32, 14, 30, 14,  1, 30, 14, 22, 82,  2,  0,  0, 49, 22,\n       19,  0, 45, 22, 27, 70, 80, 74,  1, 70, 61,  1, 27, 67, 76, 60, 63,\n       64, 67, 67,  0, 51, 22,  1, 64, 59, 22, 59, 58,  9, 63, 70, 73, 69,\n       71, 64, 71, 60,  9, 19,  0, 38, 22, 28, 82,  0, 37, 22, 13, 11, 20,\n        0, 36, 22, 29,  1, 38, 56, 65, 70, 73,  0, 59, 27, 82, 27]), array([ 0, 49, 22, 17, 15,  0, 45, 22, 32, 70, 67, 59,  1, 43, 64, 69, 62,\n        0, 51, 22,  1, 64, 59, 22, 59, 58,  9, 65, 64, 62,  9, 16, 15,  0,\n       38, 22, 18, 11, 20,  0, 37, 22, 13, 11, 20,  0, 36, 22, 32,  1, 38,\n       56, 65, 70, 73,  0, 26, 82, 27, 26, 32,  1, 26, 14, 59, 82, 58, 26,\n       31,  1, 32, 15, 82, 27, 26, 32,  1, 26, 14, 59, 82, 58, 26, 32,  1,\n       31, 15, 82,  2,  0, 27, 26, 32,  1, 26, 14, 59, 82, 58, 26]), array([ 1, 26, 14, 22, 82,  2,  0, 58, 59, 82, 60, 56, 56, 57,  1, 56, 62,\n       60, 59, 82, 60, 56, 56, 57,  1, 56, 62, 60, 59, 82, 60, 62, 62, 56,\n        1, 62, 60, 59, 27, 82, 60, 62, 62, 56,  1, 62, 60, 59, 27, 82,  2,\n        0, 26, 32, 26, 27,  1, 58, 27, 58, 59, 82, 60, 56, 56, 61,  1, 62,\n       60, 59, 27, 82, 58, 26, 26, 58,  1, 59, 27, 32, 27, 82, 27, 26, 26,\n       32,  1, 26, 14, 22, 82,  2,  0,  0, 49, 22, 18,  0, 45, 22]), array([ 1, 27, 59, 26, 58, 82, 27, 14, 32, 14,  1, 32, 14, 22, 82,  2,  0,\n       32, 26, 82, 27, 32, 27, 59,  1, 62, 14, 61, 62, 82, 56, 62, 61, 62,\n        1, 60, 14, 59, 14, 82, 62, 14, 61, 62,  1, 60, 59, 27, 59, 82, 60,\n       14, 26, 14,  1, 26, 14, 61, 62, 82,  2,  0, 56, 62, 61, 56,  1, 62,\n       14, 61, 60, 82, 59, 27, 26, 32,  1, 26, 58, 27, 26, 82, 32, 31, 32,\n       26,  1, 27, 59, 26, 58, 82, 27, 14, 32, 14,  1, 32, 14, 22]), array([59,  1, 62, 59, 27, 59, 82, 58, 26, 31, 26,  1, 32, 15, 22, 82,  2,\n        0,  0, 49, 22, 14, 18,  0, 45, 22, 31, 73, 64, 60, 69, 59, 67, 80,\n        1, 47, 64, 74, 64, 75,  0, 51, 22,  1, 64, 59, 22, 59, 58,  9, 63,\n       70, 73, 69, 71, 64, 71, 60,  9, 14, 17,  0, 38, 22, 28, 82,  0, 37,\n       22, 13, 11, 20,  0, 36, 22, 32,  1, 38, 56, 65, 70, 73,  0, 27, 26,\n       82, 32, 14, 29, 32,  1, 27, 32, 27, 59, 82, 58, 14, 26, 27]), array([ 1, 30, 14, 82, 53,  2,  0,  0, 49, 22, 13, 18, 17,  0, 45, 22, 48,\n       56, 69, 59, 60, 73, 64, 69, 62,  1, 38, 64, 69, 74, 75, 73, 60, 67,\n        0, 51, 22,  1, 64, 59, 22, 59, 58,  9, 65, 64, 62,  9, 13, 18, 12,\n        0, 38, 22, 18, 11, 20,  0, 37, 22, 13, 11, 20,  0, 36, 22, 29,  1,\n       38, 56, 65, 70, 73,  0, 27, 82, 26, 29, 29,  1, 27, 26, 31, 82, 26,\n       59, 60,  1, 61, 59, 27, 82, 26, 29, 29,  1, 27, 26, 32, 82]), array([31,  1, 29, 30, 31, 60, 82, 56, 61, 62, 60,  1, 61, 59, 60, 58, 82,\n       59, 27, 26, 31,  1, 27, 30, 30, 14, 82, 53,  2,  0,  0, 49, 22, 13,\n        0, 45, 22, 26, 58, 60,  1, 56, 69, 59,  1, 29, 60, 76, 58, 60,  1,\n       70, 61,  1, 41, 64, 71, 60, 73, 64, 69, 62,  0, 51, 22,  1, 64, 59,\n       22, 59, 58,  9, 74, 60, 75, 59, 56, 69, 58, 60,  9, 13,  0, 38, 22,\n       28, 82,  0, 37, 22, 13, 11, 20,  0, 36, 22, 32,  1, 38, 56]), array([82,  2,  0, 26, 15,  1, 58, 26, 32, 82, 26, 32, 26,  1, 58, 59, 60,\n       82, 61, 60, 59,  1, 58, 26, 32, 82, 26, 59, 54, 58,  1, 59, 14, 22,\n       82,  2,  0, 60, 82, 61, 14, 59,  1, 59, 54, 58, 59, 82, 61, 14, 56,\n        1, 56, 62, 61, 82, 60, 14, 58,  1, 58, 27, 58, 82, 60, 14, 61,  1,\n       62, 61, 60, 82,  2,  0, 61, 14, 62,  1, 56, 62, 61, 82, 60, 14, 61,\n        1, 62, 61, 60, 82, 61, 60, 59,  1, 58, 26, 32, 82, 26, 59]), array([31, 29, 28,  1, 31, 26, 58, 82, 56, 62, 61,  1, 59, 61, 58, 82, 27,\n       61, 61,  1, 26, 58, 26, 82, 27, 15,  1, 32, 30, 28, 82,  2,  0, 31,\n       26, 32,  1, 31, 26, 58, 82, 56, 62, 61,  1, 59, 61, 58, 82, 27, 61,\n       61,  1, 26, 58, 26, 82, 27, 32, 30,  1, 31, 14, 22, 82,  2,  0, 58,\n       82, 61, 56, 61,  1, 62, 60, 58, 82, 59, 61, 61,  1, 58, 26, 58, 82,\n       61, 56, 61,  1, 62, 60, 58, 82, 59, 60, 61,  1, 61, 62, 56]), array([26, 58, 26, 82, 59, 60, 61, 59,  1, 60, 14, 61, 62, 82, 56, 57, 56,\n       62,  1, 61, 59, 60, 58, 82,  2,  0, 59, 60, 61, 59,  1, 60, 62, 61,\n       59, 82, 26, 14, 58, 26,  1, 60, 26, 58, 26, 82, 59, 60, 61, 62,  1,\n       56, 57, 56, 62, 82, 61, 59, 60, 58,  1, 59, 15, 82, 53,  2,  0,  0,\n       49, 22, 13, 19, 13,  0, 45, 22, 35, 70, 67, 67, 80,  1, 45, 64, 69,\n       66, 60, 73,  0, 51, 22,  1, 64, 59, 22, 59, 58,  9, 73, 60]), array([26, 22, 82,  2,  0, 61, 15,  1, 56, 15,  1, 59, 15, 82, 60, 14, 61,\n        1, 62, 60, 59,  1, 58, 27, 26, 82, 61, 15,  1, 60, 15,  1, 59, 15,\n       82, 27, 15,  1, 26, 14, 32,  1, 31, 30, 29, 22, 82,  2,  0,  0, 49,\n       22, 15,  0, 45, 22, 27, 70, 80, 74,  1, 70, 61,  1, 27, 56, 67, 67,\n       64, 74, 70, 59, 56, 73, 60,  0, 51, 22,  1, 64, 59, 22, 59, 58,  9,\n       74, 67, 64, 71, 65, 64, 62,  9, 14,  0, 38, 22, 21, 11, 20]), array([14,  1, 57, 15,  1, 56, 82, 62, 56,  1, 61, 62,  1, 60, 61, 82,  2,\n        0, 32, 15,  1, 27,  1, 59, 27, 82, 32, 15,  1, 27,  1, 59, 27, 82,\n       29, 14,  1, 31, 14,  1, 26, 14, 82, 58, 14,  1, 27, 14,  1, 26, 14,\n       82,  2,  0, 32, 15,  1, 27,  1, 59, 27, 82, 32, 15,  1, 27,  1, 59,\n       27, 82, 59, 14,  1, 57, 15,  1, 56, 82, 62, 56,  1, 61, 62,  1, 60,\n       61, 82,  2,  0, 59, 62, 15,  1, 27, 58, 82, 59, 15,  1, 58]), array([56, 57,  1, 56, 62, 60, 61, 82,  2,  0, 62, 15, 60,  1, 59, 15, 27,\n       82, 58, 26, 27, 32,  1, 26, 32, 30, 32, 82, 29, 30, 32, 26,  1, 27,\n       26, 27, 58, 82, 59, 27, 26, 27,  1, 32, 14, 22, 82,  2,  0,  0, 49,\n       22, 13, 13, 15,  0, 45, 22, 31, 67, 70, 78, 60, 73, 74,  1, 70, 61,\n        1, 43, 60, 59,  1, 33, 64, 67, 67,  0, 51, 22,  1, 64, 59, 22, 59,\n       58,  9, 73, 60, 60, 67,  9, 13, 12, 17,  0, 38, 22, 28,  0]), array([32, 31, 30, 82, 29, 31, 31, 14,  1, 26, 31, 31, 14, 82, 26, 27, 58,\n       26,  1, 27, 32, 26, 31, 82,  2,  0, 29, 32, 32, 14,  1, 26, 32, 32,\n       14, 82, 27, 59, 59, 27,  1, 26, 32, 31, 26, 82, 59, 60, 61, 62,  1,\n       56, 62, 61, 59, 82, 58, 26, 31, 26,  1, 32, 14, 22, 82,  2,  0, 27,\n       59, 82, 62, 14, 62, 56,  1, 62, 61, 59, 61, 82, 62, 14, 57, 62,  1,\n       62, 60, 59, 60, 82, 61, 60, 59, 60,  1, 61, 62, 56, 61, 82]), array([61, 59, 58,  1, 59, 14, 22, 82,  2,  0, 26, 82, 59, 61, 59,  1, 58,\n       60, 58, 82, 27, 59, 27,  1, 26, 31, 26, 82, 27, 30, 30,  1, 32, 30,\n       30, 82, 27, 59, 27,  1, 26, 27, 58, 82,  2,  0, 59, 61, 59,  1, 58,\n       60, 58, 82, 27, 59, 27,  1, 26, 31, 26, 82, 27, 58, 59,  1, 60, 61,\n       62, 82, 61, 59, 58,  1, 59, 14, 22, 82,  2,  0, 27, 82, 26, 59, 59,\n        1, 61, 59, 59, 82, 56, 59, 59,  1, 61, 59, 59, 82, 27, 26]), array([27,  1, 58, 14, 58, 27, 82, 59, 14, 58, 14,  1, 27, 14, 26, 14, 82,\n        2,  0, 27, 14, 27, 26,  1, 27, 14, 27, 26, 82, 27, 59, 62, 61,  1,\n       60, 59, 58, 27, 82, 26, 14, 26, 27,  1, 26, 14, 26, 27, 82, 26, 27,\n       58, 26,  1, 32, 31, 30, 29, 82,  2,  0, 32, 14, 32, 26,  1, 32, 14,\n       32, 26, 82, 32, 14, 26, 27,  1, 58, 27, 26, 32, 82, 26, 14, 26, 27,\n        1, 26, 14, 26, 27, 82, 26, 14, 26, 27,  1, 58, 27, 26, 32]), array([70, 73, 64, 56, 69,  0, 30, 25, 31,  1, 32, 26, 82, 27, 60,  1, 27,\n       14, 82, 26, 31,  1, 29, 31, 82, 30, 31,  1, 29, 31, 82,  2,  0, 30,\n       25, 31,  1, 32, 26, 82, 27, 60,  1, 27, 14, 82, 26, 31,  1, 29, 31,\n       82, 30, 14,  1, 30, 14, 22, 82,  2,  0, 60, 14,  1, 27, 14, 82, 60,\n       60,  1, 27, 14, 82, 26, 31,  1, 29, 31, 82, 30, 31,  1, 29, 31, 82,\n        2,  0, 52, 13,  1, 60, 14,  1, 27, 14, 82, 60, 60,  1, 27]), array([64, 59, 22, 59, 58,  9, 74, 60, 75, 59, 56, 69, 58, 60,  9, 20,  0,\n       38, 22, 28, 82,  0, 37, 22, 13, 11, 20,  0, 36, 22, 29,  1, 38, 56,\n       65, 70, 73,  0, 61, 62, 82, 56, 14, 56, 61,  1, 62, 57, 56, 62, 82,\n       61, 60, 61, 56,  1, 62, 61, 60, 61, 82, 59, 58, 59, 60,  1, 61, 59,\n       60, 58, 82, 59, 60, 59, 58,  1, 26, 32, 31, 32, 82,  2,  0, 26, 27,\n       24, 58, 26,  1, 59, 54, 58, 26, 32, 82, 31, 30, 31, 32,  1]), array([56, 14, 57, 56, 82, 58,  5, 56, 57, 56,  1, 56, 62, 60, 62, 82, 32,\n       26, 27, 59,  1, 62, 61, 62, 56, 82, 57, 62, 56, 62,  1, 60, 59, 27,\n       59, 82,  2,  0, 60, 56, 56, 54, 62,  1, 56, 14, 57, 56, 82, 58,  5,\n       56, 57, 56,  1, 56, 62, 60, 61, 82, 62, 61, 62, 57,  1, 56, 62, 60,\n       59, 82, 58, 26, 27, 32,  1, 26, 14, 22, 82,  2,  0,  0, 49, 22, 14,\n       20, 12,  0, 45, 22, 41, 56, 59, 59, 80,  1, 36, 60, 67, 67]), array([26, 32,  1, 31, 32, 26, 82, 27, 30, 30,  1, 27, 30, 30,  1, 32, 14,\n       26, 82, 27, 58, 59,  1, 26, 27, 32,  1, 31, 30, 29, 22, 82,  2,  0,\n       59, 60, 59,  1, 59, 26, 31,  1, 32, 14, 26, 82, 59, 60, 59,  1, 59,\n       60, 61,  1, 62, 61, 60, 82, 59, 60, 59,  1, 59, 26, 31,  1, 32, 14,\n       26, 82, 27, 58, 59,  1, 26, 27, 32,  1, 31, 30, 29, 82,  2,  0, 59,\n       60, 59,  1, 59, 26, 31,  1, 32, 14, 26, 82, 59, 60, 59,  1]), array([ 1, 26, 32, 30, 82, 29, 30, 29,  1, 29, 14, 22, 82,  2,  0,  0, 49,\n       22, 19, 18,  0, 45, 22, 35, 70, 60,  1, 28, 70, 70, 67, 60, 80,  5,\n       74,  0, 51, 22,  1, 64, 59, 22, 59, 58,  9, 65, 64, 62,  9, 13, 17,\n       13,  0, 38, 22, 18, 11, 20,  0, 37, 22, 13, 11, 20,  0, 36, 22, 29,\n        1, 38, 56, 65, 70, 73,  0, 60, 82, 61, 60, 61,  1, 59, 14, 27, 82,\n       26, 15,  1, 26, 27, 59, 82, 60, 15,  1, 60, 59, 27, 82, 60]), array([31, 26, 82, 27, 32, 27,  1, 27, 58, 59, 82, 58, 60, 58,  1, 26, 27,\n       58, 82, 59, 61, 60,  1, 59, 14, 22, 82,  2,  0,  0, 49, 22, 21, 12,\n        0, 45, 22, 37, 76, 58, 66,  1, 41, 60, 69, 69, 80,  0, 51, 22,  1,\n       64, 59, 22, 59, 58,  9, 65, 64, 62,  9, 19, 14,  0, 38, 22, 18, 11,\n       20,  0, 37, 22, 13, 11, 20,  0, 36, 22, 32,  1, 38, 56, 65, 70, 73,\n        0, 59, 58, 82, 27, 26, 32,  1, 26, 32, 31, 82, 29, 32, 30]), array([58, 82, 59, 60, 59,  1, 58, 26, 32, 82, 31, 14, 29,  1, 29, 30, 29,\n       82, 31, 30, 29,  1, 31, 32, 26, 82,  2,  0, 27, 26, 27,  1, 58, 27,\n       58, 82, 59, 58, 26,  1, 59, 14, 60, 82, 61, 60, 59,  1, 58, 26, 31,\n       82, 26, 32, 31,  1, 32, 22, 82,  2,  0, 27, 59, 82, 62, 15,  1, 59,\n       60, 61, 82, 62, 14, 56,  1, 57, 56, 62, 82, 61, 15,  1, 59, 60, 61,\n       82, 56, 61, 59,  1, 58, 26, 59, 82,  2,  0, 62, 15,  1, 59]), array([ 1, 60, 59, 27, 59, 82, 60, 62, 59, 27,  1, 27, 26, 26, 14, 22, 82,\n        2,  0, 56, 14, 60, 56,  1, 56, 62, 60, 61, 82, 62, 14, 59, 62,  1,\n       27, 62, 59, 62, 82, 56, 14, 60, 56,  1, 56, 62, 56, 57, 82, 62, 60,\n       59, 27,  1, 27, 26, 26, 14, 82,  2,  0, 56, 62, 56, 57,  1, 56, 62,\n       60, 61, 82, 62, 14, 56, 61,  1, 62, 60, 59, 27, 82, 59, 60, 62, 56,\n        1, 57, 62, 56, 61, 82, 62, 60, 59, 27,  1, 27, 26, 26, 14]), array([14, 31,  1, 27, 26, 31, 82, 32, 31, 32,  1, 32, 31, 29, 82,  2,  0,\n       26, 14, 31,  1, 27, 14, 31, 82, 26, 14, 32,  1, 31, 30, 29, 82, 32,\n       26, 27,  1, 58, 26, 31, 82, 32, 31, 32,  1, 26, 31, 29, 22, 82,  2,\n        0, 59, 61, 56,  1, 56, 61, 59, 82, 59, 54, 58, 59,  1, 60, 58, 26,\n       82, 32, 26, 27,  1, 58, 26, 31, 82, 32, 31, 32,  1, 26, 31, 29, 82,\n        2,  0, 59, 61, 56,  1, 56, 61, 56, 82, 62, 60, 62,  1, 61]), array([73, 67, 64, 69, 62,  1, 26, 74, 67, 60, 60, 71,  0, 51, 22,  1, 64,\n       59, 22, 59, 58,  9, 65, 64, 62,  9, 20, 14,  0, 38, 22, 18, 11, 20,\n        0, 37, 22, 13, 11, 20,  0, 36, 22, 29,  1, 38, 56, 65, 70, 73,  0,\n       60, 82, 61, 59, 59,  1, 58, 26, 26, 82, 27, 32, 32,  1, 26, 14, 32,\n       82, 31, 26, 26,  1, 59, 60, 61, 82, 62, 61, 62,  1, 60, 56, 56, 82,\n        2,  0, 61, 59, 59,  1, 58, 26, 26, 82, 27, 32, 32,  1, 26]), array([27, 82, 27, 14, 32, 27,  1, 26, 29, 31, 26, 82, 27, 14, 32, 27,  1,\n       30, 27, 32, 27, 82, 27, 58, 59, 27,  1, 26, 29, 31, 26, 82,  2,  0,\n       27, 14, 32, 27,  1, 30, 27, 32, 27, 82, 27, 14, 32, 27,  1, 26, 29,\n       31, 26, 82, 27, 26, 32, 31,  1, 32, 26, 27, 58, 82, 59, 58, 59, 27,\n        1, 26, 29, 31, 26, 82, 53,  2,  0,  0, 49, 22, 14, 16, 18,  0, 45,\n       22, 38, 70, 73, 69, 64, 69, 62,  1, 44, 75, 56, 73,  0, 51]), array([82, 59, 60, 61,  1, 56, 62, 61,  1, 56, 62, 61, 82, 57, 62, 61,  1,\n       60, 14, 61,  1, 62, 61, 60, 22, 82,  2,  0, 59, 61, 60,  1, 59, 26,\n       31,  1, 32, 31, 30, 82, 59, 61, 60,  1, 59, 26, 31,  1, 27, 32, 30,\n       82, 59, 61, 60,  1, 59, 26, 31,  1, 32, 31, 30, 82, 27, 26, 27,  1,\n       30, 14, 31,  1, 32, 31, 30, 22, 82,  2,  0, 29, 31, 26,  1, 61, 60,\n       59,  1, 31, 32, 30, 82, 29, 31, 26,  1, 59, 26, 31,  1, 30]), array([12, 17,  0, 45, 22, 43, 60, 59,  1, 28, 73, 70, 78,  0, 51, 22,  1,\n       64, 59, 22, 59, 58,  9, 73, 60, 60, 67,  9, 14, 20, 14,  0, 38, 22,\n       28,  0, 37, 22, 13, 11, 20,  0, 36, 22, 26,  1, 29, 70, 73, 64, 56,\n       69,  0, 27,  8, 32,  8, 82, 26,  8, 14, 30, 26,  8,  1, 27,  8, 32,\n        8, 32,  8, 27,  8, 82, 26,  8, 14, 30, 32,  1, 31, 29, 30, 32, 82,\n       26, 32, 30, 29,  1, 30, 26,  8, 26,  8, 29, 82, 30, 28, 29]), array([14, 60, 82, 61, 15,  1, 60, 15, 82, 59, 58, 26,  1, 32, 30, 26, 82,\n       29, 30, 29,  1, 29, 14, 22, 82,  2,  0,  0, 49, 22, 16, 21,  0, 45,\n       22, 32, 60, 60, 74, 60,  1, 64, 69,  1, 75, 63, 60,  1, 27, 70, 62,\n        0, 51, 22,  1, 64, 59, 22, 59, 58,  9, 65, 64, 62,  9, 13, 18, 16,\n        0, 38, 22, 18, 11, 20,  0, 37, 22, 13, 11, 20,  0, 36, 22, 26,  1,\n       29, 70, 73, 64, 56, 69,  0, 27, 82, 58, 30, 30,  1, 32, 30]), array([56, 14,  1, 60, 61, 56, 60, 82, 61, 56, 60, 61,  1, 56, 60, 61, 60,\n       82, 56, 14, 56, 14,  1, 60, 61, 56, 60, 82, 61, 56, 60, 58,  1, 27,\n       14, 26, 14, 22, 82,  2,  0, 58, 59, 60, 58,  1, 59, 60, 61, 59, 82,\n       58, 59, 60, 58,  1, 27, 58, 59, 27, 82, 58, 59, 60, 58,  1, 59, 60,\n       61, 59, 82, 60, 56, 60, 58,  1, 27, 14, 26, 14, 22, 82,  2,  0,  0,\n       49, 22, 13, 16, 17,  0, 45, 22, 33, 70, 67, 80,  1, 37, 56])]\nx [[ 0 49 22 ... 26 14 29]\n [59 82 60 ... 59 27 82]\n [ 0  0 49 ... 59 82 58]\n ...\n [15 12 17 ... 82 30 28]\n [59 14 60 ... 30  1 32]\n [14 56 14 ... 80  1 37]]\ny [[49 22 13 ... 14 29 82]\n [82 60 59 ... 27 82 27]\n [ 0 49 22 ... 82 58 26]\n ...\n [12 17  0 ... 30 28 29]\n [14 60 82 ...  1 32 30]\n [56 14  1 ...  1 37 56]]\nInput shape:       (32, 100)  # (batch_size, sequence_length)\nPrediction shape:  (32, 100, 83) # (batch_size, sequence_length, vocab_size)\n"
          ]
        }
      ]
    },
    {
      "cell_type": "markdown",
      "metadata": {
        "id": "mT1HvFVUGpoE"
      },
      "source": [
        "### Predictions from the untrained model\n",
        "\n",
        "Let's take a look at what our untrained model is predicting.\n",
        "\n",
        "To get actual predictions from the model, we sample from the output distribution, which is defined by a `softmax` over our character vocabulary. This will give us actual character indices. This means we are using a [categorical distribution](https://en.wikipedia.org/wiki/Categorical_distribution) to sample over the example prediction. This gives a prediction of the next character (specifically its index) at each timestep.\n",
        "\n",
        "Note here that we sample from this probability distribution, as opposed to simply taking the `argmax`, which can cause the model to get stuck in a loop.\n",
        "\n",
        "Let's try this sampling out for the first example in the batch."
      ]
    },
    {
      "cell_type": "code",
      "metadata": {
        "id": "4V4MfFg0RQJg"
      },
      "source": [
        "print(pred[0])\n",
        "sampled_indices = tf.random.categorical(pred[0], num_samples=1)\n",
        "sampled_indices = tf.squeeze(sampled_indices,axis=-1).numpy()\n",
        "sampled_indices"
      ],
      "execution_count": 50,
      "outputs": [
        {
          "output_type": "stream",
          "name": "stdout",
          "text": [
            "tf.Tensor(\n[[0.5181671  0.51425666 0.48942006 ... 0.50639397 0.4934119  0.49811697]\n [0.50170165 0.49266663 0.4890193  ... 0.5117327  0.48872456 0.50047386]\n [0.49215192 0.5123549  0.49170062 ... 0.50811917 0.50444865 0.4944109 ]\n ...\n [0.4923746  0.50493246 0.48518187 ... 0.50327927 0.5128138  0.50531924]\n [0.49140546 0.49761713 0.4928616  ... 0.49508744 0.5043965  0.49629372]\n [0.5134918  0.5172177  0.49656028 ... 0.50008357 0.5185192  0.50167453]], shape=(100, 83), dtype=float32)\n"
          ]
        },
        {
          "output_type": "execute_result",
          "data": {
            "text/plain": [
              "array([70, 69, 49, 66, 43, 29, 39, 69, 21, 19, 47, 69, 32, 31, 59, 64, 15,\n",
              "       15, 40, 51, 50, 35,  1, 29, 11, 57, 61, 41, 65, 48, 66, 25, 55, 24,\n",
              "       43, 22, 50, 31, 49, 32, 51, 29,  9, 54,  0, 41, 30,  4, 29, 47, 55,\n",
              "       21, 80, 35, 68, 55, 24, 73, 35, 44, 66, 29, 60, 30,  7, 15, 28, 25,\n",
              "       60, 52, 12,  4, 28, 30,  3,  5, 77, 34, 28, 31, 10, 33, 39, 14, 49,\n",
              "       31, 35, 16, 10, 42,  2, 63, 15, 57, 27, 41, 13, 26, 22, 44],\n",
              "      dtype=int64)"
            ]
          },
          "metadata": {},
          "execution_count": 50
        }
      ]
    },
    {
      "cell_type": "markdown",
      "metadata": {
        "id": "LfLtsP3mUhCG"
      },
      "source": [
        "We can now decode these to see the text predicted by the untrained model:"
      ]
    },
    {
      "cell_type": "code",
      "metadata": {
        "id": "xWcFwPwLSo05"
      },
      "source": [
        "print(\"Input: \\n\", repr(\"\".join(idx2char[x[0]])))\n",
        "print()\n",
        "print(\"Next Char Predictions: \\n\", repr(\"\".join(idx2char[sampled_indices])))"
      ],
      "execution_count": 51,
      "outputs": [
        {
          "output_type": "stream",
          "name": "stdout",
          "text": [
            "Input: \n '\\nX:12\\nT:Give Us a Drink of Water\\nZ: id:dc-slipjig-12\\nM:9/8\\nL:1/8\\nK:G Major\\nD|GBd gdc BAG|BdB cAA A2D'\n\nNext Char Predictions: \n 'onXkRDNn97VnGFdi33OZYJ D/bfPjWk>_=R:YFXGZD-^\\nPE#DV_9yJm_=rJSkDeE)3C>e[0#CE\"\\'vICF.HN2XFJ4.Q!h3bBP1A:S'\n"
          ]
        }
      ]
    },
    {
      "cell_type": "markdown",
      "metadata": {
        "id": "HEHHcRasIDm9"
      },
      "source": [
        "As you can see, the text predicted by the untrained model is pretty nonsensical! How can we do better? We can train the network!"
      ]
    },
    {
      "cell_type": "markdown",
      "metadata": {
        "id": "LJL0Q0YPY6Ee"
      },
      "source": [
        "## 2.5 Training the model: loss and training operations\n",
        "\n",
        "Now it's time to train the model!\n",
        "\n",
        "At this point, we can think of our next character prediction problem as a standard classification problem. Given the previous state of the RNN, as well as the input at a given time step, we want to predict the class of the next character -- that is, to actually predict the next character. \n",
        "\n",
        "To train our model on this classification task, we can use a form of the `crossentropy` loss (negative log likelihood loss). Specifically, we will use the [`sparse_categorical_crossentropy`](https://www.tensorflow.org/api_docs/python/tf/keras/losses/sparse_categorical_crossentropy) loss, as it utilizes integer targets for categorical classification tasks. We will want to compute the loss using the true targets -- the `labels` -- and the predicted targets -- the `logits`.\n",
        "\n",
        "Let's first compute the loss using our example predictions from the untrained model: "
      ]
    },
    {
      "cell_type": "code",
      "metadata": {
        "id": "4HrXTACTdzY-"
      },
      "source": [
        "### Defining the loss function ###\n",
        "\n",
        "'''TODO: define the loss function to compute and return the loss between\n",
        "    the true labels and predictions (logits). Set the argument from_logits=True.'''\n",
        "def compute_loss(labels, logits):\n",
        "  #first arg is label(ground truth), second arg is logit(prediction)\n",
        "  loss = tf.keras.losses.sparse_categorical_crossentropy(labels, logits, from_logits=True) # TODO\n",
        "  return loss\n",
        "\n",
        "'''TODO: compute the loss using the true next characters from the example batch \n",
        "    and the predictions from the untrained model several cells above'''\n",
        "\n",
        "example_batch_loss = compute_loss(y, pred)\n",
        "\n",
        "print(\"Prediction shape: \", pred.shape, \" # (batch_size, sequence_length, vocab_size)\") \n",
        "print(\"scalar_loss:      \", example_batch_loss.numpy().mean())"
      ],
      "execution_count": 52,
      "outputs": [
        {
          "output_type": "stream",
          "name": "stdout",
          "text": [
            "Prediction shape:  (32, 100, 83)  # (batch_size, sequence_length, vocab_size)\nscalar_loss:       4.419172\n"
          ]
        }
      ]
    },
    {
      "cell_type": "markdown",
      "metadata": {
        "id": "0Seh7e6eRqd7"
      },
      "source": [
        "Let's start by defining some hyperparameters for training the model. To start, we have provided some reasonable values for some of the parameters. It is up to you to use what we've learned in class to help optimize the parameter selection here!"
      ]
    },
    {
      "cell_type": "code",
      "metadata": {
        "id": "JQWUUhKotkAY"
      },
      "source": [
        "### Hyperparameter setting and optimization ###\n",
        "\n",
        "# Optimization parameters:\n",
        "num_training_iterations = 2000  # Increase this to train longer\n",
        "batch_size = 4  # Experiment between 1 and 64\n",
        "seq_length = 100  # Experiment between 50 and 500\n",
        "learning_rate = 5e-3  # Experiment between 1e-5 and 1e-1\n",
        "\n",
        "# Model parameters: \n",
        "vocab_size = len(vocab)\n",
        "embedding_dim = 256 \n",
        "rnn_units = 1024  # Experiment between 1 and 2048\n",
        "\n",
        "# Checkpoint location: \n",
        "checkpoint_dir = './training_checkpoints'\n",
        "checkpoint_prefix = os.path.join(checkpoint_dir, \"my_ckpt\")\n",
        "\n"
      ],
      "execution_count": 53,
      "outputs": []
    },
    {
      "cell_type": "markdown",
      "metadata": {
        "id": "5cu11p1MKYZd"
      },
      "source": [
        "Now, we are ready to define our training operation -- the optimizer and duration of training -- and use this function to train the model. You will experiment with the choice of optimizer and the duration for which you train your models, and see how these changes affect the network's output. Some optimizers you may like to try are [`Adam`](https://www.tensorflow.org/api_docs/python/tf/keras/optimizers/Adam?version=stable) and [`Adagrad`](https://www.tensorflow.org/api_docs/python/tf/keras/optimizers/Adagrad?version=stable).\n",
        "\n",
        "First, we will instantiate a new model and an optimizer. Then, we will use the [`tf.GradientTape`](https://www.tensorflow.org/api_docs/python/tf/GradientTape) method to perform the backpropagation operations. \n",
        "\n",
        "We will also generate a print-out of the model's progress through training, which will help us easily visualize whether or not we are minimizing the loss."
      ]
    },
    {
      "cell_type": "code",
      "metadata": {
        "id": "F31vzJ_u66cb",
        "tags": [
          "outputPrepend"
        ]
      },
      "source": [
        "### Define optimizer and training operation ###\n",
        "\n",
        "'''TODO: instantiate a new model for training using the `build_model`\n",
        "  function and the hyperparameters created above.'''\n",
        "model = build_model(vocab_size, embedding_dim, rnn_units, batch_size)\n",
        "print('trainable', model.trainable_variables)\n",
        "\n",
        "'''TODO: instantiate an optimizer with its learning rate.\n",
        "  Checkout the tensorflow website for a list of supported optimizers.\n",
        "  https://www.tensorflow.org/api_docs/python/tf/keras/optimizers/\n",
        "  Try using the Adam optimizer to start.'''\n",
        "optimizer = tf.keras.optimizers.Adam(learning_rate)\n",
        "\n",
        "@tf.function\n",
        "def train_step(x, y): \n",
        "  # Use tf.GradientTape()\n",
        "  with tf.GradientTape() as tape:\n",
        "  \n",
        "    '''TODO: feed the current input into the model and generate predictions'''\n",
        "    y_hat = model(x)\n",
        "  \n",
        "    '''TODO: compute the loss!'''\n",
        "    #y contains expected (does not update), y_hat is actual (updated)\n",
        "    loss = compute_loss(y, y_hat)\n",
        "\n",
        "  # Now, compute the gradients \n",
        "  '''TODO: complete the function call for gradient computation. \n",
        "      Remember that we want the gradient of the loss with respect all \n",
        "      of the model parameters. \n",
        "      HINT: use `model.trainable_variables` to get a list of all model\n",
        "      parameters.'''\n",
        "  grads = tape.gradient(loss, model.trainable_variables)\n",
        "  \n",
        "  # Apply the gradients to the optimizer so it can update the model accordingly\n",
        "  optimizer.apply_gradients(zip(grads, model.trainable_variables))\n",
        "  return loss\n",
        "\n",
        "##################\n",
        "# Begin training!#\n",
        "##################\n",
        "\n",
        "history = []\n",
        "plotter = mdl.util.PeriodicPlotter(sec=2, xlabel='Iterations', ylabel='Loss')\n",
        "if hasattr(tqdm, '_instances'): tqdm._instances.clear() # clear if it exists\n",
        "\n",
        "for iter in tqdm(range(num_training_iterations)):\n",
        "\n",
        "  # Grab a batch and propagate it through the network\n",
        "  x_batch, y_batch = get_batch(vectorized_songs, seq_length, batch_size)\n",
        "  loss = train_step(x_batch, y_batch)\n",
        "\n",
        "  # Update the progress bar\n",
        "  history.append(loss.numpy().mean())\n",
        "  plotter.plot(history)\n",
        "\n",
        "  # Update the model with the changed weights!\n",
        "  if iter % 100 == 0:     \n",
        "    model.save_weights(checkpoint_prefix)\n",
        "    \n",
        "# Save the trained model and the weights\n",
        "model.save_weights(checkpoint_prefix)\n"
      ],
      "execution_count": 56,
      "outputs": [
        {
          "output_type": "display_data",
          "data": {
            "text/plain": "<Figure size 432x288 with 1 Axes>",
            "image/svg+xml": "<?xml version=\"1.0\" encoding=\"utf-8\" standalone=\"no\"?>\r\n<!DOCTYPE svg PUBLIC \"-//W3C//DTD SVG 1.1//EN\"\r\n  \"http://www.w3.org/Graphics/SVG/1.1/DTD/svg11.dtd\">\r\n<!-- Created with matplotlib (https://matplotlib.org/) -->\r\n<svg height=\"262.934558pt\" version=\"1.1\" viewBox=\"0 0 393.18735 262.934558\" width=\"393.18735pt\" xmlns=\"http://www.w3.org/2000/svg\" xmlns:xlink=\"http://www.w3.org/1999/xlink\">\r\n <metadata>\r\n  <rdf:RDF xmlns:cc=\"http://creativecommons.org/ns#\" xmlns:dc=\"http://purl.org/dc/elements/1.1/\" xmlns:rdf=\"http://www.w3.org/1999/02/22-rdf-syntax-ns#\">\r\n   <cc:Work>\r\n    <dc:type rdf:resource=\"http://purl.org/dc/dcmitype/StillImage\"/>\r\n    <dc:date>2021-03-14T19:08:58.818741</dc:date>\r\n    <dc:format>image/svg+xml</dc:format>\r\n    <dc:creator>\r\n     <cc:Agent>\r\n      <dc:title>Matplotlib v3.3.2, https://matplotlib.org/</dc:title>\r\n     </cc:Agent>\r\n    </dc:creator>\r\n   </cc:Work>\r\n  </rdf:RDF>\r\n </metadata>\r\n <defs>\r\n  <style type=\"text/css\">*{stroke-linecap:butt;stroke-linejoin:round;}</style>\r\n </defs>\r\n <g id=\"figure_1\">\r\n  <g id=\"patch_1\">\r\n   <path d=\"M 0 262.934558 \r\nL 393.18735 262.934558 \r\nL 393.18735 0 \r\nL 0 0 \r\nz\r\n\" style=\"fill:none;\"/>\r\n  </g>\r\n  <g id=\"axes_1\">\r\n   <g id=\"patch_2\">\r\n    <path d=\"M 43.78125 225.378308 \r\nL 378.58125 225.378308 \r\nL 378.58125 7.938308 \r\nL 43.78125 7.938308 \r\nz\r\n\" style=\"fill:#ffffff;\"/>\r\n   </g>\r\n   <g id=\"matplotlib.axis_1\">\r\n    <g id=\"xtick_1\">\r\n     <g id=\"line2d_1\">\r\n      <defs>\r\n       <path d=\"M 0 0 \r\nL 0 3.5 \r\n\" id=\"m8e860a9725\" style=\"stroke:#000000;stroke-width:0.8;\"/>\r\n      </defs>\r\n      <g>\r\n       <use style=\"stroke:#000000;stroke-width:0.8;\" x=\"58.999432\" xlink:href=\"#m8e860a9725\" y=\"225.378308\"/>\r\n      </g>\r\n     </g>\r\n     <g id=\"text_1\">\r\n      <!-- 0 -->\r\n      <g transform=\"translate(55.818182 239.976745)scale(0.1 -0.1)\">\r\n       <defs>\r\n        <path d=\"M 31.78125 66.40625 \r\nQ 24.171875 66.40625 20.328125 58.90625 \r\nQ 16.5 51.421875 16.5 36.375 \r\nQ 16.5 21.390625 20.328125 13.890625 \r\nQ 24.171875 6.390625 31.78125 6.390625 \r\nQ 39.453125 6.390625 43.28125 13.890625 \r\nQ 47.125 21.390625 47.125 36.375 \r\nQ 47.125 51.421875 43.28125 58.90625 \r\nQ 39.453125 66.40625 31.78125 66.40625 \r\nz\r\nM 31.78125 74.21875 \r\nQ 44.046875 74.21875 50.515625 64.515625 \r\nQ 56.984375 54.828125 56.984375 36.375 \r\nQ 56.984375 17.96875 50.515625 8.265625 \r\nQ 44.046875 -1.421875 31.78125 -1.421875 \r\nQ 19.53125 -1.421875 13.0625 8.265625 \r\nQ 6.59375 17.96875 6.59375 36.375 \r\nQ 6.59375 54.828125 13.0625 64.515625 \r\nQ 19.53125 74.21875 31.78125 74.21875 \r\nz\r\n\" id=\"DejaVuSans-48\"/>\r\n       </defs>\r\n       <use xlink:href=\"#DejaVuSans-48\"/>\r\n      </g>\r\n     </g>\r\n    </g>\r\n    <g id=\"xtick_2\">\r\n     <g id=\"line2d_2\">\r\n      <g>\r\n       <use style=\"stroke:#000000;stroke-width:0.8;\" x=\"98.282297\" xlink:href=\"#m8e860a9725\" y=\"225.378308\"/>\r\n      </g>\r\n     </g>\r\n     <g id=\"text_2\">\r\n      <!-- 250 -->\r\n      <g transform=\"translate(88.738547 239.976745)scale(0.1 -0.1)\">\r\n       <defs>\r\n        <path d=\"M 19.1875 8.296875 \r\nL 53.609375 8.296875 \r\nL 53.609375 0 \r\nL 7.328125 0 \r\nL 7.328125 8.296875 \r\nQ 12.9375 14.109375 22.625 23.890625 \r\nQ 32.328125 33.6875 34.8125 36.53125 \r\nQ 39.546875 41.84375 41.421875 45.53125 \r\nQ 43.3125 49.21875 43.3125 52.78125 \r\nQ 43.3125 58.59375 39.234375 62.25 \r\nQ 35.15625 65.921875 28.609375 65.921875 \r\nQ 23.96875 65.921875 18.8125 64.3125 \r\nQ 13.671875 62.703125 7.8125 59.421875 \r\nL 7.8125 69.390625 \r\nQ 13.765625 71.78125 18.9375 73 \r\nQ 24.125 74.21875 28.421875 74.21875 \r\nQ 39.75 74.21875 46.484375 68.546875 \r\nQ 53.21875 62.890625 53.21875 53.421875 \r\nQ 53.21875 48.921875 51.53125 44.890625 \r\nQ 49.859375 40.875 45.40625 35.40625 \r\nQ 44.1875 33.984375 37.640625 27.21875 \r\nQ 31.109375 20.453125 19.1875 8.296875 \r\nz\r\n\" id=\"DejaVuSans-50\"/>\r\n        <path d=\"M 10.796875 72.90625 \r\nL 49.515625 72.90625 \r\nL 49.515625 64.59375 \r\nL 19.828125 64.59375 \r\nL 19.828125 46.734375 \r\nQ 21.96875 47.46875 24.109375 47.828125 \r\nQ 26.265625 48.1875 28.421875 48.1875 \r\nQ 40.625 48.1875 47.75 41.5 \r\nQ 54.890625 34.8125 54.890625 23.390625 \r\nQ 54.890625 11.625 47.5625 5.09375 \r\nQ 40.234375 -1.421875 26.90625 -1.421875 \r\nQ 22.3125 -1.421875 17.546875 -0.640625 \r\nQ 12.796875 0.140625 7.71875 1.703125 \r\nL 7.71875 11.625 \r\nQ 12.109375 9.234375 16.796875 8.0625 \r\nQ 21.484375 6.890625 26.703125 6.890625 \r\nQ 35.15625 6.890625 40.078125 11.328125 \r\nQ 45.015625 15.765625 45.015625 23.390625 \r\nQ 45.015625 31 40.078125 35.4375 \r\nQ 35.15625 39.890625 26.703125 39.890625 \r\nQ 22.75 39.890625 18.8125 39.015625 \r\nQ 14.890625 38.140625 10.796875 36.28125 \r\nz\r\n\" id=\"DejaVuSans-53\"/>\r\n       </defs>\r\n       <use xlink:href=\"#DejaVuSans-50\"/>\r\n       <use x=\"63.623047\" xlink:href=\"#DejaVuSans-53\"/>\r\n       <use x=\"127.246094\" xlink:href=\"#DejaVuSans-48\"/>\r\n      </g>\r\n     </g>\r\n    </g>\r\n    <g id=\"xtick_3\">\r\n     <g id=\"line2d_3\">\r\n      <g>\r\n       <use style=\"stroke:#000000;stroke-width:0.8;\" x=\"137.565161\" xlink:href=\"#m8e860a9725\" y=\"225.378308\"/>\r\n      </g>\r\n     </g>\r\n     <g id=\"text_3\">\r\n      <!-- 500 -->\r\n      <g transform=\"translate(128.021411 239.976745)scale(0.1 -0.1)\">\r\n       <use xlink:href=\"#DejaVuSans-53\"/>\r\n       <use x=\"63.623047\" xlink:href=\"#DejaVuSans-48\"/>\r\n       <use x=\"127.246094\" xlink:href=\"#DejaVuSans-48\"/>\r\n      </g>\r\n     </g>\r\n    </g>\r\n    <g id=\"xtick_4\">\r\n     <g id=\"line2d_4\">\r\n      <g>\r\n       <use style=\"stroke:#000000;stroke-width:0.8;\" x=\"176.848026\" xlink:href=\"#m8e860a9725\" y=\"225.378308\"/>\r\n      </g>\r\n     </g>\r\n     <g id=\"text_4\">\r\n      <!-- 750 -->\r\n      <g transform=\"translate(167.304276 239.976745)scale(0.1 -0.1)\">\r\n       <defs>\r\n        <path d=\"M 8.203125 72.90625 \r\nL 55.078125 72.90625 \r\nL 55.078125 68.703125 \r\nL 28.609375 0 \r\nL 18.3125 0 \r\nL 43.21875 64.59375 \r\nL 8.203125 64.59375 \r\nz\r\n\" id=\"DejaVuSans-55\"/>\r\n       </defs>\r\n       <use xlink:href=\"#DejaVuSans-55\"/>\r\n       <use x=\"63.623047\" xlink:href=\"#DejaVuSans-53\"/>\r\n       <use x=\"127.246094\" xlink:href=\"#DejaVuSans-48\"/>\r\n      </g>\r\n     </g>\r\n    </g>\r\n    <g id=\"xtick_5\">\r\n     <g id=\"line2d_5\">\r\n      <g>\r\n       <use style=\"stroke:#000000;stroke-width:0.8;\" x=\"216.130891\" xlink:href=\"#m8e860a9725\" y=\"225.378308\"/>\r\n      </g>\r\n     </g>\r\n     <g id=\"text_5\">\r\n      <!-- 1000 -->\r\n      <g transform=\"translate(203.405891 239.976745)scale(0.1 -0.1)\">\r\n       <defs>\r\n        <path d=\"M 12.40625 8.296875 \r\nL 28.515625 8.296875 \r\nL 28.515625 63.921875 \r\nL 10.984375 60.40625 \r\nL 10.984375 69.390625 \r\nL 28.421875 72.90625 \r\nL 38.28125 72.90625 \r\nL 38.28125 8.296875 \r\nL 54.390625 8.296875 \r\nL 54.390625 0 \r\nL 12.40625 0 \r\nz\r\n\" id=\"DejaVuSans-49\"/>\r\n       </defs>\r\n       <use xlink:href=\"#DejaVuSans-49\"/>\r\n       <use x=\"63.623047\" xlink:href=\"#DejaVuSans-48\"/>\r\n       <use x=\"127.246094\" xlink:href=\"#DejaVuSans-48\"/>\r\n       <use x=\"190.869141\" xlink:href=\"#DejaVuSans-48\"/>\r\n      </g>\r\n     </g>\r\n    </g>\r\n    <g id=\"xtick_6\">\r\n     <g id=\"line2d_6\">\r\n      <g>\r\n       <use style=\"stroke:#000000;stroke-width:0.8;\" x=\"255.413756\" xlink:href=\"#m8e860a9725\" y=\"225.378308\"/>\r\n      </g>\r\n     </g>\r\n     <g id=\"text_6\">\r\n      <!-- 1250 -->\r\n      <g transform=\"translate(242.688756 239.976745)scale(0.1 -0.1)\">\r\n       <use xlink:href=\"#DejaVuSans-49\"/>\r\n       <use x=\"63.623047\" xlink:href=\"#DejaVuSans-50\"/>\r\n       <use x=\"127.246094\" xlink:href=\"#DejaVuSans-53\"/>\r\n       <use x=\"190.869141\" xlink:href=\"#DejaVuSans-48\"/>\r\n      </g>\r\n     </g>\r\n    </g>\r\n    <g id=\"xtick_7\">\r\n     <g id=\"line2d_7\">\r\n      <g>\r\n       <use style=\"stroke:#000000;stroke-width:0.8;\" x=\"294.696621\" xlink:href=\"#m8e860a9725\" y=\"225.378308\"/>\r\n      </g>\r\n     </g>\r\n     <g id=\"text_7\">\r\n      <!-- 1500 -->\r\n      <g transform=\"translate(281.971621 239.976745)scale(0.1 -0.1)\">\r\n       <use xlink:href=\"#DejaVuSans-49\"/>\r\n       <use x=\"63.623047\" xlink:href=\"#DejaVuSans-53\"/>\r\n       <use x=\"127.246094\" xlink:href=\"#DejaVuSans-48\"/>\r\n       <use x=\"190.869141\" xlink:href=\"#DejaVuSans-48\"/>\r\n      </g>\r\n     </g>\r\n    </g>\r\n    <g id=\"xtick_8\">\r\n     <g id=\"line2d_8\">\r\n      <g>\r\n       <use style=\"stroke:#000000;stroke-width:0.8;\" x=\"333.979485\" xlink:href=\"#m8e860a9725\" y=\"225.378308\"/>\r\n      </g>\r\n     </g>\r\n     <g id=\"text_8\">\r\n      <!-- 1750 -->\r\n      <g transform=\"translate(321.254485 239.976745)scale(0.1 -0.1)\">\r\n       <use xlink:href=\"#DejaVuSans-49\"/>\r\n       <use x=\"63.623047\" xlink:href=\"#DejaVuSans-55\"/>\r\n       <use x=\"127.246094\" xlink:href=\"#DejaVuSans-53\"/>\r\n       <use x=\"190.869141\" xlink:href=\"#DejaVuSans-48\"/>\r\n      </g>\r\n     </g>\r\n    </g>\r\n    <g id=\"xtick_9\">\r\n     <g id=\"line2d_9\">\r\n      <g>\r\n       <use style=\"stroke:#000000;stroke-width:0.8;\" x=\"373.26235\" xlink:href=\"#m8e860a9725\" y=\"225.378308\"/>\r\n      </g>\r\n     </g>\r\n     <g id=\"text_9\">\r\n      <!-- 2000 -->\r\n      <g transform=\"translate(360.53735 239.976745)scale(0.1 -0.1)\">\r\n       <use xlink:href=\"#DejaVuSans-50\"/>\r\n       <use x=\"63.623047\" xlink:href=\"#DejaVuSans-48\"/>\r\n       <use x=\"127.246094\" xlink:href=\"#DejaVuSans-48\"/>\r\n       <use x=\"190.869141\" xlink:href=\"#DejaVuSans-48\"/>\r\n      </g>\r\n     </g>\r\n    </g>\r\n    <g id=\"text_10\">\r\n     <!-- Iterations -->\r\n     <g transform=\"translate(187.367969 253.65487)scale(0.1 -0.1)\">\r\n      <defs>\r\n       <path d=\"M 9.8125 72.90625 \r\nL 19.671875 72.90625 \r\nL 19.671875 0 \r\nL 9.8125 0 \r\nz\r\n\" id=\"DejaVuSans-73\"/>\r\n       <path d=\"M 18.3125 70.21875 \r\nL 18.3125 54.6875 \r\nL 36.8125 54.6875 \r\nL 36.8125 47.703125 \r\nL 18.3125 47.703125 \r\nL 18.3125 18.015625 \r\nQ 18.3125 11.328125 20.140625 9.421875 \r\nQ 21.96875 7.515625 27.59375 7.515625 \r\nL 36.8125 7.515625 \r\nL 36.8125 0 \r\nL 27.59375 0 \r\nQ 17.1875 0 13.234375 3.875 \r\nQ 9.28125 7.765625 9.28125 18.015625 \r\nL 9.28125 47.703125 \r\nL 2.6875 47.703125 \r\nL 2.6875 54.6875 \r\nL 9.28125 54.6875 \r\nL 9.28125 70.21875 \r\nz\r\n\" id=\"DejaVuSans-116\"/>\r\n       <path d=\"M 56.203125 29.59375 \r\nL 56.203125 25.203125 \r\nL 14.890625 25.203125 \r\nQ 15.484375 15.921875 20.484375 11.0625 \r\nQ 25.484375 6.203125 34.421875 6.203125 \r\nQ 39.59375 6.203125 44.453125 7.46875 \r\nQ 49.3125 8.734375 54.109375 11.28125 \r\nL 54.109375 2.78125 \r\nQ 49.265625 0.734375 44.1875 -0.34375 \r\nQ 39.109375 -1.421875 33.890625 -1.421875 \r\nQ 20.796875 -1.421875 13.15625 6.1875 \r\nQ 5.515625 13.8125 5.515625 26.8125 \r\nQ 5.515625 40.234375 12.765625 48.109375 \r\nQ 20.015625 56 32.328125 56 \r\nQ 43.359375 56 49.78125 48.890625 \r\nQ 56.203125 41.796875 56.203125 29.59375 \r\nz\r\nM 47.21875 32.234375 \r\nQ 47.125 39.59375 43.09375 43.984375 \r\nQ 39.0625 48.390625 32.421875 48.390625 \r\nQ 24.90625 48.390625 20.390625 44.140625 \r\nQ 15.875 39.890625 15.1875 32.171875 \r\nz\r\n\" id=\"DejaVuSans-101\"/>\r\n       <path d=\"M 41.109375 46.296875 \r\nQ 39.59375 47.171875 37.8125 47.578125 \r\nQ 36.03125 48 33.890625 48 \r\nQ 26.265625 48 22.1875 43.046875 \r\nQ 18.109375 38.09375 18.109375 28.8125 \r\nL 18.109375 0 \r\nL 9.078125 0 \r\nL 9.078125 54.6875 \r\nL 18.109375 54.6875 \r\nL 18.109375 46.1875 \r\nQ 20.953125 51.171875 25.484375 53.578125 \r\nQ 30.03125 56 36.53125 56 \r\nQ 37.453125 56 38.578125 55.875 \r\nQ 39.703125 55.765625 41.0625 55.515625 \r\nz\r\n\" id=\"DejaVuSans-114\"/>\r\n       <path d=\"M 34.28125 27.484375 \r\nQ 23.390625 27.484375 19.1875 25 \r\nQ 14.984375 22.515625 14.984375 16.5 \r\nQ 14.984375 11.71875 18.140625 8.90625 \r\nQ 21.296875 6.109375 26.703125 6.109375 \r\nQ 34.1875 6.109375 38.703125 11.40625 \r\nQ 43.21875 16.703125 43.21875 25.484375 \r\nL 43.21875 27.484375 \r\nz\r\nM 52.203125 31.203125 \r\nL 52.203125 0 \r\nL 43.21875 0 \r\nL 43.21875 8.296875 \r\nQ 40.140625 3.328125 35.546875 0.953125 \r\nQ 30.953125 -1.421875 24.3125 -1.421875 \r\nQ 15.921875 -1.421875 10.953125 3.296875 \r\nQ 6 8.015625 6 15.921875 \r\nQ 6 25.140625 12.171875 29.828125 \r\nQ 18.359375 34.515625 30.609375 34.515625 \r\nL 43.21875 34.515625 \r\nL 43.21875 35.40625 \r\nQ 43.21875 41.609375 39.140625 45 \r\nQ 35.0625 48.390625 27.6875 48.390625 \r\nQ 23 48.390625 18.546875 47.265625 \r\nQ 14.109375 46.140625 10.015625 43.890625 \r\nL 10.015625 52.203125 \r\nQ 14.9375 54.109375 19.578125 55.046875 \r\nQ 24.21875 56 28.609375 56 \r\nQ 40.484375 56 46.34375 49.84375 \r\nQ 52.203125 43.703125 52.203125 31.203125 \r\nz\r\n\" id=\"DejaVuSans-97\"/>\r\n       <path d=\"M 9.421875 54.6875 \r\nL 18.40625 54.6875 \r\nL 18.40625 0 \r\nL 9.421875 0 \r\nz\r\nM 9.421875 75.984375 \r\nL 18.40625 75.984375 \r\nL 18.40625 64.59375 \r\nL 9.421875 64.59375 \r\nz\r\n\" id=\"DejaVuSans-105\"/>\r\n       <path d=\"M 30.609375 48.390625 \r\nQ 23.390625 48.390625 19.1875 42.75 \r\nQ 14.984375 37.109375 14.984375 27.296875 \r\nQ 14.984375 17.484375 19.15625 11.84375 \r\nQ 23.34375 6.203125 30.609375 6.203125 \r\nQ 37.796875 6.203125 41.984375 11.859375 \r\nQ 46.1875 17.53125 46.1875 27.296875 \r\nQ 46.1875 37.015625 41.984375 42.703125 \r\nQ 37.796875 48.390625 30.609375 48.390625 \r\nz\r\nM 30.609375 56 \r\nQ 42.328125 56 49.015625 48.375 \r\nQ 55.71875 40.765625 55.71875 27.296875 \r\nQ 55.71875 13.875 49.015625 6.21875 \r\nQ 42.328125 -1.421875 30.609375 -1.421875 \r\nQ 18.84375 -1.421875 12.171875 6.21875 \r\nQ 5.515625 13.875 5.515625 27.296875 \r\nQ 5.515625 40.765625 12.171875 48.375 \r\nQ 18.84375 56 30.609375 56 \r\nz\r\n\" id=\"DejaVuSans-111\"/>\r\n       <path d=\"M 54.890625 33.015625 \r\nL 54.890625 0 \r\nL 45.90625 0 \r\nL 45.90625 32.71875 \r\nQ 45.90625 40.484375 42.875 44.328125 \r\nQ 39.84375 48.1875 33.796875 48.1875 \r\nQ 26.515625 48.1875 22.3125 43.546875 \r\nQ 18.109375 38.921875 18.109375 30.90625 \r\nL 18.109375 0 \r\nL 9.078125 0 \r\nL 9.078125 54.6875 \r\nL 18.109375 54.6875 \r\nL 18.109375 46.1875 \r\nQ 21.34375 51.125 25.703125 53.5625 \r\nQ 30.078125 56 35.796875 56 \r\nQ 45.21875 56 50.046875 50.171875 \r\nQ 54.890625 44.34375 54.890625 33.015625 \r\nz\r\n\" id=\"DejaVuSans-110\"/>\r\n       <path d=\"M 44.28125 53.078125 \r\nL 44.28125 44.578125 \r\nQ 40.484375 46.53125 36.375 47.5 \r\nQ 32.28125 48.484375 27.875 48.484375 \r\nQ 21.1875 48.484375 17.84375 46.4375 \r\nQ 14.5 44.390625 14.5 40.28125 \r\nQ 14.5 37.15625 16.890625 35.375 \r\nQ 19.28125 33.59375 26.515625 31.984375 \r\nL 29.59375 31.296875 \r\nQ 39.15625 29.25 43.1875 25.515625 \r\nQ 47.21875 21.78125 47.21875 15.09375 \r\nQ 47.21875 7.46875 41.1875 3.015625 \r\nQ 35.15625 -1.421875 24.609375 -1.421875 \r\nQ 20.21875 -1.421875 15.453125 -0.5625 \r\nQ 10.6875 0.296875 5.421875 2 \r\nL 5.421875 11.28125 \r\nQ 10.40625 8.6875 15.234375 7.390625 \r\nQ 20.0625 6.109375 24.8125 6.109375 \r\nQ 31.15625 6.109375 34.5625 8.28125 \r\nQ 37.984375 10.453125 37.984375 14.40625 \r\nQ 37.984375 18.0625 35.515625 20.015625 \r\nQ 33.0625 21.96875 24.703125 23.78125 \r\nL 21.578125 24.515625 \r\nQ 13.234375 26.265625 9.515625 29.90625 \r\nQ 5.8125 33.546875 5.8125 39.890625 \r\nQ 5.8125 47.609375 11.28125 51.796875 \r\nQ 16.75 56 26.8125 56 \r\nQ 31.78125 56 36.171875 55.265625 \r\nQ 40.578125 54.546875 44.28125 53.078125 \r\nz\r\n\" id=\"DejaVuSans-115\"/>\r\n      </defs>\r\n      <use xlink:href=\"#DejaVuSans-73\"/>\r\n      <use x=\"29.492188\" xlink:href=\"#DejaVuSans-116\"/>\r\n      <use x=\"68.701172\" xlink:href=\"#DejaVuSans-101\"/>\r\n      <use x=\"130.224609\" xlink:href=\"#DejaVuSans-114\"/>\r\n      <use x=\"171.337891\" xlink:href=\"#DejaVuSans-97\"/>\r\n      <use x=\"232.617188\" xlink:href=\"#DejaVuSans-116\"/>\r\n      <use x=\"271.826172\" xlink:href=\"#DejaVuSans-105\"/>\r\n      <use x=\"299.609375\" xlink:href=\"#DejaVuSans-111\"/>\r\n      <use x=\"360.791016\" xlink:href=\"#DejaVuSans-110\"/>\r\n      <use x=\"424.169922\" xlink:href=\"#DejaVuSans-115\"/>\r\n     </g>\r\n    </g>\r\n   </g>\r\n   <g id=\"matplotlib.axis_2\">\r\n    <g id=\"ytick_1\">\r\n     <g id=\"line2d_10\">\r\n      <defs>\r\n       <path d=\"M 0 0 \r\nL -3.5 0 \r\n\" id=\"m9c613774d9\" style=\"stroke:#000000;stroke-width:0.8;\"/>\r\n      </defs>\r\n      <g>\r\n       <use style=\"stroke:#000000;stroke-width:0.8;\" x=\"43.78125\" xlink:href=\"#m9c613774d9\" y=\"186.388927\"/>\r\n      </g>\r\n     </g>\r\n     <g id=\"text_11\">\r\n      <!-- 2.5 -->\r\n      <g transform=\"translate(20.878125 190.188146)scale(0.1 -0.1)\">\r\n       <defs>\r\n        <path d=\"M 10.6875 12.40625 \r\nL 21 12.40625 \r\nL 21 0 \r\nL 10.6875 0 \r\nz\r\n\" id=\"DejaVuSans-46\"/>\r\n       </defs>\r\n       <use xlink:href=\"#DejaVuSans-50\"/>\r\n       <use x=\"63.623047\" xlink:href=\"#DejaVuSans-46\"/>\r\n       <use x=\"95.410156\" xlink:href=\"#DejaVuSans-53\"/>\r\n      </g>\r\n     </g>\r\n    </g>\r\n    <g id=\"ytick_2\">\r\n     <g id=\"line2d_11\">\r\n      <g>\r\n       <use style=\"stroke:#000000;stroke-width:0.8;\" x=\"43.78125\" xlink:href=\"#m9c613774d9\" y=\"142.5415\"/>\r\n      </g>\r\n     </g>\r\n     <g id=\"text_12\">\r\n      <!-- 3.0 -->\r\n      <g transform=\"translate(20.878125 146.340719)scale(0.1 -0.1)\">\r\n       <defs>\r\n        <path d=\"M 40.578125 39.3125 \r\nQ 47.65625 37.796875 51.625 33 \r\nQ 55.609375 28.21875 55.609375 21.1875 \r\nQ 55.609375 10.40625 48.1875 4.484375 \r\nQ 40.765625 -1.421875 27.09375 -1.421875 \r\nQ 22.515625 -1.421875 17.65625 -0.515625 \r\nQ 12.796875 0.390625 7.625 2.203125 \r\nL 7.625 11.71875 \r\nQ 11.71875 9.328125 16.59375 8.109375 \r\nQ 21.484375 6.890625 26.8125 6.890625 \r\nQ 36.078125 6.890625 40.9375 10.546875 \r\nQ 45.796875 14.203125 45.796875 21.1875 \r\nQ 45.796875 27.640625 41.28125 31.265625 \r\nQ 36.765625 34.90625 28.71875 34.90625 \r\nL 20.21875 34.90625 \r\nL 20.21875 43.015625 \r\nL 29.109375 43.015625 \r\nQ 36.375 43.015625 40.234375 45.921875 \r\nQ 44.09375 48.828125 44.09375 54.296875 \r\nQ 44.09375 59.90625 40.109375 62.90625 \r\nQ 36.140625 65.921875 28.71875 65.921875 \r\nQ 24.65625 65.921875 20.015625 65.03125 \r\nQ 15.375 64.15625 9.8125 62.3125 \r\nL 9.8125 71.09375 \r\nQ 15.4375 72.65625 20.34375 73.4375 \r\nQ 25.25 74.21875 29.59375 74.21875 \r\nQ 40.828125 74.21875 47.359375 69.109375 \r\nQ 53.90625 64.015625 53.90625 55.328125 \r\nQ 53.90625 49.265625 50.4375 45.09375 \r\nQ 46.96875 40.921875 40.578125 39.3125 \r\nz\r\n\" id=\"DejaVuSans-51\"/>\r\n       </defs>\r\n       <use xlink:href=\"#DejaVuSans-51\"/>\r\n       <use x=\"63.623047\" xlink:href=\"#DejaVuSans-46\"/>\r\n       <use x=\"95.410156\" xlink:href=\"#DejaVuSans-48\"/>\r\n      </g>\r\n     </g>\r\n    </g>\r\n    <g id=\"ytick_3\">\r\n     <g id=\"line2d_12\">\r\n      <g>\r\n       <use style=\"stroke:#000000;stroke-width:0.8;\" x=\"43.78125\" xlink:href=\"#m9c613774d9\" y=\"98.694073\"/>\r\n      </g>\r\n     </g>\r\n     <g id=\"text_13\">\r\n      <!-- 3.5 -->\r\n      <g transform=\"translate(20.878125 102.493292)scale(0.1 -0.1)\">\r\n       <use xlink:href=\"#DejaVuSans-51\"/>\r\n       <use x=\"63.623047\" xlink:href=\"#DejaVuSans-46\"/>\r\n       <use x=\"95.410156\" xlink:href=\"#DejaVuSans-53\"/>\r\n      </g>\r\n     </g>\r\n    </g>\r\n    <g id=\"ytick_4\">\r\n     <g id=\"line2d_13\">\r\n      <g>\r\n       <use style=\"stroke:#000000;stroke-width:0.8;\" x=\"43.78125\" xlink:href=\"#m9c613774d9\" y=\"54.846646\"/>\r\n      </g>\r\n     </g>\r\n     <g id=\"text_14\">\r\n      <!-- 4.0 -->\r\n      <g transform=\"translate(20.878125 58.645865)scale(0.1 -0.1)\">\r\n       <defs>\r\n        <path d=\"M 37.796875 64.3125 \r\nL 12.890625 25.390625 \r\nL 37.796875 25.390625 \r\nz\r\nM 35.203125 72.90625 \r\nL 47.609375 72.90625 \r\nL 47.609375 25.390625 \r\nL 58.015625 25.390625 \r\nL 58.015625 17.1875 \r\nL 47.609375 17.1875 \r\nL 47.609375 0 \r\nL 37.796875 0 \r\nL 37.796875 17.1875 \r\nL 4.890625 17.1875 \r\nL 4.890625 26.703125 \r\nz\r\n\" id=\"DejaVuSans-52\"/>\r\n       </defs>\r\n       <use xlink:href=\"#DejaVuSans-52\"/>\r\n       <use x=\"63.623047\" xlink:href=\"#DejaVuSans-46\"/>\r\n       <use x=\"95.410156\" xlink:href=\"#DejaVuSans-48\"/>\r\n      </g>\r\n     </g>\r\n    </g>\r\n    <g id=\"ytick_5\">\r\n     <g id=\"line2d_14\">\r\n      <g>\r\n       <use style=\"stroke:#000000;stroke-width:0.8;\" x=\"43.78125\" xlink:href=\"#m9c613774d9\" y=\"10.999219\"/>\r\n      </g>\r\n     </g>\r\n     <g id=\"text_15\">\r\n      <!-- 4.5 -->\r\n      <g transform=\"translate(20.878125 14.798437)scale(0.1 -0.1)\">\r\n       <use xlink:href=\"#DejaVuSans-52\"/>\r\n       <use x=\"63.623047\" xlink:href=\"#DejaVuSans-46\"/>\r\n       <use x=\"95.410156\" xlink:href=\"#DejaVuSans-53\"/>\r\n      </g>\r\n     </g>\r\n    </g>\r\n    <g id=\"text_16\">\r\n     <!-- Loss -->\r\n     <g transform=\"translate(14.798438 127.625495)rotate(-90)scale(0.1 -0.1)\">\r\n      <defs>\r\n       <path d=\"M 9.8125 72.90625 \r\nL 19.671875 72.90625 \r\nL 19.671875 8.296875 \r\nL 55.171875 8.296875 \r\nL 55.171875 0 \r\nL 9.8125 0 \r\nz\r\n\" id=\"DejaVuSans-76\"/>\r\n      </defs>\r\n      <use xlink:href=\"#DejaVuSans-76\"/>\r\n      <use x=\"53.962891\" xlink:href=\"#DejaVuSans-111\"/>\r\n      <use x=\"115.144531\" xlink:href=\"#DejaVuSans-115\"/>\r\n      <use x=\"167.244141\" xlink:href=\"#DejaVuSans-115\"/>\r\n     </g>\r\n    </g>\r\n   </g>\r\n   <g id=\"line2d_15\">\r\n    <path clip-path=\"url(#pdba7d4af03)\" d=\"M 58.999432 17.821944 \r\nL 59.942221 37.273444 \r\nL 60.413615 53.344066 \r\nL 60.727878 66.348642 \r\nL 60.885009 70.280658 \r\nL 62.299192 145.071984 \r\nL 62.456324 143.856681 \r\nL 62.770587 154.46954 \r\nL 62.927718 144.401169 \r\nL 63.241981 155.606187 \r\nL 63.399113 164.713246 \r\nL 63.556244 144.488335 \r\nL 63.870507 175.666468 \r\nL 64.027639 172.556119 \r\nL 64.18477 181.700185 \r\nL 64.341901 157.115855 \r\nL 64.656164 183.792603 \r\nL 64.970427 156.298893 \r\nL 65.28469 183.065525 \r\nL 65.441822 168.671 \r\nL 65.598953 172.593356 \r\nL 65.756085 169.153579 \r\nL 65.913216 183.448163 \r\nL 66.070347 176.066774 \r\nL 66.38461 177.294601 \r\nL 66.541742 183.098246 \r\nL 66.698873 174.393458 \r\nL 66.856005 187.170116 \r\nL 67.013136 175.023879 \r\nL 67.170268 179.738861 \r\nL 67.327399 189.215951 \r\nL 67.484531 189.28777 \r\nL 67.641662 193.065986 \r\nL 67.955925 175.900785 \r\nL 68.113056 185.075377 \r\nL 68.270188 182.894706 \r\nL 68.427319 156.155505 \r\nL 68.741582 184.476946 \r\nL 68.898714 186.115261 \r\nL 69.055845 151.2194 \r\nL 69.370108 187.305328 \r\nL 69.52724 180.654175 \r\nL 69.684371 191.41914 \r\nL 69.841502 171.806522 \r\nL 69.998634 197.60442 \r\nL 70.155765 186.580152 \r\nL 70.312897 191.60863 \r\nL 70.470028 191.653645 \r\nL 70.784291 176.717434 \r\nL 70.941423 198.355814 \r\nL 71.255686 174.200184 \r\nL 71.569949 200.930206 \r\nL 71.72708 197.484073 \r\nL 71.884211 188.104331 \r\nL 72.041343 188.888133 \r\nL 72.198474 195.880569 \r\nL 72.355606 191.333584 \r\nL 72.512737 192.473137 \r\nL 72.669869 203.735527 \r\nL 72.984132 183.567632 \r\nL 73.141263 190.802581 \r\nL 73.298395 182.402258 \r\nL 73.455526 188.429242 \r\nL 73.612658 188.993865 \r\nL 73.769789 172.673037 \r\nL 73.92692 199.897827 \r\nL 74.084052 199.127406 \r\nL 74.241183 204.457274 \r\nL 74.398315 180.287217 \r\nL 74.555446 183.509131 \r\nL 74.712578 189.329168 \r\nL 74.869709 188.011959 \r\nL 75.183972 202.550143 \r\nL 75.341104 186.777462 \r\nL 75.498235 184.862533 \r\nL 75.655366 176.124543 \r\nL 75.812498 194.298162 \r\nL 75.969629 192.784647 \r\nL 76.283892 200.850609 \r\nL 76.441024 184.299102 \r\nL 76.598155 179.502578 \r\nL 76.755287 187.225522 \r\nL 76.912418 185.379171 \r\nL 77.06955 197.137605 \r\nL 77.226681 181.95725 \r\nL 77.383813 194.91518 \r\nL 77.540944 191.132992 \r\nL 77.698075 206.017707 \r\nL 78.012338 201.161826 \r\nL 78.16947 193.133394 \r\nL 78.326601 191.908577 \r\nL 78.483733 183.794715 \r\nL 78.640864 191.656509 \r\nL 78.797996 182.224413 \r\nL 78.955127 180.256231 \r\nL 79.112259 195.488438 \r\nL 79.26939 184.456288 \r\nL 79.426522 187.460864 \r\nL 79.583653 176.444249 \r\nL 79.740784 181.150449 \r\nL 80.055047 204.037502 \r\nL 80.212179 192.081278 \r\nL 80.36931 200.70651 \r\nL 80.526442 188.710247 \r\nL 80.683573 161.366991 \r\nL 80.997836 190.826229 \r\nL 81.154968 190.224557 \r\nL 81.312099 189.075386 \r\nL 81.46923 193.709976 \r\nL 81.626362 184.067294 \r\nL 81.783493 183.71978 \r\nL 81.940625 190.599146 \r\nL 82.097756 192.412107 \r\nL 82.254888 191.429908 \r\nL 82.412019 195.363722 \r\nL 82.569151 186.608734 \r\nL 82.726282 199.670494 \r\nL 82.883414 187.226421 \r\nL 83.040545 190.500669 \r\nL 83.197677 190.019595 \r\nL 83.354808 197.416519 \r\nL 83.511939 184.000179 \r\nL 83.669071 180.139438 \r\nL 83.983334 191.089566 \r\nL 84.140465 194.642079 \r\nL 84.297597 191.45437 \r\nL 84.61186 201.751392 \r\nL 84.768991 188.239418 \r\nL 84.926123 186.428088 \r\nL 85.083254 199.030226 \r\nL 85.71178 177.607114 \r\nL 85.868911 194.267113 \r\nL 86.026043 174.856384 \r\nL 86.183174 187.290358 \r\nL 86.340306 189.782769 \r\nL 86.497437 198.084804 \r\nL 86.654569 189.109591 \r\nL 86.8117 199.643627 \r\nL 86.968832 185.677404 \r\nL 87.125963 195.415009 \r\nL 87.283094 190.136596 \r\nL 87.597357 199.149945 \r\nL 87.754489 193.539282 \r\nL 88.068752 192.816762 \r\nL 88.225883 184.886828 \r\nL 88.383015 194.01998 \r\nL 88.540146 193.231975 \r\nL 88.697278 206.201071 \r\nL 88.854409 189.985515 \r\nL 89.011541 191.605556 \r\nL 89.168672 190.862504 \r\nL 89.325803 184.927682 \r\nL 89.640066 199.464946 \r\nL 89.797198 176.074719 \r\nL 89.954329 196.87755 \r\nL 90.268592 183.452826 \r\nL 90.425724 195.22462 \r\nL 90.739987 203.999031 \r\nL 90.897118 194.865921 \r\nL 91.054249 197.363329 \r\nL 91.368512 193.97024 \r\nL 91.525644 188.244498 \r\nL 91.682775 206.456693 \r\nL 91.839907 204.046242 \r\nL 91.997038 206.76722 \r\nL 92.15417 188.811128 \r\nL 92.311301 184.371234 \r\nL 92.468433 200.160433 \r\nL 92.782696 183.657098 \r\nL 92.939827 198.364617 \r\nL 93.096958 199.762468 \r\nL 93.25409 196.564243 \r\nL 93.411221 188.478105 \r\nL 93.568353 203.883682 \r\nL 93.725484 190.941118 \r\nL 94.039747 202.953565 \r\nL 94.196879 187.758846 \r\nL 94.35401 196.835044 \r\nL 94.511142 184.083476 \r\nL 94.668273 192.443406 \r\nL 94.825405 171.346607 \r\nL 94.982536 197.927408 \r\nL 95.139667 192.789937 \r\nL 95.296799 204.600411 \r\nL 95.611062 187.411081 \r\nL 95.768193 199.33011 \r\nL 95.925325 197.110466 \r\nL 96.082456 197.775657 \r\nL 96.396719 200.118073 \r\nL 96.553851 190.934532 \r\nL 96.710982 196.745704 \r\nL 97.025245 184.464254 \r\nL 97.339508 202.964541 \r\nL 97.496639 203.935283 \r\nL 97.810902 192.8789 \r\nL 97.968034 201.891518 \r\nL 98.125165 198.718925 \r\nL 98.282297 190.300286 \r\nL 98.439428 166.224775 \r\nL 98.59656 209.093892 \r\nL 98.753691 200.114414 \r\nL 98.910822 197.504876 \r\nL 99.067954 201.049654 \r\nL 99.225085 186.105476 \r\nL 99.382217 200.521097 \r\nL 99.539348 192.923205 \r\nL 99.853611 199.337825 \r\nL 100.010743 197.752156 \r\nL 100.167874 201.127641 \r\nL 100.325006 207.373491 \r\nL 100.482137 205.21814 \r\nL 100.639268 185.737996 \r\nL 100.953531 193.525378 \r\nL 101.110663 183.994011 \r\nL 101.267794 187.582653 \r\nL 101.424926 203.374423 \r\nL 101.582057 173.434405 \r\nL 101.739189 195.066074 \r\nL 101.89632 182.074565 \r\nL 102.053452 210.725015 \r\nL 102.367715 174.695329 \r\nL 102.681977 195.12079 \r\nL 102.99624 201.933668 \r\nL 103.153372 198.555445 \r\nL 103.310503 186.451986 \r\nL 103.467635 199.933768 \r\nL 103.624766 187.455469 \r\nL 103.781898 196.674951 \r\nL 103.939029 167.914462 \r\nL 104.096161 200.105256 \r\nL 104.253292 192.624135 \r\nL 104.410424 202.659116 \r\nL 104.567555 181.706771 \r\nL 104.881818 201.836216 \r\nL 105.038949 201.807843 \r\nL 105.196081 187.305893 \r\nL 105.353212 195.986071 \r\nL 105.510344 179.693176 \r\nL 105.824607 199.977424 \r\nL 106.13887 190.731849 \r\nL 106.296001 193.072447 \r\nL 106.453132 181.465492 \r\nL 106.610264 191.829273 \r\nL 106.767395 179.96402 \r\nL 107.081658 194.91863 \r\nL 107.23879 194.193768 \r\nL 107.395921 192.07028 \r\nL 107.553053 194.325322 \r\nL 107.710184 193.896225 \r\nL 107.867316 204.376464 \r\nL 108.024447 203.232332 \r\nL 108.181579 173.925285 \r\nL 108.33871 198.639224 \r\nL 108.652973 196.066463 \r\nL 108.810104 191.374836 \r\nL 109.124367 200.563687 \r\nL 109.281499 189.123056 \r\nL 109.595762 196.202575 \r\nL 109.752893 192.041678 \r\nL 109.910025 196.557071 \r\nL 110.067156 194.011575 \r\nL 110.224287 195.261627 \r\nL 110.381419 201.212026 \r\nL 110.53855 177.72052 \r\nL 110.695682 202.437762 \r\nL 110.852813 182.508847 \r\nL 111.167076 187.074482 \r\nL 111.324208 183.871155 \r\nL 111.481339 193.913265 \r\nL 111.638471 191.207508 \r\nL 111.795602 199.790318 \r\nL 111.952734 196.145266 \r\nL 112.109865 195.907269 \r\nL 112.266996 199.329378 \r\nL 112.424128 181.141856 \r\nL 112.581259 194.809616 \r\nL 112.738391 180.214791 \r\nL 112.895522 194.130354 \r\nL 113.209785 170.680183 \r\nL 113.366917 186.103594 \r\nL 113.524048 189.452191 \r\nL 113.68118 189.301109 \r\nL 113.838311 186.203828 \r\nL 113.995443 197.802315 \r\nL 114.152574 181.957584 \r\nL 114.309705 187.661226 \r\nL 114.466837 200.944193 \r\nL 114.623968 178.002152 \r\nL 114.7811 193.366623 \r\nL 114.938231 194.083373 \r\nL 115.095363 193.693772 \r\nL 115.252494 200.328408 \r\nL 115.409626 199.542599 \r\nL 115.723889 190.840341 \r\nL 115.88102 189.953086 \r\nL 116.038151 179.12019 \r\nL 116.195283 188.969904 \r\nL 116.352414 189.407782 \r\nL 116.666677 176.92319 \r\nL 116.98094 199.091884 \r\nL 117.295203 185.176279 \r\nL 117.452335 195.848475 \r\nL 117.609466 193.037154 \r\nL 117.766598 192.770346 \r\nL 118.08086 184.635596 \r\nL 118.237992 179.808338 \r\nL 118.395123 203.22376 \r\nL 118.709386 185.389333 \r\nL 119.023649 196.531354 \r\nL 119.337912 192.552149 \r\nL 119.495044 192.837983 \r\nL 119.652175 199.310038 \r\nL 119.966438 184.623449 \r\nL 120.123569 197.701977 \r\nL 120.280701 197.852578 \r\nL 120.437832 196.751788 \r\nL 120.594964 188.719635 \r\nL 120.752095 204.959423 \r\nL 120.909227 189.984176 \r\nL 121.066358 195.553797 \r\nL 121.22349 191.286625 \r\nL 121.380621 198.734418 \r\nL 121.537753 198.859114 \r\nL 121.694884 208.934865 \r\nL 121.852015 180.73511 \r\nL 122.32341 203.832289 \r\nL 122.480541 204.949659 \r\nL 122.637673 180.737598 \r\nL 122.794804 192.85862 \r\nL 122.951936 195.82579 \r\nL 123.109067 195.374113 \r\nL 123.266199 192.895815 \r\nL 123.42333 199.024267 \r\nL 123.580462 193.266202 \r\nL 123.737593 197.858035 \r\nL 123.894724 197.446585 \r\nL 124.051856 203.751438 \r\nL 124.208987 204.251183 \r\nL 124.366119 189.366489 \r\nL 124.52325 203.88941 \r\nL 124.837513 174.827427 \r\nL 125.151776 188.489186 \r\nL 125.308908 188.233605 \r\nL 125.62317 208.255122 \r\nL 125.780302 196.529974 \r\nL 125.937433 197.161378 \r\nL 126.094565 193.054717 \r\nL 126.565959 195.565234 \r\nL 126.723091 186.634283 \r\nL 127.037354 196.577979 \r\nL 127.194485 188.866075 \r\nL 127.351617 205.854519 \r\nL 127.665879 189.683811 \r\nL 127.823011 189.972092 \r\nL 127.980142 202.83765 \r\nL 128.137274 186.575385 \r\nL 128.451537 190.827148 \r\nL 128.608668 209.294442 \r\nL 128.7658 187.839279 \r\nL 128.922931 201.089295 \r\nL 129.237194 193.421256 \r\nL 129.394326 175.549006 \r\nL 129.708588 215.494672 \r\nL 129.86572 188.085973 \r\nL 130.022851 189.99507 \r\nL 130.179983 200.521076 \r\nL 130.337114 195.122714 \r\nL 130.494246 199.521085 \r\nL 130.651377 194.21614 \r\nL 130.808509 202.313464 \r\nL 131.122772 179.999062 \r\nL 131.279903 195.84536 \r\nL 131.437034 196.114928 \r\nL 131.594166 177.011401 \r\nL 132.06556 209.664369 \r\nL 132.222692 200.935809 \r\nL 132.379823 184.27949 \r\nL 132.536955 188.433926 \r\nL 132.694086 200.01002 \r\nL 132.851218 197.759119 \r\nL 133.008349 202.048851 \r\nL 133.165481 189.648936 \r\nL 133.322612 189.095625 \r\nL 133.479743 195.347476 \r\nL 133.636875 188.179453 \r\nL 133.794006 187.108081 \r\nL 133.951138 173.202053 \r\nL 134.108269 199.661901 \r\nL 134.265401 199.56955 \r\nL 134.422532 200.522247 \r\nL 134.736795 186.686386 \r\nL 134.893927 202.86849 \r\nL 135.051058 206.353135 \r\nL 135.20819 188.907745 \r\nL 135.365321 201.270297 \r\nL 135.522452 192.627251 \r\nL 135.679584 208.85393 \r\nL 135.836715 187.994061 \r\nL 136.150978 206.045075 \r\nL 136.465241 190.866874 \r\nL 136.622373 200.922031 \r\nL 136.779504 188.571104 \r\nL 136.936636 202.539626 \r\nL 137.250898 194.548118 \r\nL 137.40803 191.954512 \r\nL 137.565161 195.676297 \r\nL 137.722293 204.768072 \r\nL 137.879424 180.747822 \r\nL 138.193687 191.34431 \r\nL 138.350819 197.80681 \r\nL 138.50795 171.686823 \r\nL 138.822213 197.223286 \r\nL 138.979345 197.222743 \r\nL 139.136476 188.164295 \r\nL 139.293607 198.433446 \r\nL 139.450739 200.955693 \r\nL 139.60787 206.494766 \r\nL 139.765002 192.991783 \r\nL 139.922133 204.121929 \r\nL 140.079265 195.124951 \r\nL 140.236396 204.464278 \r\nL 140.550659 185.274464 \r\nL 140.707791 195.708454 \r\nL 141.022053 199.391225 \r\nL 141.179185 201.482953 \r\nL 141.493448 197.454237 \r\nL 141.650579 176.516716 \r\nL 141.807711 203.926752 \r\nL 141.964842 197.859833 \r\nL 142.121974 181.407848 \r\nL 142.279105 185.025156 \r\nL 142.436237 172.446226 \r\nL 142.593368 197.915595 \r\nL 142.7505 183.583021 \r\nL 142.907631 193.101195 \r\nL 143.536157 200.546605 \r\nL 143.693288 192.955947 \r\nL 143.85042 192.266733 \r\nL 144.007551 196.266825 \r\nL 144.164683 205.798297 \r\nL 144.478946 184.113291 \r\nL 144.636077 187.817054 \r\nL 144.793209 210.20685 \r\nL 144.95034 191.212777 \r\nL 145.107471 187.059721 \r\nL 145.264603 202.475397 \r\nL 145.421734 202.258454 \r\nL 145.578866 193.753632 \r\nL 145.735997 198.555173 \r\nL 145.893129 183.363507 \r\nL 146.05026 202.414052 \r\nL 146.364523 163.304752 \r\nL 146.521655 199.48736 \r\nL 146.678786 180.421907 \r\nL 146.993049 205.643557 \r\nL 147.15018 206.616786 \r\nL 147.307312 205.982728 \r\nL 147.464443 199.225089 \r\nL 147.621575 183.781919 \r\nL 147.778706 203.506542 \r\nL 147.935838 197.248481 \r\nL 148.092969 195.587396 \r\nL 148.250101 203.76001 \r\nL 148.407232 196.484959 \r\nL 148.564364 178.281693 \r\nL 148.721495 181.352003 \r\nL 149.192889 206.128896 \r\nL 149.350021 194.726673 \r\nL 149.507152 191.988362 \r\nL 149.664284 196.194379 \r\nL 149.821415 192.352749 \r\nL 150.135678 173.252692 \r\nL 150.29281 204.127595 \r\nL 150.449941 194.25875 \r\nL 150.607072 205.235452 \r\nL 150.764204 183.189698 \r\nL 151.078467 201.307618 \r\nL 151.39273 185.486555 \r\nL 151.549861 194.33057 \r\nL 151.706993 188.463281 \r\nL 151.864124 193.417827 \r\nL 152.021256 180.659862 \r\nL 152.178387 194.578456 \r\nL 152.335519 180.854119 \r\nL 152.49265 195.402548 \r\nL 152.649781 195.833296 \r\nL 152.806913 194.271086 \r\nL 152.964044 195.709102 \r\nL 153.121176 189.93061 \r\nL 153.278307 191.440194 \r\nL 153.435439 179.399522 \r\nL 153.59257 192.725958 \r\nL 153.749702 192.206517 \r\nL 153.906833 193.503718 \r\nL 154.063965 202.138818 \r\nL 154.221096 183.662534 \r\nL 154.378228 201.637986 \r\nL 154.535359 188.23877 \r\nL 154.69249 186.240981 \r\nL 154.849622 190.424375 \r\nL 155.006753 182.748454 \r\nL 155.163885 188.567131 \r\nL 155.321016 207.680987 \r\nL 155.478148 186.942385 \r\nL 155.635279 197.682344 \r\nL 155.949542 193.757834 \r\nL 156.106674 195.691351 \r\nL 156.263805 201.084591 \r\nL 156.420936 182.786067 \r\nL 156.578068 194.172421 \r\nL 156.735199 180.108014 \r\nL 156.892331 200.864074 \r\nL 157.049462 197.852578 \r\nL 157.206594 197.107895 \r\nL 157.363725 193.921085 \r\nL 157.520857 202.22611 \r\nL 157.83512 187.790981 \r\nL 158.149383 210.747073 \r\nL 158.306514 178.78081 \r\nL 158.463645 208.517833 \r\nL 158.620777 192.53076 \r\nL 158.777908 208.081397 \r\nL 158.93504 183.708971 \r\nL 159.092171 182.169969 \r\nL 159.249303 195.616897 \r\nL 159.406434 189.297722 \r\nL 159.720697 200.595467 \r\nL 159.877829 198.323888 \r\nL 160.192092 187.884524 \r\nL 160.349223 200.862798 \r\nL 160.506354 183.473609 \r\nL 160.663486 204.926033 \r\nL 160.820617 201.434446 \r\nL 160.977749 195.124575 \r\nL 161.13488 199.354531 \r\nL 161.292012 194.708964 \r\nL 161.449143 198.546266 \r\nL 161.606275 197.143355 \r\nL 161.763406 180.923178 \r\nL 161.920538 199.650736 \r\nL 162.077669 193.099669 \r\nL 162.2348 168.373269 \r\nL 162.391932 196.52067 \r\nL 162.549063 197.731395 \r\nL 162.706195 195.925313 \r\nL 162.863326 207.812101 \r\nL 163.020458 198.992006 \r\nL 163.177589 198.592912 \r\nL 163.334721 177.603163 \r\nL 163.648984 203.023042 \r\nL 163.963247 181.492651 \r\nL 164.120378 192.988689 \r\nL 164.277509 195.332819 \r\nL 164.434641 195.77076 \r\nL 164.591772 192.876872 \r\nL 164.748904 187.596055 \r\nL 165.063167 206.689693 \r\nL 165.534561 188.745728 \r\nL 165.691693 187.056669 \r\nL 165.848824 195.606234 \r\nL 166.005955 187.730452 \r\nL 166.320218 197.509602 \r\nL 166.47735 197.701726 \r\nL 166.634481 194.876877 \r\nL 166.791613 186.508898 \r\nL 166.948744 189.657425 \r\nL 167.105876 196.549544 \r\nL 167.263007 186.94757 \r\nL 167.420139 190.988956 \r\nL 167.57727 190.112657 \r\nL 167.734402 199.22189 \r\nL 168.048664 198.008113 \r\nL 168.362927 182.452939 \r\nL 168.520059 184.004528 \r\nL 168.67719 204.277569 \r\nL 168.834322 199.36141 \r\nL 168.991453 181.961306 \r\nL 169.148585 191.188294 \r\nL 169.305716 191.172947 \r\nL 169.462848 186.840897 \r\nL 169.619979 187.321511 \r\nL 169.777111 201.445632 \r\nL 169.934242 169.790335 \r\nL 170.091373 200.870116 \r\nL 170.248505 191.184593 \r\nL 170.405636 201.429825 \r\nL 170.719899 192.183142 \r\nL 170.877031 197.240347 \r\nL 171.034162 190.287176 \r\nL 171.348425 198.788884 \r\nL 171.505557 192.617842 \r\nL 171.662688 180.624631 \r\nL 171.976951 200.19951 \r\nL 172.134082 191.568905 \r\nL 172.291214 195.510162 \r\nL 172.448345 194.064431 \r\nL 172.605477 200.817051 \r\nL 172.762608 193.201324 \r\nL 172.91974 176.546426 \r\nL 173.076871 182.886405 \r\nL 173.234003 182.035195 \r\nL 173.548266 199.493235 \r\nL 173.705397 190.741342 \r\nL 173.862528 188.729085 \r\nL 174.01966 201.416277 \r\nL 174.176791 196.551761 \r\nL 174.333923 195.156564 \r\nL 174.491054 191.241986 \r\nL 174.648186 190.352284 \r\nL 174.805317 190.903087 \r\nL 174.962449 199.777209 \r\nL 175.11958 185.888158 \r\nL 175.276712 189.792345 \r\nL 175.433843 197.166709 \r\nL 175.590975 189.287561 \r\nL 175.748106 202.677473 \r\nL 175.905237 193.849056 \r\nL 176.062369 191.859276 \r\nL 176.376632 176.710011 \r\nL 176.533763 190.243562 \r\nL 176.690895 190.112155 \r\nL 176.848026 197.131646 \r\nL 177.005158 199.081053 \r\nL 177.162289 198.611311 \r\nL 177.319421 206.677169 \r\nL 177.476552 188.612418 \r\nL 177.790815 199.462709 \r\nL 177.947946 190.593542 \r\nL 178.105078 191.946045 \r\nL 178.262209 198.642464 \r\nL 178.419341 188.291019 \r\nL 178.733604 194.285805 \r\nL 178.890735 193.384019 \r\nL 179.047867 186.807779 \r\nL 179.36213 196.357232 \r\nL 179.519261 188.481659 \r\nL 179.833524 199.514394 \r\nL 179.990655 193.525776 \r\nL 180.304918 198.071381 \r\nL 180.619181 181.838408 \r\nL 180.776313 184.564948 \r\nL 180.933444 197.302047 \r\nL 181.090576 185.089406 \r\nL 181.404838 202.282478 \r\nL 181.56197 192.236541 \r\nL 181.719101 195.835178 \r\nL 181.876233 194.716115 \r\nL 182.033364 203.651225 \r\nL 182.347627 193.600146 \r\nL 182.504759 180.89537 \r\nL 182.66189 199.457524 \r\nL 182.819022 193.070439 \r\nL 182.976153 192.931631 \r\nL 183.133285 194.531015 \r\nL 183.290416 194.759833 \r\nL 183.447547 196.762138 \r\nL 183.604679 195.506398 \r\nL 183.76181 198.429202 \r\nL 183.918942 197.261151 \r\nL 184.076073 202.44117 \r\nL 184.233205 199.049816 \r\nL 184.390336 200.287805 \r\nL 184.547468 195.891232 \r\nL 184.704599 185.741027 \r\nL 184.861731 198.520507 \r\nL 185.018862 186.90337 \r\nL 185.175994 197.472908 \r\nL 185.647388 183.201532 \r\nL 185.804519 204.404397 \r\nL 185.961651 195.759867 \r\nL 186.275914 208.500437 \r\nL 186.433045 172.55729 \r\nL 186.747308 204.001938 \r\nL 186.90444 180.144791 \r\nL 187.061571 185.46709 \r\nL 187.218702 196.112607 \r\nL 187.375834 192.711782 \r\nL 187.532965 203.443127 \r\nL 187.690097 191.272867 \r\nL 187.847228 194.833723 \r\nL 188.00436 202.184273 \r\nL 188.318623 185.376662 \r\nL 188.475754 199.726883 \r\nL 188.632886 186.429656 \r\nL 188.947149 201.530519 \r\nL 189.10428 195.584762 \r\nL 189.418543 172.556641 \r\nL 189.575674 191.866907 \r\nL 189.732806 192.261694 \r\nL 189.889937 202.698653 \r\nL 190.047069 188.298107 \r\nL 190.2042 185.461194 \r\nL 190.675595 198.076692 \r\nL 190.832726 191.454015 \r\nL 191.461252 203.179727 \r\nL 191.618383 181.139744 \r\nL 191.775515 196.953175 \r\nL 191.932646 183.787083 \r\nL 192.089778 197.072414 \r\nL 192.246909 200.841932 \r\nL 192.404041 207.945641 \r\nL 192.718304 196.043611 \r\nL 192.875435 192.770868 \r\nL 193.189698 195.057815 \r\nL 193.346829 187.247204 \r\nL 193.503961 187.380158 \r\nL 193.661092 191.076247 \r\nL 193.818224 206.524456 \r\nL 194.132487 187.987287 \r\nL 194.289618 180.569455 \r\nL 194.44675 188.735629 \r\nL 194.603881 206.257836 \r\nL 194.761013 204.528738 \r\nL 194.918144 198.022728 \r\nL 195.075275 197.113519 \r\nL 195.232407 199.241209 \r\nL 195.54667 165.640269 \r\nL 195.703801 202.217851 \r\nL 195.860933 193.413248 \r\nL 196.018064 204.776624 \r\nL 196.175196 169.741786 \r\nL 196.332327 171.941818 \r\nL 196.489459 196.994594 \r\nL 196.64659 181.860174 \r\nL 196.803721 194.644316 \r\nL 196.960853 186.735959 \r\nL 197.117984 199.604362 \r\nL 197.589379 180.57004 \r\nL 197.74651 198.778869 \r\nL 197.903642 185.687921 \r\nL 198.060773 186.428694 \r\nL 198.217905 201.412618 \r\nL 198.375036 199.655984 \r\nL 198.532168 181.632234 \r\nL 198.689299 198.695508 \r\nL 198.84643 195.52371 \r\nL 199.003562 205.331963 \r\nL 199.160693 197.860356 \r\nL 199.317825 181.391749 \r\nL 199.474956 194.325489 \r\nL 199.632088 195.621665 \r\nL 199.789219 198.118738 \r\nL 199.946351 204.177942 \r\nL 200.103482 193.11167 \r\nL 200.260614 190.346681 \r\nL 200.574877 207.801062 \r\nL 201.046271 186.017014 \r\nL 201.203402 199.894712 \r\nL 201.517665 183.273246 \r\nL 201.674797 195.241639 \r\nL 201.831928 192.010358 \r\nL 201.98906 201.437331 \r\nL 202.303323 190.649597 \r\nL 202.460454 206.211525 \r\nL 202.617585 195.204611 \r\nL 202.774717 192.923435 \r\nL 202.931848 198.54888 \r\nL 203.08898 198.261937 \r\nL 203.246111 180.164654 \r\nL 203.403243 196.192936 \r\nL 203.560374 200.845026 \r\nL 203.717506 195.13528 \r\nL 203.874637 184.606743 \r\nL 204.031769 193.054173 \r\nL 204.1889 190.451326 \r\nL 204.503163 207.915993 \r\nL 204.660294 193.351068 \r\nL 204.817426 197.235894 \r\nL 204.974557 188.211464 \r\nL 205.131689 196.757642 \r\nL 205.28882 193.726744 \r\nL 205.445952 196.769205 \r\nL 205.603083 184.745698 \r\nL 205.760215 197.961697 \r\nL 205.917346 195.065405 \r\nL 206.074478 209.945959 \r\nL 206.231609 200.974719 \r\nL 206.38874 179.704341 \r\nL 206.545872 191.477787 \r\nL 206.703003 191.489977 \r\nL 206.860135 191.300194 \r\nL 207.017266 188.550091 \r\nL 207.174398 177.105822 \r\nL 207.331529 157.069251 \r\nL 207.488661 192.129659 \r\nL 207.802924 202.578557 \r\nL 207.960055 200.111592 \r\nL 208.117187 192.508681 \r\nL 208.274318 207.041032 \r\nL 208.431449 174.349321 \r\nL 208.588581 196.896514 \r\nL 208.745712 197.729743 \r\nL 208.902844 177.577132 \r\nL 209.217107 202.398622 \r\nL 209.374238 197.845825 \r\nL 209.53137 207.533459 \r\nL 209.688501 180.470832 \r\nL 210.002764 196.232703 \r\nL 210.159896 206.061509 \r\nL 210.317027 197.647616 \r\nL 210.474158 159.297091 \r\nL 210.788421 195.948981 \r\nL 210.945553 200.684431 \r\nL 211.102684 186.888317 \r\nL 211.259816 204.334773 \r\nL 211.416947 196.11497 \r\nL 211.574079 177.286112 \r\nL 211.73121 205.072327 \r\nL 211.888342 194.612515 \r\nL 212.045473 192.431593 \r\nL 212.202604 194.923753 \r\nL 212.359736 201.926058 \r\nL 212.516867 191.834688 \r\nL 212.673999 190.634501 \r\nL 212.83113 188.109558 \r\nL 212.988262 196.500431 \r\nL 213.145393 187.469812 \r\nL 213.302525 184.82862 \r\nL 213.459656 200.5603 \r\nL 213.616788 193.555611 \r\nL 213.773919 195.037095 \r\nL 213.931051 185.948624 \r\nL 214.245313 203.333778 \r\nL 214.402445 208.145125 \r\nL 214.716708 183.338877 \r\nL 214.873839 198.701467 \r\nL 215.030971 201.503045 \r\nL 215.188102 195.222759 \r\nL 215.345234 194.003316 \r\nL 215.502365 189.383905 \r\nL 215.816628 204.381649 \r\nL 215.97376 203.530314 \r\nL 216.130891 186.960763 \r\nL 216.288022 200.578072 \r\nL 216.445154 195.68811 \r\nL 216.602285 197.405187 \r\nL 216.759417 190.999201 \r\nL 216.916548 194.068403 \r\nL 217.07368 194.276355 \r\nL 217.387943 202.492667 \r\nL 217.545074 198.798522 \r\nL 217.702206 198.726222 \r\nL 217.859337 201.733599 \r\nL 218.016468 193.744641 \r\nL 218.1736 196.596107 \r\nL 218.330731 179.337425 \r\nL 218.487863 191.548833 \r\nL 218.644994 186.528635 \r\nL 218.802126 198.742907 \r\nL 218.959257 200.63352 \r\nL 219.116389 191.492151 \r\nL 219.27352 197.228492 \r\nL 219.430652 212.010758 \r\nL 219.587783 199.75168 \r\nL 219.744915 196.34245 \r\nL 219.902046 199.51891 \r\nL 220.059177 190.052211 \r\nL 220.216309 194.783627 \r\nL 220.37344 192.998035 \r\nL 220.530572 173.970404 \r\nL 220.687703 194.44663 \r\nL 221.001966 202.976877 \r\nL 221.316229 198.710332 \r\nL 221.473361 188.260556 \r\nL 221.630492 202.266839 \r\nL 221.944755 193.80009 \r\nL 222.101886 195.14588 \r\nL 222.259018 187.928326 \r\nL 222.416149 200.74174 \r\nL 222.573281 197.771643 \r\nL 222.887544 177.781592 \r\nL 223.044675 195.249438 \r\nL 223.201807 181.840165 \r\nL 223.358938 190.188595 \r\nL 223.51607 188.86342 \r\nL 223.673201 209.082246 \r\nL 223.830332 187.162652 \r\nL 223.987464 190.247451 \r\nL 224.144595 186.447407 \r\nL 224.61599 201.908683 \r\nL 224.773121 172.814794 \r\nL 224.930253 198.825995 \r\nL 225.087384 191.757621 \r\nL 225.244516 198.461777 \r\nL 225.401647 197.041971 \r\nL 225.558779 191.468211 \r\nL 225.71591 195.513423 \r\nL 225.873041 203.174333 \r\nL 226.344436 199.111391 \r\nL 226.501567 190.62894 \r\nL 226.658699 199.26149 \r\nL 226.81583 199.354614 \r\nL 227.130093 196.279307 \r\nL 227.287225 190.840007 \r\nL 227.444356 180.492806 \r\nL 227.601487 206.79233 \r\nL 227.91575 190.28611 \r\nL 228.230013 201.501122 \r\nL 228.387145 195.088947 \r\nL 228.544276 196.269711 \r\nL 228.701408 195.921319 \r\nL 228.858539 188.755387 \r\nL 229.015671 201.251103 \r\nL 229.172802 188.989955 \r\nL 229.329934 196.547955 \r\nL 229.487065 187.771077 \r\nL 229.644196 185.252928 \r\nL 229.801328 185.005 \r\nL 229.958459 201.225616 \r\nL 230.115591 199.470466 \r\nL 230.272722 184.172691 \r\nL 230.429854 199.205331 \r\nL 230.586985 188.91523 \r\nL 230.744117 196.537229 \r\nL 230.901248 186.86513 \r\nL 231.529774 199.806626 \r\nL 231.686905 195.52279 \r\nL 231.844037 186.449393 \r\nL 232.001168 184.271733 \r\nL 232.1583 203.102932 \r\nL 232.315431 189.89331 \r\nL 232.472563 202.295817 \r\nL 232.629694 197.310557 \r\nL 232.786826 168.402749 \r\nL 232.943957 196.995242 \r\nL 233.101089 190.767121 \r\nL 233.25822 189.084272 \r\nL 233.572483 193.969048 \r\nL 233.729614 203.304549 \r\nL 233.886746 192.965334 \r\nL 234.043877 208.380006 \r\nL 234.201009 191.723708 \r\nL 234.35814 196.393633 \r\nL 234.515272 189.909221 \r\nL 234.672403 189.558906 \r\nL 234.829535 180.909149 \r\nL 234.986666 186.147899 \r\nL 235.143798 211.367102 \r\nL 235.300929 173.719925 \r\nL 235.45806 191.950707 \r\nL 235.615192 191.042146 \r\nL 235.929455 200.560091 \r\nL 236.086586 193.7331 \r\nL 236.243718 207.439226 \r\nL 236.557981 200.503242 \r\nL 236.872244 213.868483 \r\nL 237.186506 181.461477 \r\nL 237.343638 187.882078 \r\nL 237.500769 189.173445 \r\nL 237.657901 204.748001 \r\nL 237.815032 177.043411 \r\nL 237.972164 195.544075 \r\nL 238.129295 199.918798 \r\nL 238.286427 194.571891 \r\nL 238.443558 194.440567 \r\nL 238.60069 184.520372 \r\nL 238.757821 203.74826 \r\nL 239.072084 209.298289 \r\nL 239.229215 196.922085 \r\nL 239.386347 202.9157 \r\nL 239.543478 203.565858 \r\nL 239.70061 201.020152 \r\nL 239.857741 185.142534 \r\nL 240.014873 190.727459 \r\nL 240.172004 186.05007 \r\nL 240.329136 197.839824 \r\nL 240.486267 195.615978 \r\nL 240.643399 190.731201 \r\nL 240.80053 175.837621 \r\nL 240.957662 198.205674 \r\nL 241.114793 186.465033 \r\nL 241.271924 202.202295 \r\nL 241.429056 199.394256 \r\nL 241.586187 199.074363 \r\nL 241.90045 183.209749 \r\nL 242.057582 189.386603 \r\nL 242.214713 191.069766 \r\nL 242.371845 197.433643 \r\nL 242.528976 198.539597 \r\nL 242.686108 192.531931 \r\nL 242.843239 192.588926 \r\nL 243.00037 194.872089 \r\nL 243.157502 174.496431 \r\nL 243.314633 190.856106 \r\nL 243.628896 196.743488 \r\nL 243.943159 186.491419 \r\nL 244.100291 190.133105 \r\nL 244.257422 185.789931 \r\nL 244.414554 188.165445 \r\nL 244.571685 201.368544 \r\nL 244.728817 196.228877 \r\nL 244.885948 198.277535 \r\nL 245.043079 198.747486 \r\nL 245.200211 206.274563 \r\nL 245.671605 178.527216 \r\nL 245.828737 177.336146 \r\nL 245.985868 194.518617 \r\nL 246.143 190.17904 \r\nL 246.300131 194.971151 \r\nL 246.457263 189.08009 \r\nL 246.614394 190.478903 \r\nL 246.771525 204.708673 \r\nL 246.928657 190.696034 \r\nL 247.085788 194.591063 \r\nL 247.24292 182.140049 \r\nL 247.400051 197.608769 \r\nL 247.557183 201.684737 \r\nL 247.714314 195.626536 \r\nL 247.871446 201.700878 \r\nL 248.028577 194.529928 \r\nL 248.185709 192.543242 \r\nL 248.34284 179.529822 \r\nL 248.657103 193.635752 \r\nL 248.814234 200.599126 \r\nL 248.971366 189.969436 \r\nL 249.285629 203.413208 \r\nL 249.44276 194.12174 \r\nL 249.599892 200.092273 \r\nL 249.757023 192.118076 \r\nL 249.914155 207.566431 \r\nL 250.228418 191.278533 \r\nL 250.385549 189.109884 \r\nL 250.542681 172.674919 \r\nL 250.699812 205.250673 \r\nL 250.856943 195.645228 \r\nL 251.014075 197.885445 \r\nL 251.171206 189.998875 \r\nL 251.328338 197.624115 \r\nL 251.642601 181.486609 \r\nL 251.956864 200.217387 \r\nL 252.113995 201.06569 \r\nL 252.585389 193.337436 \r\nL 252.899652 196.813697 \r\nL 253.056784 192.933387 \r\nL 253.213915 202.369393 \r\nL 253.528178 184.25118 \r\nL 253.68531 196.760925 \r\nL 253.842441 195.221191 \r\nL 253.999573 205.655202 \r\nL 254.156704 204.627194 \r\nL 254.628098 183.169166 \r\nL 254.78523 196.08965 \r\nL 254.942361 184.285219 \r\nL 255.099493 197.905329 \r\nL 255.256624 198.499453 \r\nL 255.413756 187.092902 \r\nL 255.570887 190.761623 \r\nL 255.88515 204.688099 \r\nL 256.199413 195.566572 \r\nL 256.356545 195.75901 \r\nL 256.513676 202.564381 \r\nL 256.670807 194.036853 \r\nL 256.98507 203.301078 \r\nL 257.142202 191.894841 \r\nL 257.456465 203.705566 \r\nL 257.613596 185.99826 \r\nL 257.927859 207.840181 \r\nL 258.084991 207.104112 \r\nL 258.242122 199.07798 \r\nL 258.399253 199.088455 \r\nL 258.556385 187.127881 \r\nL 258.870648 200.554299 \r\nL 259.027779 207.764096 \r\nL 259.342042 188.395434 \r\nL 259.499174 195.157589 \r\nL 259.656305 210.100156 \r\nL 259.813437 205.171598 \r\nL 259.970568 160.987844 \r\nL 260.1277 199.587091 \r\nL 260.284831 204.718416 \r\nL 260.441962 202.359921 \r\nL 260.599094 195.020076 \r\nL 260.756225 194.777103 \r\nL 260.913357 194.809323 \r\nL 261.070488 201.171861 \r\nL 261.22762 189.921619 \r\nL 261.384751 192.216804 \r\nL 261.541883 200.289812 \r\nL 261.699014 170.530209 \r\nL 261.856146 196.68505 \r\nL 262.013277 183.510616 \r\nL 262.170408 205.048366 \r\nL 262.32754 198.004454 \r\nL 262.484671 201.224152 \r\nL 262.641803 188.205087 \r\nL 262.798934 185.599605 \r\nL 263.113197 201.628598 \r\nL 263.270329 191.562298 \r\nL 263.42746 205.125308 \r\nL 263.741723 184.534547 \r\nL 263.898855 187.99057 \r\nL 264.055986 183.318115 \r\nL 264.213117 196.975128 \r\nL 264.370249 190.062665 \r\nL 264.52738 201.320811 \r\nL 264.684512 201.288278 \r\nL 264.841643 200.491031 \r\nL 264.998775 194.261155 \r\nL 265.155906 197.179087 \r\nL 265.313038 184.355302 \r\nL 265.470169 202.566681 \r\nL 265.627301 183.94933 \r\nL 265.784432 200.462137 \r\nL 265.941564 203.082296 \r\nL 266.255826 188.305864 \r\nL 266.412958 192.191589 \r\nL 266.570089 189.912106 \r\nL 266.727221 194.964084 \r\nL 267.041484 188.370365 \r\nL 267.198615 201.651576 \r\nL 267.355747 193.112276 \r\nL 267.512878 207.321347 \r\nL 267.67001 179.051382 \r\nL 267.827141 205.251405 \r\nL 267.984272 193.971933 \r\nL 268.141404 199.439501 \r\nL 268.298535 197.291886 \r\nL 268.455667 203.797227 \r\nL 268.612798 183.407706 \r\nL 268.76993 185.081691 \r\nL 268.927061 182.8499 \r\nL 269.084193 168.525647 \r\nL 269.241324 194.71601 \r\nL 269.398456 173.678256 \r\nL 269.555587 198.812133 \r\nL 269.712719 204.651803 \r\nL 269.86985 186.663408 \r\nL 270.026981 195.832104 \r\nL 270.184113 190.954646 \r\nL 270.498376 208.944002 \r\nL 270.812639 176.24696 \r\nL 270.96977 182.667309 \r\nL 271.126902 207.056797 \r\nL 271.284033 198.400453 \r\nL 271.441165 204.962873 \r\nL 271.598296 198.701822 \r\nL 271.755428 200.560467 \r\nL 272.06969 186.585609 \r\nL 272.226822 187.037308 \r\nL 272.541085 198.766136 \r\nL 272.698216 182.033439 \r\nL 272.855348 199.033195 \r\nL 273.012479 195.560069 \r\nL 273.169611 195.162251 \r\nL 273.326742 174.088639 \r\nL 273.641005 201.850851 \r\nL 274.112399 185.67293 \r\nL 274.426662 198.746043 \r\nL 274.583794 190.379067 \r\nL 274.898057 209.105078 \r\nL 275.055188 193.405659 \r\nL 275.21232 190.208311 \r\nL 275.526583 163.957377 \r\nL 275.683714 198.539973 \r\nL 275.840845 184.129453 \r\nL 275.997977 190.224745 \r\nL 276.155108 190.105297 \r\nL 276.31224 202.720314 \r\nL 276.469371 202.923771 \r\nL 276.783634 193.230449 \r\nL 276.940766 199.772379 \r\nL 277.097897 194.731315 \r\nL 277.255029 203.476476 \r\nL 277.41216 192.109128 \r\nL 277.569291 160.861413 \r\nL 277.726423 201.941948 \r\nL 277.883554 191.321604 \r\nL 278.040686 202.429023 \r\nL 278.197817 183.813741 \r\nL 278.354949 197.607953 \r\nL 278.51208 192.439203 \r\nL 278.669212 192.39584 \r\nL 278.826343 201.882297 \r\nL 279.140606 185.866309 \r\nL 279.297738 192.997094 \r\nL 279.454869 187.835202 \r\nL 279.769132 208.400413 \r\nL 279.926263 202.075801 \r\nL 280.083395 183.01614 \r\nL 280.240526 194.947316 \r\nL 280.711921 183.954118 \r\nL 280.869052 200.351407 \r\nL 281.026184 201.113068 \r\nL 281.340447 190.1224 \r\nL 281.497578 198.101008 \r\nL 281.654709 183.884766 \r\nL 281.811841 193.153612 \r\nL 281.968972 189.160962 \r\nL 282.126104 198.047107 \r\nL 282.283235 177.492099 \r\nL 282.440367 186.544379 \r\nL 282.597498 207.455786 \r\nL 282.75463 203.41626 \r\nL 283.068893 193.026909 \r\nL 283.226024 192.369935 \r\nL 283.383155 194.497228 \r\nL 283.540287 204.722033 \r\nL 283.697418 200.439096 \r\nL 283.85455 199.530012 \r\nL 284.168813 194.484432 \r\nL 284.483076 205.221318 \r\nL 284.640207 187.910011 \r\nL 284.797339 198.164255 \r\nL 285.111602 204.30199 \r\nL 285.268733 174.050043 \r\nL 285.582996 205.455091 \r\nL 285.740127 190.971749 \r\nL 285.897259 188.962628 \r\nL 286.05439 201.158919 \r\nL 286.211522 181.378995 \r\nL 286.368653 199.862639 \r\nL 286.525785 197.632081 \r\nL 286.682916 169.3995 \r\nL 286.840048 203.776904 \r\nL 287.15431 186.952818 \r\nL 287.311442 200.775695 \r\nL 287.468573 190.502028 \r\nL 287.625705 189.4151 \r\nL 287.782836 191.760255 \r\nL 287.939968 199.746662 \r\nL 288.097099 168.647478 \r\nL 288.254231 174.663549 \r\nL 288.568494 201.393529 \r\nL 288.725625 194.097988 \r\nL 288.882757 202.882644 \r\nL 289.197019 185.160117 \r\nL 289.354151 189.284027 \r\nL 289.511282 204.563591 \r\nL 289.668414 194.859 \r\nL 289.825545 203.16965 \r\nL 289.982677 201.369275 \r\nL 290.139808 189.452003 \r\nL 290.29694 205.336438 \r\nL 290.611203 190.575729 \r\nL 290.768334 192.469813 \r\nL 290.925466 190.871055 \r\nL 291.239728 205.836036 \r\nL 291.39686 178.413267 \r\nL 291.711123 193.827019 \r\nL 291.868254 201.077252 \r\nL 292.182517 191.230361 \r\nL 292.339649 200.502259 \r\nL 292.49678 184.286661 \r\nL 292.653912 185.874045 \r\nL 292.968174 196.818945 \r\nL 293.125306 183.224071 \r\nL 293.282437 198.718737 \r\nL 293.439569 192.135409 \r\nL 293.5967 180.547 \r\nL 293.753832 200.323537 \r\nL 293.910963 204.135624 \r\nL 294.068095 183.494684 \r\nL 294.382358 200.886215 \r\nL 294.539489 179.345726 \r\nL 294.696621 201.194818 \r\nL 294.853752 192.655832 \r\nL 295.010883 195.908084 \r\nL 295.168015 201.648085 \r\nL 295.325146 199.034386 \r\nL 295.482278 186.203744 \r\nL 295.639409 184.816367 \r\nL 295.953672 199.298121 \r\nL 296.267935 204.163787 \r\nL 296.425067 189.739322 \r\nL 296.582198 200.982957 \r\nL 296.73933 191.02657 \r\nL 296.896461 199.434672 \r\nL 297.053592 174.439143 \r\nL 297.210724 178.29959 \r\nL 297.367855 179.426431 \r\nL 297.682118 189.521836 \r\nL 297.83925 184.223916 \r\nL 297.996381 204.785175 \r\nL 298.153513 169.707497 \r\nL 298.310644 188.175397 \r\nL 298.624907 196.538714 \r\nL 298.782038 186.435678 \r\nL 298.93917 190.753531 \r\nL 299.096301 199.25413 \r\nL 299.253433 196.013628 \r\nL 299.410564 197.341814 \r\nL 299.567696 202.601493 \r\nL 299.724827 198.830658 \r\nL 299.881959 190.908836 \r\nL 300.03909 200.602827 \r\nL 300.353353 195.888912 \r\nL 300.510485 198.789511 \r\nL 300.824747 180.065466 \r\nL 300.981879 205.62545 \r\nL 301.13901 205.335121 \r\nL 301.296142 187.855483 \r\nL 301.453273 185.660573 \r\nL 301.610405 196.357796 \r\nL 301.767536 185.472756 \r\nL 301.924668 208.50004 \r\nL 302.081799 194.096587 \r\nL 302.238931 190.772307 \r\nL 302.396062 181.873513 \r\nL 302.710325 203.61541 \r\nL 302.867456 186.486777 \r\nL 303.024588 190.979255 \r\nL 303.181719 199.046053 \r\nL 303.338851 180.32044 \r\nL 303.495982 203.479675 \r\nL 303.967377 185.379861 \r\nL 304.124508 202.24708 \r\nL 304.28164 201.67606 \r\nL 304.438771 190.421741 \r\nL 304.595902 201.36685 \r\nL 305.067297 195.777848 \r\nL 305.224428 208.634458 \r\nL 305.38156 197.15684 \r\nL 305.538691 199.305 \r\nL 305.852954 171.291326 \r\nL 306.010086 206.707611 \r\nL 306.167217 200.002514 \r\nL 306.324349 166.554935 \r\nL 306.48148 196.65398 \r\nL 306.795743 205.907333 \r\nL 306.952874 189.082975 \r\nL 307.110006 207.161023 \r\nL 307.267137 204.272885 \r\nL 307.424269 185.464037 \r\nL 307.5814 203.355042 \r\nL 307.738532 203.964805 \r\nL 308.209926 181.272238 \r\nL 308.367057 192.26667 \r\nL 308.524189 192.547675 \r\nL 308.68132 203.528307 \r\nL 308.838452 167.431255 \r\nL 308.995583 207.058699 \r\nL 309.152715 195.887051 \r\nL 309.309846 159.629467 \r\nL 309.466978 201.275586 \r\nL 309.624109 193.160219 \r\nL 309.781241 198.225473 \r\nL 309.938372 189.833325 \r\nL 310.095504 206.143908 \r\nL 310.252635 186.452237 \r\nL 310.409766 193.188507 \r\nL 310.566898 189.825338 \r\nL 310.724029 193.592033 \r\nL 311.038292 193.359849 \r\nL 311.195424 183.434845 \r\nL 311.352555 199.242714 \r\nL 311.509687 190.306475 \r\nL 311.666818 205.487624 \r\nL 311.82395 188.199253 \r\nL 311.981081 199.462584 \r\nL 312.295344 192.785671 \r\nL 312.452475 194.326367 \r\nL 312.609607 174.870727 \r\nL 312.766738 194.565451 \r\nL 312.92387 188.374589 \r\nL 313.395264 205.337253 \r\nL 313.552396 197.100138 \r\nL 313.709527 200.126792 \r\nL 314.02379 193.661908 \r\nL 314.180921 200.120749 \r\nL 314.338053 199.987189 \r\nL 314.495184 189.081261 \r\nL 314.652316 199.216475 \r\nL 314.809447 196.081496 \r\nL 314.966579 197.645776 \r\nL 315.12371 195.549762 \r\nL 315.437973 186.107316 \r\nL 315.595105 208.441393 \r\nL 315.909368 176.766338 \r\nL 316.066499 198.853406 \r\nL 316.22363 191.48222 \r\nL 316.380762 199.816202 \r\nL 316.537893 195.140883 \r\nL 316.695025 181.012393 \r\nL 316.852156 184.397599 \r\nL 317.009288 200.153011 \r\nL 317.166419 200.601343 \r\nL 317.323551 200.172162 \r\nL 317.480682 192.26874 \r\nL 317.637814 205.353603 \r\nL 317.794945 175.996627 \r\nL 318.109208 194.876061 \r\nL 318.266339 201.224341 \r\nL 318.423471 195.553943 \r\nL 318.737734 175.839524 \r\nL 318.894865 193.810586 \r\nL 319.051997 187.125247 \r\nL 319.209128 187.702937 \r\nL 319.523391 208.501002 \r\nL 319.680523 186.475027 \r\nL 319.837654 194.0513 \r\nL 319.994785 186.912277 \r\nL 320.151917 208.749222 \r\nL 320.309048 197.653763 \r\nL 320.46618 200.638308 \r\nL 320.623311 183.887777 \r\nL 320.780443 196.033993 \r\nL 320.937574 183.163186 \r\nL 321.094706 191.482638 \r\nL 321.251837 192.480894 \r\nL 321.408969 176.650862 \r\nL 321.5661 185.350172 \r\nL 321.723232 183.918595 \r\nL 321.880363 194.275435 \r\nL 322.037494 195.710796 \r\nL 322.194626 186.285725 \r\nL 322.351757 193.461922 \r\nL 322.508889 190.778244 \r\nL 322.66602 191.172487 \r\nL 322.823152 193.406662 \r\nL 322.980283 201.689044 \r\nL 323.137415 199.366072 \r\nL 323.451678 185.752443 \r\nL 323.608809 204.113775 \r\nL 323.76594 198.32577 \r\nL 323.923072 198.63454 \r\nL 324.080203 195.28609 \r\nL 324.237335 205.761395 \r\nL 324.551598 186.034159 \r\nL 324.708729 162.542234 \r\nL 324.865861 201.042963 \r\nL 325.022992 188.394326 \r\nL 325.180124 196.671668 \r\nL 325.337255 186.741646 \r\nL 325.494387 197.482756 \r\nL 325.651518 197.204762 \r\nL 325.808649 206.537524 \r\nL 325.965781 178.103179 \r\nL 326.122912 209.406426 \r\nL 326.280044 196.057598 \r\nL 326.437175 194.244303 \r\nL 326.594307 199.919781 \r\nL 326.90857 184.197635 \r\nL 327.065701 201.559874 \r\nL 327.222833 181.910353 \r\nL 327.537095 199.255615 \r\nL 327.851358 196.334944 \r\nL 328.00849 199.961388 \r\nL 328.165621 186.4887 \r\nL 328.322753 198.389727 \r\nL 328.479884 169.551126 \r\nL 328.637016 210.272334 \r\nL 328.794147 188.685387 \r\nL 328.951279 184.459153 \r\nL 329.265542 192.408113 \r\nL 329.422673 193.826183 \r\nL 329.579804 198.908248 \r\nL 329.736936 199.27669 \r\nL 329.894067 195.844858 \r\nL 330.051199 178.643779 \r\nL 330.20833 199.678272 \r\nL 330.365462 201.349141 \r\nL 330.522593 206.185243 \r\nL 330.679725 187.834596 \r\nL 330.836856 205.574058 \r\nL 330.993988 206.26806 \r\nL 331.308251 182.910847 \r\nL 331.465382 201.751141 \r\nL 331.622513 190.595571 \r\nL 331.779645 197.144317 \r\nL 331.936776 199.013687 \r\nL 332.093908 186.685362 \r\nL 332.251039 199.332954 \r\nL 332.408171 198.204628 \r\nL 332.722434 176.299941 \r\nL 333.036697 199.31951 \r\nL 333.350959 186.138741 \r\nL 333.508091 201.289595 \r\nL 333.822354 195.217072 \r\nL 333.979485 202.579874 \r\nL 334.136617 198.056996 \r\nL 334.293748 188.82568 \r\nL 334.45088 193.28205 \r\nL 334.608011 185.836347 \r\nL 334.765143 200.066744 \r\nL 334.922274 195.792065 \r\nL 335.079406 195.118491 \r\nL 335.236537 189.018056 \r\nL 335.393668 190.122755 \r\nL 335.5508 176.588201 \r\nL 335.865063 188.36449 \r\nL 336.336457 212.595578 \r\nL 336.493589 198.298505 \r\nL 336.65072 199.00455 \r\nL 336.807852 195.285651 \r\nL 336.964983 195.108601 \r\nL 337.122115 183.794506 \r\nL 337.436377 205.103668 \r\nL 337.593509 182.130264 \r\nL 337.75064 203.904694 \r\nL 337.907772 198.508799 \r\nL 338.064903 197.815591 \r\nL 338.222035 182.210259 \r\nL 338.379166 189.902739 \r\nL 338.536298 188.628998 \r\nL 338.693429 202.866775 \r\nL 339.007692 198.195742 \r\nL 339.164823 173.00259 \r\nL 339.321955 198.455002 \r\nL 339.479086 198.316549 \r\nL 339.636218 196.564619 \r\nL 339.950481 204.16962 \r\nL 340.107612 200.909988 \r\nL 340.264744 206.362606 \r\nL 340.421875 197.397263 \r\nL 340.579007 202.532225 \r\nL 340.736138 176.395554 \r\nL 340.89327 199.212774 \r\nL 341.050401 152.369114 \r\nL 341.364664 209.902073 \r\nL 341.678927 188.782087 \r\nL 341.836058 192.958686 \r\nL 341.99319 184.746388 \r\nL 342.307453 191.03165 \r\nL 342.464584 185.009746 \r\nL 342.621716 204.215054 \r\nL 342.935978 184.835917 \r\nL 343.09311 197.648619 \r\nL 343.250241 182.374743 \r\nL 343.564504 207.733445 \r\nL 343.721636 198.79616 \r\nL 343.878767 197.379491 \r\nL 344.035899 198.084051 \r\nL 344.19303 186.860927 \r\nL 344.507293 196.368668 \r\nL 344.664425 197.700283 \r\nL 344.821556 205.341916 \r\nL 344.978687 199.577474 \r\nL 345.135819 187.63852 \r\nL 345.29295 195.871913 \r\nL 345.450082 194.23456 \r\nL 345.607213 196.416464 \r\nL 345.764345 180.840027 \r\nL 346.078608 194.955658 \r\nL 346.235739 179.279719 \r\nL 346.392871 201.000039 \r\nL 346.550002 198.101384 \r\nL 346.707134 202.76052 \r\nL 346.864265 181.918194 \r\nL 347.021396 196.727305 \r\nL 347.178528 183.316819 \r\nL 347.335659 211.216961 \r\nL 347.492791 201.722538 \r\nL 347.649922 203.93775 \r\nL 348.121317 189.939705 \r\nL 348.278448 189.790965 \r\nL 348.43558 197.71793 \r\nL 348.592711 194.674361 \r\nL 348.906974 184.024077 \r\nL 349.064105 197.425091 \r\nL 349.221237 200.071051 \r\nL 349.378368 190.229449 \r\nL 349.5355 201.721828 \r\nL 349.692631 185.756918 \r\nL 350.006894 202.229727 \r\nL 350.164026 193.15541 \r\nL 350.321157 203.612566 \r\nL 350.478289 179.794413 \r\nL 350.63542 190.230055 \r\nL 350.792551 183.986818 \r\nL 350.949683 203.016142 \r\nL 351.263946 192.035636 \r\nL 351.421077 191.641957 \r\nL 351.578209 199.798075 \r\nL 351.73534 194.934123 \r\nL 351.892472 178.619609 \r\nL 352.206735 200.104232 \r\nL 352.363866 198.494289 \r\nL 352.520998 188.946299 \r\nL 352.678129 198.035774 \r\nL 352.83526 193.82428 \r\nL 352.992392 184.768467 \r\nL 353.306655 202.019287 \r\nL 353.463786 199.791802 \r\nL 353.620918 200.734004 \r\nL 353.778049 193.480928 \r\nL 353.935181 169.243359 \r\nL 354.092312 195.562996 \r\nL 354.249444 193.379147 \r\nL 354.563706 197.298597 \r\nL 354.720838 186.859254 \r\nL 354.877969 189.60137 \r\nL 355.035101 203.948455 \r\nL 355.192232 188.277931 \r\nL 355.349364 196.867368 \r\nL 355.506495 185.683551 \r\nL 355.663627 208.232374 \r\nL 355.820758 187.851176 \r\nL 355.97789 194.286035 \r\nL 356.135021 185.229553 \r\nL 356.292153 189.597774 \r\nL 356.449284 213.819098 \r\nL 356.763547 191.456168 \r\nL 356.920678 201.746081 \r\nL 357.07781 198.744349 \r\nL 357.234941 188.583419 \r\nL 357.392073 204.588765 \r\nL 357.549204 189.70934 \r\nL 357.706336 211.67144 \r\nL 357.863467 187.070781 \r\nL 358.020599 204.343471 \r\nL 358.17773 201.565581 \r\nL 358.334861 196.149426 \r\nL 358.491993 195.799718 \r\nL 358.649124 202.081614 \r\nL 358.806256 194.606034 \r\nL 358.963387 195.85642 \r\nL 359.120519 190.716336 \r\nL 359.27765 199.792158 \r\nL 359.434782 195.845214 \r\nL 359.591913 199.299375 \r\nL 359.749045 193.797832 \r\nL 360.063308 199.880411 \r\nL 360.37757 176.473311 \r\nL 360.534702 203.35293 \r\nL 360.691833 194.431284 \r\nL 360.848965 200.267085 \r\nL 361.006096 194.17585 \r\nL 361.163228 198.656243 \r\nL 361.320359 192.193011 \r\nL 361.634622 202.16993 \r\nL 361.948885 178.771674 \r\nL 362.106017 190.957343 \r\nL 362.263148 162.375493 \r\nL 362.420279 191.856746 \r\nL 362.734542 188.988345 \r\nL 362.891674 188.697911 \r\nL 363.048805 199.639508 \r\nL 363.363068 197.406399 \r\nL 363.363068 197.406399 \r\n\" style=\"fill:none;stroke:#1f77b4;stroke-linecap:square;stroke-width:1.5;\"/>\r\n   </g>\r\n   <g id=\"patch_3\">\r\n    <path d=\"M 43.78125 225.378308 \r\nL 43.78125 7.938308 \r\n\" style=\"fill:none;stroke:#000000;stroke-linecap:square;stroke-linejoin:miter;stroke-width:0.8;\"/>\r\n   </g>\r\n   <g id=\"patch_4\">\r\n    <path d=\"M 378.58125 225.378308 \r\nL 378.58125 7.938308 \r\n\" style=\"fill:none;stroke:#000000;stroke-linecap:square;stroke-linejoin:miter;stroke-width:0.8;\"/>\r\n   </g>\r\n   <g id=\"patch_5\">\r\n    <path d=\"M 43.78125 225.378308 \r\nL 378.58125 225.378308 \r\n\" style=\"fill:none;stroke:#000000;stroke-linecap:square;stroke-linejoin:miter;stroke-width:0.8;\"/>\r\n   </g>\r\n   <g id=\"patch_6\">\r\n    <path d=\"M 43.78125 7.938308 \r\nL 378.58125 7.938308 \r\n\" style=\"fill:none;stroke:#000000;stroke-linecap:square;stroke-linejoin:miter;stroke-width:0.8;\"/>\r\n   </g>\r\n  </g>\r\n </g>\r\n <defs>\r\n  <clipPath id=\"pdba7d4af03\">\r\n   <rect height=\"217.44\" width=\"334.8\" x=\"43.78125\" y=\"7.938308\"/>\r\n  </clipPath>\r\n </defs>\r\n</svg>\r\n",
            "image/png": "[encoded data removed]"
          },
          "metadata": {}
        },
        {
          "output_type": "stream",
          "name": "stderr",
          "text": [
            ",\n",
            "        2,  0, 59, 14, 59, 59,  1, 58, 26, 32, 30, 82, 24, 31, 32, 26, 27,\n",
            "        1, 58, 26, 32, 58, 82, 26, 59, 59, 14,  1, 58, 26, 26, 14])]\n",
            "[array([61, 62, 60,  1, 61, 59, 60, 58, 82, 27, 58, 59, 58,  1, 27, 32, 32,\n",
            "       14, 22, 82,  2,  0, 58, 26, 60, 26,  1, 61, 26, 60, 26, 82, 58, 26,\n",
            "       56, 61,  1, 60, 58, 26, 14, 82, 58, 26, 60, 26,  1, 61, 26, 60, 58,\n",
            "       82, 27, 58, 59, 58,  1, 27, 32, 32, 14, 82,  2,  0, 58, 26, 60, 26,\n",
            "        1, 61, 26, 60, 59, 82, 58, 59, 60, 61,  1, 62, 14, 61, 62, 82, 56,\n",
            "       61, 62, 60,  1, 61, 59, 60, 58, 82, 27, 58, 59, 58,  1, 27]), array([60, 59, 82, 27, 59, 60, 62,  1, 61, 60, 59, 61, 82, 60, 18, 60, 61,\n",
            "       82,  2,  0, 62, 15, 60,  1, 61, 15, 59, 82, 60, 59, 27, 58,  1, 59,\n",
            "       15, 60, 82, 59, 27, 26, 31,  1, 32, 26, 27, 58, 82, 59, 27, 26, 31,\n",
            "        1, 32, 31, 30, 29, 82,  2,  0, 27,  8, 14, 30, 14,  1, 30, 31, 32,\n",
            "       26, 82, 27, 14, 60, 14,  1, 60, 59, 60, 61, 82, 60, 14, 27, 14,  1,\n",
            "       27, 26, 32, 31, 82, 30, 18,  9, 30, 22, 82,  2,  0,  0, 49]), array([54, 58, 82, 59, 61, 60, 54, 58,  1, 59, 14, 82, 53,  2,  0,  0, 49,\n",
            "       22, 13, 12,  0, 45, 22, 44, 78, 60, 60, 75, 74,  1, 70, 61,  1, 38,\n",
            "       56, 80,  0, 51, 22,  1, 64, 59, 22, 59, 58,  9, 68, 64, 74, 58, 60,\n",
            "       67, 67, 56, 69, 60, 70, 76, 74,  9, 19,  0, 38, 22, 18, 11, 20,  0,\n",
            "       37, 22, 13, 11, 20,  0, 36, 22, 32,  1, 38, 56, 65, 70, 73,  0, 59,\n",
            "       58, 82, 27, 14, 32,  1, 26, 32, 31, 82, 32, 26, 32,  1, 32]), array([ 1, 26, 59, 59, 22, 82,  2,  0, 36, 22, 29,  1, 38, 64, 79, 70, 67,\n",
            "       80, 59, 64, 56, 69,  0, 58, 82, 26, 59, 59, 14,  1, 58, 26, 32, 30,\n",
            "       82, 24, 31, 32, 26, 27,  1, 58, 26, 32, 58, 82, 26, 59, 59, 14,  1,\n",
            "       58, 26, 26, 14, 82, 58, 59, 60, 62,  1, 61, 59, 59, 54, 58, 82,  2,\n",
            "        0, 59, 14, 59, 59,  1, 58, 26, 32, 30, 82, 24, 31, 32, 26, 27,  1,\n",
            "       58, 26, 32, 58, 82, 26, 59, 59, 14,  1, 58, 26, 26, 14, 82])]\n",
            "(200679,) 200678\n",
            "idx [ 51023 128456 187519  38244]\n",
            "[array([30, 29,  1, 26, 31, 26, 82, 27, 14, 58,  1, 59, 15, 22, 82,  2,  0,\n",
            "       52, 14,  1, 61, 82, 56, 61, 59,  1, 60, 59, 58, 82, 59, 58, 27,  1,\n",
            "       26, 31, 29, 82, 29, 30, 29,  1, 26, 31, 26, 82, 27, 14, 58,  1, 59,\n",
            "       15, 82, 53,  2,  0,  0, 49, 22, 13, 15, 18,  0, 45, 22, 44, 60, 56,\n",
            "       69,  1, 43, 80, 56, 69,  5, 74,  1, 39, 70, 10,  1, 13,  0, 51, 22,\n",
            "        1, 64, 59, 22, 59, 58,  9, 65, 64, 62,  9, 13, 13, 16,  0]), array([60, 59, 82, 27, 26, 27, 59,  1, 62, 61, 62, 60, 82, 59, 27, 32, 26,\n",
            "        1, 27, 26, 26, 14, 22, 82,  2,  0,  0, 49, 22, 13, 20, 21,  0, 45,\n",
            "       22, 36, 80, 67, 60, 57, 73, 56, 58, 66,  1, 43, 56, 68, 57, 67, 60,\n",
            "       73,  0, 51, 22,  1, 64, 59, 22, 59, 58,  9, 73, 60, 60, 67,  9, 13,\n",
            "       19, 14,  0, 38, 22, 28,  0, 37, 22, 13, 11, 20,  0, 36, 22, 29,  1,\n",
            "       38, 64, 79, 70, 67, 80, 59, 64, 56, 69,  0, 24, 31, 30, 82]), array([62,  1, 59, 14, 27, 82, 26, 27, 58,  1, 59, 60, 61, 82, 62, 15,  1,\n",
            "       62, 14, 22, 82,  2,  0, 60, 82, 59, 14, 27,  1, 27, 14, 32, 82, 29,\n",
            "       32, 27,  1, 59, 58, 27, 82, 58, 14, 26,  1, 26, 14, 31, 82, 29, 31,\n",
            "       26,  1, 58, 27, 58, 82,  2,  0, 59, 14, 27,  1, 27, 14, 32, 82, 29,\n",
            "       32, 27,  1, 59, 58, 27, 82, 58, 26, 31,  1, 29, 30, 31, 82, 32, 15,\n",
            "        1, 32, 14, 22, 82,  2,  0,  0, 49, 22, 13, 15,  0, 45, 22]), array([58, 59,  1, 27, 58, 59, 82,  2,  0, 60, 14, 58,  1, 59, 58, 27, 82,\n",
            "       58, 26, 31,  1, 30, 15, 82, 26, 58, 60,  1, 56, 60, 59, 82, 58, 59,\n",
            "       27,  1, 26, 22, 82,  2,  0, 58, 59, 82, 60, 56, 61,  1, 24, 62, 15,\n",
            "       82, 56, 62, 56,  1, 60, 58, 26, 82, 59, 14, 61,  1, 58, 14, 60, 82,\n",
            "       59, 58, 59,  1, 27, 58, 59, 82,  2,  0, 60, 58, 26,  1, 61, 59, 27,\n",
            "       82, 56, 62, 56,  1, 60, 58, 26, 82, 59, 60, 62,  1, 56, 60])]\n",
            "[array([29,  1, 26, 31, 26, 82, 27, 14, 58,  1, 59, 15, 22, 82,  2,  0, 52,\n",
            "       14,  1, 61, 82, 56, 61, 59,  1, 60, 59, 58, 82, 59, 58, 27,  1, 26,\n",
            "       31, 29, 82, 29, 30, 29,  1, 26, 31, 26, 82, 27, 14, 58,  1, 59, 15,\n",
            "       82, 53,  2,  0,  0, 49, 22, 13, 15, 18,  0, 45, 22, 44, 60, 56, 69,\n",
            "        1, 43, 80, 56, 69,  5, 74,  1, 39, 70, 10,  1, 13,  0, 51, 22,  1,\n",
            "       64, 59, 22, 59, 58,  9, 65, 64, 62,  9, 13, 13, 16,  0, 38]), array([59, 82, 27, 26, 27, 59,  1, 62, 61, 62, 60, 82, 59, 27, 32, 26,  1,\n",
            "       27, 26, 26, 14, 22, 82,  2,  0,  0, 49, 22, 13, 20, 21,  0, 45, 22,\n",
            "       36, 80, 67, 60, 57, 73, 56, 58, 66,  1, 43, 56, 68, 57, 67, 60, 73,\n",
            "        0, 51, 22,  1, 64, 59, 22, 59, 58,  9, 73, 60, 60, 67,  9, 13, 19,\n",
            "       14,  0, 38, 22, 28,  0, 37, 22, 13, 11, 20,  0, 36, 22, 29,  1, 38,\n",
            "       64, 79, 70, 67, 80, 59, 64, 56, 69,  0, 24, 31, 30, 82, 29]), array([ 1, 59, 14, 27, 82, 26, 27, 58,  1, 59, 60, 61, 82, 62, 15,  1, 62,\n",
            "       14, 22, 82,  2,  0, 60, 82, 59, 14, 27,  1, 27, 14, 32, 82, 29, 32,\n",
            "       27,  1, 59, 58, 27, 82, 58, 14, 26,  1, 26, 14, 31, 82, 29, 31, 26,\n",
            "        1, 58, 27, 58, 82,  2,  0, 59, 14, 27,  1, 27, 14, 32, 82, 29, 32,\n",
            "       27,  1, 59, 58, 27, 82, 58, 26, 31,  1, 29, 30, 31, 82, 32, 15,  1,\n",
            "       32, 14, 22, 82,  2,  0,  0, 49, 22, 13, 15,  0, 45, 22, 36]), array([59,  1, 27, 58, 59, 82,  2,  0, 60, 14, 58,  1, 59, 58, 27, 82, 58,\n",
            "       26, 31,  1, 30, 15, 82, 26, 58, 60,  1, 56, 60, 59, 82, 58, 59, 27,\n",
            "        1, 26, 22, 82,  2,  0, 58, 59, 82, 60, 56, 61,  1, 24, 62, 15, 82,\n",
            "       56, 62, 56,  1, 60, 58, 26, 82, 59, 14, 61,  1, 58, 14, 60, 82, 59,\n",
            "       58, 59,  1, 27, 58, 59, 82,  2,  0, 60, 58, 26,  1, 61, 59, 27, 82,\n",
            "       56, 62, 56,  1, 60, 58, 26, 82, 59, 60, 62,  1, 56, 60, 59])]\n",
            "(200679,) 200678\n",
            "idx [ 44098  91109 183191  97947]\n",
            "[array([60, 82, 59, 27, 32,  1, 26, 15, 22, 82,  2,  0,  0, 49, 22, 13, 12,\n",
            "       19,  0, 45, 22, 40, 67, 59,  1, 32, 73, 60, 80,  1, 32, 70, 70, 74,\n",
            "       60,  0, 51, 22,  1, 64, 59, 22, 59, 58,  9, 65, 64, 62,  9, 20, 20,\n",
            "        0, 38, 22, 18, 11, 20,  0, 37, 22, 13, 11, 20,  0, 36, 22, 30,  1,\n",
            "       38, 64, 69, 70, 73,  0, 31, 82, 32, 27, 32,  1, 31, 26, 31, 82, 32,\n",
            "       30, 30,  1, 30, 14, 31, 82, 29, 31, 26,  1, 59, 26, 32, 82]), array([60, 67,  9, 15, 18,  0, 38, 22, 28,  0, 37, 22, 13, 11, 20,  0, 36,\n",
            "       22, 27,  1, 29, 70, 73, 64, 56, 69,  0, 26, 82, 31, 27, 27, 14,  1,\n",
            "       61, 27, 27, 14, 82, 59, 58, 27, 58,  1, 26, 30, 30, 14, 82, 31, 27,\n",
            "       27, 14,  1, 26, 27, 58, 60, 82, 56, 61, 60, 58,  1, 27, 56, 62, 56,\n",
            "       82,  2,  0, 61, 14, 60, 58,  1, 61, 14, 60, 58, 82, 27, 26, 27, 58,\n",
            "        1, 27, 26, 31, 30, 82, 31, 27, 27, 14,  1, 26, 27, 58, 60]), array([60, 61, 82, 62, 59, 27,  1, 58, 26, 31, 82, 32, 15,  1, 32, 14, 82,\n",
            "       53,  2,  0,  0, 49, 22, 14, 17,  0, 45, 22, 43, 56, 68, 57, 67, 64,\n",
            "       69, 62,  1, 43, 56, 66, 60,  0, 51, 22,  1, 64, 59, 22, 59, 58,  9,\n",
            "       74, 60, 75, 59, 56, 69, 58, 60,  9, 14, 18,  0, 38, 22, 28, 82,  0,\n",
            "       37, 22, 13, 11, 20,  0, 36, 22, 26,  1, 29, 70, 73, 64, 56, 69,  0,\n",
            "       30, 82, 26, 32, 26, 27,  1, 58, 27, 58, 59, 82, 60, 61, 60]), array([22, 59, 58,  9, 73, 60, 60, 67,  9, 17, 21,  0, 38, 22, 28,  0, 37,\n",
            "       22, 13, 11, 20,  0, 36, 22, 32,  1, 38, 56, 65, 70, 73,  0, 32,  8,\n",
            "       14, 27,  8, 29,  1, 28, 14, 30, 32, 82, 29, 14, 31, 26,  1, 32, 27,\n",
            "       59, 27, 82, 58, 59, 60, 62,  1, 59, 27, 32, 27, 82, 26, 14, 27, 26,\n",
            "        1, 26, 32, 30, 32, 82,  2,  0, 32,  8, 14, 27,  8, 29,  1, 28, 14,\n",
            "       30, 32, 82, 29, 14, 31, 26,  1, 32, 27, 59, 27, 82, 58, 59])]\n",
            "[array([82, 59, 27, 32,  1, 26, 15, 22, 82,  2,  0,  0, 49, 22, 13, 12, 19,\n",
            "        0, 45, 22, 40, 67, 59,  1, 32, 73, 60, 80,  1, 32, 70, 70, 74, 60,\n",
            "        0, 51, 22,  1, 64, 59, 22, 59, 58,  9, 65, 64, 62,  9, 20, 20,  0,\n",
            "       38, 22, 18, 11, 20,  0, 37, 22, 13, 11, 20,  0, 36, 22, 30,  1, 38,\n",
            "       64, 69, 70, 73,  0, 31, 82, 32, 27, 32,  1, 31, 26, 31, 82, 32, 30,\n",
            "       30,  1, 30, 14, 31, 82, 29, 31, 26,  1, 59, 26, 32, 82, 31]), array([67,  9, 15, 18,  0, 38, 22, 28,  0, 37, 22, 13, 11, 20,  0, 36, 22,\n",
            "       27,  1, 29, 70, 73, 64, 56, 69,  0, 26, 82, 31, 27, 27, 14,  1, 61,\n",
            "       27, 27, 14, 82, 59, 58, 27, 58,  1, 26, 30, 30, 14, 82, 31, 27, 27,\n",
            "       14,  1, 26, 27, 58, 60, 82, 56, 61, 60, 58,  1, 27, 56, 62, 56, 82,\n",
            "        2,  0, 61, 14, 60, 58,  1, 61, 14, 60, 58, 82, 27, 26, 27, 58,  1,\n",
            "       27, 26, 31, 30, 82, 31, 27, 27, 14,  1, 26, 27, 58, 60, 82]), array([61, 82, 62, 59, 27,  1, 58, 26, 31, 82, 32, 15,  1, 32, 14, 82, 53,\n",
            "        2,  0,  0, 49, 22, 14, 17,  0, 45, 22, 43, 56, 68, 57, 67, 64, 69,\n",
            "       62,  1, 43, 56, 66, 60,  0, 51, 22,  1, 64, 59, 22, 59, 58,  9, 74,\n",
            "       60, 75, 59, 56, 69, 58, 60,  9, 14, 18,  0, 38, 22, 28, 82,  0, 37,\n",
            "       22, 13, 11, 20,  0, 36, 22, 26,  1, 29, 70, 73, 64, 56, 69,  0, 30,\n",
            "       82, 26, 32, 26, 27,  1, 58, 27, 58, 59, 82, 60, 61, 60, 58]), array([59, 58,  9, 73, 60, 60, 67,  9, 17, 21,  0, 38, 22, 28,  0, 37, 22,\n",
            "       13, 11, 20,  0, 36, 22, 32,  1, 38, 56, 65, 70, 73,  0, 32,  8, 14,\n",
            "       27,  8, 29,  1, 28, 14, 30, 32, 82, 29, 14, 31, 26,  1, 32, 27, 59,\n",
            "       27, 82, 58, 59, 60, 62,  1, 59, 27, 32, 27, 82, 26, 14, 27, 26,  1,\n",
            "       26, 32, 30, 32, 82,  2,  0, 32,  8, 14, 27,  8, 29,  1, 28, 14, 30,\n",
            "       32, 82, 29, 14, 31, 26,  1, 32, 27, 59, 27, 82, 58, 59, 60])]\n",
            "(200679,) 200678\n",
            "idx [152794 171752  14732  40177]\n",
            "[array([ 1, 45, 73, 64, 71,  1, 75, 70,  1, 44, 58, 70, 75, 67, 56, 69, 59,\n",
            "        0, 51, 22,  1, 64, 59, 22, 59, 58,  9, 73, 60, 60, 67,  9, 14, 18,\n",
            "       17,  0, 38, 22, 28,  0, 37, 22, 13, 11, 20,  0, 36, 22, 29,  1, 38,\n",
            "       56, 65, 70, 73,  0, 26, 82, 59, 14, 26, 26,  1, 27, 26, 32, 31, 82,\n",
            "       32, 26, 27, 59,  1, 58, 26, 27, 58, 82, 59, 14, 60, 59,  1, 58, 26,\n",
            "       27, 58, 82, 59, 61, 60, 59,  1, 58, 26, 27, 58, 82,  2,  0]), array([ 0, 49, 22, 15, 18, 19,  0, 45, 22, 45, 73, 64, 71,  1, 75, 70,  1,\n",
            "       41, 56, 66, 64, 74, 75, 56, 69,  0, 51, 22,  1, 64, 59, 22, 59, 58,\n",
            "        9, 73, 60, 60, 67,  9, 15, 19, 15,  0, 38, 22, 28,  0, 37, 22, 13,\n",
            "       11, 20,  0, 36, 22, 30,  1, 38, 64, 69, 70, 73,  0, 30, 32, 27, 30,\n",
            "        1, 32, 15, 27, 82, 26, 27, 26, 32,  1, 31, 32, 26, 31, 82, 30, 32,\n",
            "       27, 30,  1, 32, 15, 27, 82, 26, 32, 31, 32,  1, 30, 16, 22]), array([32, 14, 22, 82,  2,  0, 62, 56, 82, 57, 62, 59, 27,  1, 32, 27, 59,\n",
            "       62, 82, 56, 61, 58, 26,  1, 31, 26, 58, 61, 82, 56, 61, 57, 62,  1,\n",
            "       58,  5, 56, 57, 62, 82, 56, 62, 61, 60,  1, 59, 58, 27, 26, 82,  2,\n",
            "        0, 32, 29, 27, 32,  1, 59, 27, 62, 59, 82, 57, 62, 59, 27,  1, 58,\n",
            "       27, 26, 32, 82, 61, 60, 59, 58,  1, 60, 59, 27, 32, 82, 31, 26, 29,\n",
            "       31,  1, 32, 14, 22, 82,  2,  0,  0, 49, 22, 17, 18,  0, 45]), array([26, 31,  1, 32, 22, 82,  2,  0, 27, 58, 82, 59, 62, 62,  1, 62, 61,\n",
            "       62, 82, 56, 57, 62,  1, 61, 62, 56, 82, 57, 56, 62,  1, 56, 62, 61,\n",
            "       82, 59, 60, 61,  1, 62, 14, 56, 82,  2,  0, 57, 56, 62,  1, 56, 62,\n",
            "       61, 82, 62, 56, 62,  1, 61, 59, 54, 58, 82, 59, 60, 61,  1, 62, 59,\n",
            "       27, 82, 58, 26, 31,  1, 32, 22, 82,  2,  0, 27, 58, 82, 59, 27, 32,\n",
            "        1, 32, 31, 32, 82, 59, 27, 32,  1, 32, 26, 27, 82, 58, 26])]\n",
            "[array([45, 73, 64, 71,  1, 75, 70,  1, 44, 58, 70, 75, 67, 56, 69, 59,  0,\n",
            "       51, 22,  1, 64, 59, 22, 59, 58,  9, 73, 60, 60, 67,  9, 14, 18, 17,\n",
            "        0, 38, 22, 28,  0, 37, 22, 13, 11, 20,  0, 36, 22, 29,  1, 38, 56,\n",
            "       65, 70, 73,  0, 26, 82, 59, 14, 26, 26,  1, 27, 26, 32, 31, 82, 32,\n",
            "       26, 27, 59,  1, 58, 26, 27, 58, 82, 59, 14, 60, 59,  1, 58, 26, 27,\n",
            "       58, 82, 59, 61, 60, 59,  1, 58, 26, 27, 58, 82,  2,  0, 59]), array([49, 22, 15, 18, 19,  0, 45, 22, 45, 73, 64, 71,  1, 75, 70,  1, 41,\n",
            "       56, 66, 64, 74, 75, 56, 69,  0, 51, 22,  1, 64, 59, 22, 59, 58,  9,\n",
            "       73, 60, 60, 67,  9, 15, 19, 15,  0, 38, 22, 28,  0, 37, 22, 13, 11,\n",
            "       20,  0, 36, 22, 30,  1, 38, 64, 69, 70, 73,  0, 30, 32, 27, 30,  1,\n",
            "       32, 15, 27, 82, 26, 27, 26, 32,  1, 31, 32, 26, 31, 82, 30, 32, 27,\n",
            "       30,  1, 32, 15, 27, 82, 26, 32, 31, 32,  1, 30, 16, 22, 82]), array([14, 22, 82,  2,  0, 62, 56, 82, 57, 62, 59, 27,  1, 32, 27, 59, 62,\n",
            "       82, 56, 61, 58, 26,  1, 31, 26, 58, 61, 82, 56, 61, 57, 62,  1, 58,\n",
            "        5, 56, 57, 62, 82, 56, 62, 61, 60,  1, 59, 58, 27, 26, 82,  2,  0,\n",
            "       32, 29, 27, 32,  1, 59, 27, 62, 59, 82, 57, 62, 59, 27,  1, 58, 27,\n",
            "       26, 32, 82, 61, 60, 59, 58,  1, 60, 59, 27, 32, 82, 31, 26, 29, 31,\n",
            "        1, 32, 14, 22, 82,  2,  0,  0, 49, 22, 17, 18,  0, 45, 22]), array([31,  1, 32, 22, 82,  2,  0, 27, 58, 82, 59, 62, 62,  1, 62, 61, 62,\n",
            "       82, 56, 57, 62,  1, 61, 62, 56, 82, 57, 56, 62,  1, 56, 62, 61, 82,\n",
            "       59, 60, 61,  1, 62, 14, 56, 82,  2,  0, 57, 56, 62,  1, 56, 62, 61,\n",
            "       82, 62, 56, 62,  1, 61, 59, 54, 58, 82, 59, 60, 61,  1, 62, 59, 27,\n",
            "       82, 58, 26, 31,  1, 32, 22, 82,  2,  0, 27, 58, 82, 59, 27, 32,  1,\n",
            "       32, 31, 32, 82, 59, 27, 32,  1, 32, 26, 27, 82, 58, 26, 24])]\n",
            "100%|██████████| 2000/2000 [00:51<00:00, 38.66it/s]\n",
            "(200679,) 200678\n",
            "idx [123894 107312 185075   3102]\n",
            "[array([82, 26, 15, 61,  1, 62, 60, 59, 27, 82, 26, 15, 27,  1, 32, 15, 27,\n",
            "       82, 59, 27, 32, 27,  1, 59, 14, 22, 82,  2,  0, 60, 59, 82, 60, 59,\n",
            "       60, 61,  1, 62, 14, 60, 61, 82, 62, 14, 56, 61,  1, 62, 60, 59, 62,\n",
            "       82, 60, 59, 60, 62,  1, 56, 14, 57, 62, 82, 56, 14, 57, 62,  1, 56,\n",
            "       62, 22, 82,  2,  0, 60, 59, 82, 60, 56, 56, 62,  1, 60, 59, 27, 59,\n",
            "       82, 60, 56, 56, 62,  1, 60, 62, 59, 62, 82, 60, 56, 56, 62]), array([63, 75,  0, 51, 22,  1, 64, 59, 22, 59, 58,  9, 73, 60, 60, 67,  9,\n",
            "       21, 18,  0, 38, 22, 28,  0, 37, 22, 13, 11, 20,  0, 36, 22, 32,  1,\n",
            "       38, 56, 65, 70, 73,  0, 32, 30, 82, 29, 32, 32, 14,  1, 26, 32, 32,\n",
            "       14, 82, 27, 59, 59, 27,  1, 26, 32, 31, 30, 82, 29, 31, 31, 14,  1,\n",
            "       26, 31, 31, 14, 82, 26, 27, 58, 26,  1, 27, 32, 26, 31, 82,  2,  0,\n",
            "       29, 32, 32, 14,  1, 26, 32, 32, 14, 82, 27, 59, 59, 27,  1]), array([22, 13, 11, 20,  0, 36, 22, 29,  1, 38, 56, 65, 70, 73,  0, 26, 15,\n",
            "        1, 29, 31, 26, 82, 27, 26, 31,  1, 29, 15, 82, 59, 58, 59,  1, 60,\n",
            "       59, 60, 82, 61, 15,  1, 59, 60, 61, 82,  2,  0, 62, 15,  1, 62, 56,\n",
            "       57, 82, 56, 61, 59,  1, 27, 58, 59, 82, 52, 13,  1, 60, 14, 59,  1,\n",
            "       60, 14, 59, 82, 58, 27, 26,  1, 27, 58, 59, 22, 82, 52, 14,  1, 26,\n",
            "       27, 58,  1, 59, 61, 60, 82, 59, 15,  1, 59, 15, 82, 53,  2]), array([27, 58, 26, 82, 27, 32, 32, 31,  1, 32, 14, 22, 82,  2,  0,  0, 49,\n",
            "       22, 13, 15,  0, 45, 22, 28, 73, 70, 69, 64, 69,  5, 74,  0, 51, 22,\n",
            "        1, 64, 59, 22, 59, 58,  9, 63, 70, 73, 69, 71, 64, 71, 60,  9, 13,\n",
            "       14,  0, 38, 22, 28, 82,  0, 37, 22, 13, 11, 20,  0, 36, 22, 32,  1,\n",
            "       38, 56, 65, 70, 73,  0, 27, 26, 82, 32, 26, 27, 58,  1, 59, 54, 58,\n",
            "       59, 61, 82, 62, 56, 62, 60,  1, 59, 60, 62, 56, 82, 57, 56])]\n",
            "[array([26, 15, 61,  1, 62, 60, 59, 27, 82, 26, 15, 27,  1, 32, 15, 27, 82,\n",
            "       59, 27, 32, 27,  1, 59, 14, 22, 82,  2,  0, 60, 59, 82, 60, 59, 60,\n",
            "       61,  1, 62, 14, 60, 61, 82, 62, 14, 56, 61,  1, 62, 60, 59, 62, 82,\n",
            "       60, 59, 60, 62,  1, 56, 14, 57, 62, 82, 56, 14, 57, 62,  1, 56, 62,\n",
            "       22, 82,  2,  0, 60, 59, 82, 60, 56, 56, 62,  1, 60, 59, 27, 59, 82,\n",
            "       60, 56, 56, 62,  1, 60, 62, 59, 62, 82, 60, 56, 56, 62,  1]), array([75,  0, 51, 22,  1, 64, 59, 22, 59, 58,  9, 73, 60, 60, 67,  9, 21,\n",
            "       18,  0, 38, 22, 28,  0, 37, 22, 13, 11, 20,  0, 36, 22, 32,  1, 38,\n",
            "       56, 65, 70, 73,  0, 32, 30, 82, 29, 32, 32, 14,  1, 26, 32, 32, 14,\n",
            "       82, 27, 59, 59, 27,  1, 26, 32, 31, 30, 82, 29, 31, 31, 14,  1, 26,\n",
            "       31, 31, 14, 82, 26, 27, 58, 26,  1, 27, 32, 26, 31, 82,  2,  0, 29,\n",
            "       32, 32, 14,  1, 26, 32, 32, 14, 82, 27, 59, 59, 27,  1, 26]), array([13, 11, 20,  0, 36, 22, 29,  1, 38, 56, 65, 70, 73,  0, 26, 15,  1,\n",
            "       29, 31, 26, 82, 27, 26, 31,  1, 29, 15, 82, 59, 58, 59,  1, 60, 59,\n",
            "       60, 82, 61, 15,  1, 59, 60, 61, 82,  2,  0, 62, 15,  1, 62, 56, 57,\n",
            "       82, 56, 61, 59,  1, 27, 58, 59, 82, 52, 13,  1, 60, 14, 59,  1, 60,\n",
            "       14, 59, 82, 58, 27, 26,  1, 27, 58, 59, 22, 82, 52, 14,  1, 26, 27,\n",
            "       58,  1, 59, 61, 60, 82, 59, 15,  1, 59, 15, 82, 53,  2,  0]), array([58, 26, 82, 27, 32, 32, 31,  1, 32, 14, 22, 82,  2,  0,  0, 49, 22,\n",
            "       13, 15,  0, 45, 22, 28, 73, 70, 69, 64, 69,  5, 74,  0, 51, 22,  1,\n",
            "       64, 59, 22, 59, 58,  9, 63, 70, 73, 69, 71, 64, 71, 60,  9, 13, 14,\n",
            "        0, 38, 22, 28, 82,  0, 37, 22, 13, 11, 20,  0, 36, 22, 32,  1, 38,\n",
            "       56, 65, 70, 73,  0, 27, 26, 82, 32, 26, 27, 58,  1, 59, 54, 58, 59,\n",
            "       61, 82, 62, 56, 62, 60,  1, 59, 60, 62, 56, 82, 57, 56, 62])]\n",
            "(200679,) 200678\n",
            "idx [ 75437 182410 100371 179331]\n",
            "[array([29,  1, 29, 30, 22, 82,  2,  0, 31, 26,  1, 26, 11, 27, 11, 59, 11,\n",
            "       60, 11, 82, 61, 11, 60, 11, 61, 11, 59, 11,  1, 60, 59, 82, 27, 59,\n",
            "       11, 27, 11,  1, 26, 31, 11, 26, 11, 82, 27, 30,  1, 32, 11, 31, 11,\n",
            "       30, 11, 29, 11, 82,  2,  0, 31, 26,  1, 26, 11, 27, 11, 59, 11, 60,\n",
            "       11, 82, 61, 11, 60, 11, 61, 11, 59, 11,  1, 60, 59, 82, 27, 59, 11,\n",
            "       27, 11,  1, 26, 11, 27, 11, 26, 11, 32, 11, 82, 31, 29,  1]), array([26, 27,  1, 26, 14, 59, 58, 82,  2,  0, 27, 14, 26, 27,  1, 59, 14,\n",
            "       27, 59, 82, 60, 14, 59, 60,  1, 61, 14, 60, 59, 82, 27, 26, 27, 58,\n",
            "        1, 59, 14, 31, 14, 82, 30, 16,  1, 29, 14, 22, 82,  2,  0, 61, 62,\n",
            "       82, 56, 14, 56, 57,  1, 56, 14, 61, 62, 82, 56, 61, 56, 57,  1, 56,\n",
            "       14, 61, 62, 82, 56, 62, 61, 60,  1, 59, 60, 61, 62, 82, 56, 14, 56,\n",
            "       57,  1, 56, 14, 61, 56, 82,  2,  0, 57, 14, 57, 56,  1, 57]), array([14,  1, 62, 59, 27, 32, 82, 26, 27, 58, 59,  1, 60, 56, 56, 61, 82,\n",
            "       62, 60, 59, 27,  1, 58, 26, 26, 82, 53,  2,  0,  0, 49, 22, 19, 17,\n",
            "        0, 45, 22, 29, 70, 78, 59,  5, 74,  1, 39, 70, 10,  1, 21,  0, 51,\n",
            "       22,  1, 64, 59, 22, 59, 58,  9, 73, 60, 60, 67,  9, 18, 18,  0, 38,\n",
            "       22, 28,  0, 37, 22, 13, 11, 20,  0, 36, 22, 29,  1, 38, 56, 65, 70,\n",
            "       73,  0, 29, 31, 31, 14,  1, 32, 31, 30, 31, 82, 29, 14, 31]), array([73, 64, 56, 69,  0, 27,  8, 82, 30, 31, 30,  1, 32, 14, 26, 82, 27,\n",
            "       32, 30,  1, 31, 30, 31, 82, 29, 30, 29,  1, 31, 14, 32, 82, 26, 59,\n",
            "       27,  1, 26, 31, 29, 82,  2,  0, 30, 31, 30,  1, 32, 14, 26, 82, 27,\n",
            "       32, 30,  1, 31, 32, 26, 82, 27, 59, 27,  1, 26, 59, 31, 82, 30, 32,\n",
            "       31,  1, 30, 14, 22, 82,  2,  0, 27, 82, 26, 31, 26,  1, 59, 14, 59,\n",
            "       82, 58, 60, 58,  1, 59, 14, 27, 82, 26, 31, 26,  1, 59, 14])]\n",
            "[array([ 1, 29, 30, 22, 82,  2,  0, 31, 26,  1, 26, 11, 27, 11, 59, 11, 60,\n",
            "       11, 82, 61, 11, 60, 11, 61, 11, 59, 11,  1, 60, 59, 82, 27, 59, 11,\n",
            "       27, 11,  1, 26, 31, 11, 26, 11, 82, 27, 30,  1, 32, 11, 31, 11, 30,\n",
            "       11, 29, 11, 82,  2,  0, 31, 26,  1, 26, 11, 27, 11, 59, 11, 60, 11,\n",
            "       82, 61, 11, 60, 11, 61, 11, 59, 11,  1, 60, 59, 82, 27, 59, 11, 27,\n",
            "       11,  1, 26, 11, 27, 11, 26, 11, 32, 11, 82, 31, 29,  1, 29]), array([27,  1, 26, 14, 59, 58, 82,  2,  0, 27, 14, 26, 27,  1, 59, 14, 27,\n",
            "       59, 82, 60, 14, 59, 60,  1, 61, 14, 60, 59, 82, 27, 26, 27, 58,  1,\n",
            "       59, 14, 31, 14, 82, 30, 16,  1, 29, 14, 22, 82,  2,  0, 61, 62, 82,\n",
            "       56, 14, 56, 57,  1, 56, 14, 61, 62, 82, 56, 61, 56, 57,  1, 56, 14,\n",
            "       61, 62, 82, 56, 62, 61, 60,  1, 59, 60, 61, 62, 82, 56, 14, 56, 57,\n",
            "        1, 56, 14, 61, 56, 82,  2,  0, 57, 14, 57, 56,  1, 57, 14]), array([ 1, 62, 59, 27, 32, 82, 26, 27, 58, 59,  1, 60, 56, 56, 61, 82, 62,\n",
            "       60, 59, 27,  1, 58, 26, 26, 82, 53,  2,  0,  0, 49, 22, 19, 17,  0,\n",
            "       45, 22, 29, 70, 78, 59,  5, 74,  1, 39, 70, 10,  1, 21,  0, 51, 22,\n",
            "        1, 64, 59, 22, 59, 58,  9, 73, 60, 60, 67,  9, 18, 18,  0, 38, 22,\n",
            "       28,  0, 37, 22, 13, 11, 20,  0, 36, 22, 29,  1, 38, 56, 65, 70, 73,\n",
            "        0, 29, 31, 31, 14,  1, 32, 31, 30, 31, 82, 29, 14, 31, 26]), array([64, 56, 69,  0, 27,  8, 82, 30, 31, 30,  1, 32, 14, 26, 82, 27, 32,\n",
            "       30,  1, 31, 30, 31, 82, 29, 30, 29,  1, 31, 14, 32, 82, 26, 59, 27,\n",
            "        1, 26, 31, 29, 82,  2,  0, 30, 31, 30,  1, 32, 14, 26, 82, 27, 32,\n",
            "       30,  1, 31, 32, 26, 82, 27, 59, 27,  1, 26, 59, 31, 82, 30, 32, 31,\n",
            "        1, 30, 14, 22, 82,  2,  0, 27, 82, 26, 31, 26,  1, 59, 14, 59, 82,\n",
            "       58, 60, 58,  1, 59, 14, 27, 82, 26, 31, 26,  1, 59, 14, 26])]\n"
          ]
        },
        {
          "output_type": "display_data",
          "data": {
            "text/plain": "<Figure size 432x288 with 1 Axes>",
            "image/svg+xml": "<?xml version=\"1.0\" encoding=\"utf-8\" standalone=\"no\"?>\r\n<!DOCTYPE svg PUBLIC \"-//W3C//DTD SVG 1.1//EN\"\r\n  \"http://www.w3.org/Graphics/SVG/1.1/DTD/svg11.dtd\">\r\n<!-- Created with matplotlib (https://matplotlib.org/) -->\r\n<svg height=\"262.934558pt\" version=\"1.1\" viewBox=\"0 0 393.18735 262.934558\" width=\"393.18735pt\" xmlns=\"http://www.w3.org/2000/svg\" xmlns:xlink=\"http://www.w3.org/1999/xlink\">\r\n <metadata>\r\n  <rdf:RDF xmlns:cc=\"http://creativecommons.org/ns#\" xmlns:dc=\"http://purl.org/dc/elements/1.1/\" xmlns:rdf=\"http://www.w3.org/1999/02/22-rdf-syntax-ns#\">\r\n   <cc:Work>\r\n    <dc:type rdf:resource=\"http://purl.org/dc/dcmitype/StillImage\"/>\r\n    <dc:date>2021-03-14T19:09:00.483736</dc:date>\r\n    <dc:format>image/svg+xml</dc:format>\r\n    <dc:creator>\r\n     <cc:Agent>\r\n      <dc:title>Matplotlib v3.3.2, https://matplotlib.org/</dc:title>\r\n     </cc:Agent>\r\n    </dc:creator>\r\n   </cc:Work>\r\n  </rdf:RDF>\r\n </metadata>\r\n <defs>\r\n  <style type=\"text/css\">*{stroke-linecap:butt;stroke-linejoin:round;}</style>\r\n </defs>\r\n <g id=\"figure_1\">\r\n  <g id=\"patch_1\">\r\n   <path d=\"M 0 262.934558 \r\nL 393.18735 262.934558 \r\nL 393.18735 0 \r\nL 0 0 \r\nz\r\n\" style=\"fill:none;\"/>\r\n  </g>\r\n  <g id=\"axes_1\">\r\n   <g id=\"patch_2\">\r\n    <path d=\"M 43.78125 225.378308 \r\nL 378.58125 225.378308 \r\nL 378.58125 7.938308 \r\nL 43.78125 7.938308 \r\nz\r\n\" style=\"fill:#ffffff;\"/>\r\n   </g>\r\n   <g id=\"matplotlib.axis_1\">\r\n    <g id=\"xtick_1\">\r\n     <g id=\"line2d_1\">\r\n      <defs>\r\n       <path d=\"M 0 0 \r\nL 0 3.5 \r\n\" id=\"me0b82cb531\" style=\"stroke:#000000;stroke-width:0.8;\"/>\r\n      </defs>\r\n      <g>\r\n       <use style=\"stroke:#000000;stroke-width:0.8;\" x=\"58.999432\" xlink:href=\"#me0b82cb531\" y=\"225.378308\"/>\r\n      </g>\r\n     </g>\r\n     <g id=\"text_1\">\r\n      <!-- 0 -->\r\n      <g transform=\"translate(55.818182 239.976745)scale(0.1 -0.1)\">\r\n       <defs>\r\n        <path d=\"M 31.78125 66.40625 \r\nQ 24.171875 66.40625 20.328125 58.90625 \r\nQ 16.5 51.421875 16.5 36.375 \r\nQ 16.5 21.390625 20.328125 13.890625 \r\nQ 24.171875 6.390625 31.78125 6.390625 \r\nQ 39.453125 6.390625 43.28125 13.890625 \r\nQ 47.125 21.390625 47.125 36.375 \r\nQ 47.125 51.421875 43.28125 58.90625 \r\nQ 39.453125 66.40625 31.78125 66.40625 \r\nz\r\nM 31.78125 74.21875 \r\nQ 44.046875 74.21875 50.515625 64.515625 \r\nQ 56.984375 54.828125 56.984375 36.375 \r\nQ 56.984375 17.96875 50.515625 8.265625 \r\nQ 44.046875 -1.421875 31.78125 -1.421875 \r\nQ 19.53125 -1.421875 13.0625 8.265625 \r\nQ 6.59375 17.96875 6.59375 36.375 \r\nQ 6.59375 54.828125 13.0625 64.515625 \r\nQ 19.53125 74.21875 31.78125 74.21875 \r\nz\r\n\" id=\"DejaVuSans-48\"/>\r\n       </defs>\r\n       <use xlink:href=\"#DejaVuSans-48\"/>\r\n      </g>\r\n     </g>\r\n    </g>\r\n    <g id=\"xtick_2\">\r\n     <g id=\"line2d_2\">\r\n      <g>\r\n       <use style=\"stroke:#000000;stroke-width:0.8;\" x=\"98.282297\" xlink:href=\"#me0b82cb531\" y=\"225.378308\"/>\r\n      </g>\r\n     </g>\r\n     <g id=\"text_2\">\r\n      <!-- 250 -->\r\n      <g transform=\"translate(88.738547 239.976745)scale(0.1 -0.1)\">\r\n       <defs>\r\n        <path d=\"M 19.1875 8.296875 \r\nL 53.609375 8.296875 \r\nL 53.609375 0 \r\nL 7.328125 0 \r\nL 7.328125 8.296875 \r\nQ 12.9375 14.109375 22.625 23.890625 \r\nQ 32.328125 33.6875 34.8125 36.53125 \r\nQ 39.546875 41.84375 41.421875 45.53125 \r\nQ 43.3125 49.21875 43.3125 52.78125 \r\nQ 43.3125 58.59375 39.234375 62.25 \r\nQ 35.15625 65.921875 28.609375 65.921875 \r\nQ 23.96875 65.921875 18.8125 64.3125 \r\nQ 13.671875 62.703125 7.8125 59.421875 \r\nL 7.8125 69.390625 \r\nQ 13.765625 71.78125 18.9375 73 \r\nQ 24.125 74.21875 28.421875 74.21875 \r\nQ 39.75 74.21875 46.484375 68.546875 \r\nQ 53.21875 62.890625 53.21875 53.421875 \r\nQ 53.21875 48.921875 51.53125 44.890625 \r\nQ 49.859375 40.875 45.40625 35.40625 \r\nQ 44.1875 33.984375 37.640625 27.21875 \r\nQ 31.109375 20.453125 19.1875 8.296875 \r\nz\r\n\" id=\"DejaVuSans-50\"/>\r\n        <path d=\"M 10.796875 72.90625 \r\nL 49.515625 72.90625 \r\nL 49.515625 64.59375 \r\nL 19.828125 64.59375 \r\nL 19.828125 46.734375 \r\nQ 21.96875 47.46875 24.109375 47.828125 \r\nQ 26.265625 48.1875 28.421875 48.1875 \r\nQ 40.625 48.1875 47.75 41.5 \r\nQ 54.890625 34.8125 54.890625 23.390625 \r\nQ 54.890625 11.625 47.5625 5.09375 \r\nQ 40.234375 -1.421875 26.90625 -1.421875 \r\nQ 22.3125 -1.421875 17.546875 -0.640625 \r\nQ 12.796875 0.140625 7.71875 1.703125 \r\nL 7.71875 11.625 \r\nQ 12.109375 9.234375 16.796875 8.0625 \r\nQ 21.484375 6.890625 26.703125 6.890625 \r\nQ 35.15625 6.890625 40.078125 11.328125 \r\nQ 45.015625 15.765625 45.015625 23.390625 \r\nQ 45.015625 31 40.078125 35.4375 \r\nQ 35.15625 39.890625 26.703125 39.890625 \r\nQ 22.75 39.890625 18.8125 39.015625 \r\nQ 14.890625 38.140625 10.796875 36.28125 \r\nz\r\n\" id=\"DejaVuSans-53\"/>\r\n       </defs>\r\n       <use xlink:href=\"#DejaVuSans-50\"/>\r\n       <use x=\"63.623047\" xlink:href=\"#DejaVuSans-53\"/>\r\n       <use x=\"127.246094\" xlink:href=\"#DejaVuSans-48\"/>\r\n      </g>\r\n     </g>\r\n    </g>\r\n    <g id=\"xtick_3\">\r\n     <g id=\"line2d_3\">\r\n      <g>\r\n       <use style=\"stroke:#000000;stroke-width:0.8;\" x=\"137.565161\" xlink:href=\"#me0b82cb531\" y=\"225.378308\"/>\r\n      </g>\r\n     </g>\r\n     <g id=\"text_3\">\r\n      <!-- 500 -->\r\n      <g transform=\"translate(128.021411 239.976745)scale(0.1 -0.1)\">\r\n       <use xlink:href=\"#DejaVuSans-53\"/>\r\n       <use x=\"63.623047\" xlink:href=\"#DejaVuSans-48\"/>\r\n       <use x=\"127.246094\" xlink:href=\"#DejaVuSans-48\"/>\r\n      </g>\r\n     </g>\r\n    </g>\r\n    <g id=\"xtick_4\">\r\n     <g id=\"line2d_4\">\r\n      <g>\r\n       <use style=\"stroke:#000000;stroke-width:0.8;\" x=\"176.848026\" xlink:href=\"#me0b82cb531\" y=\"225.378308\"/>\r\n      </g>\r\n     </g>\r\n     <g id=\"text_4\">\r\n      <!-- 750 -->\r\n      <g transform=\"translate(167.304276 239.976745)scale(0.1 -0.1)\">\r\n       <defs>\r\n        <path d=\"M 8.203125 72.90625 \r\nL 55.078125 72.90625 \r\nL 55.078125 68.703125 \r\nL 28.609375 0 \r\nL 18.3125 0 \r\nL 43.21875 64.59375 \r\nL 8.203125 64.59375 \r\nz\r\n\" id=\"DejaVuSans-55\"/>\r\n       </defs>\r\n       <use xlink:href=\"#DejaVuSans-55\"/>\r\n       <use x=\"63.623047\" xlink:href=\"#DejaVuSans-53\"/>\r\n       <use x=\"127.246094\" xlink:href=\"#DejaVuSans-48\"/>\r\n      </g>\r\n     </g>\r\n    </g>\r\n    <g id=\"xtick_5\">\r\n     <g id=\"line2d_5\">\r\n      <g>\r\n       <use style=\"stroke:#000000;stroke-width:0.8;\" x=\"216.130891\" xlink:href=\"#me0b82cb531\" y=\"225.378308\"/>\r\n      </g>\r\n     </g>\r\n     <g id=\"text_5\">\r\n      <!-- 1000 -->\r\n      <g transform=\"translate(203.405891 239.976745)scale(0.1 -0.1)\">\r\n       <defs>\r\n        <path d=\"M 12.40625 8.296875 \r\nL 28.515625 8.296875 \r\nL 28.515625 63.921875 \r\nL 10.984375 60.40625 \r\nL 10.984375 69.390625 \r\nL 28.421875 72.90625 \r\nL 38.28125 72.90625 \r\nL 38.28125 8.296875 \r\nL 54.390625 8.296875 \r\nL 54.390625 0 \r\nL 12.40625 0 \r\nz\r\n\" id=\"DejaVuSans-49\"/>\r\n       </defs>\r\n       <use xlink:href=\"#DejaVuSans-49\"/>\r\n       <use x=\"63.623047\" xlink:href=\"#DejaVuSans-48\"/>\r\n       <use x=\"127.246094\" xlink:href=\"#DejaVuSans-48\"/>\r\n       <use x=\"190.869141\" xlink:href=\"#DejaVuSans-48\"/>\r\n      </g>\r\n     </g>\r\n    </g>\r\n    <g id=\"xtick_6\">\r\n     <g id=\"line2d_6\">\r\n      <g>\r\n       <use style=\"stroke:#000000;stroke-width:0.8;\" x=\"255.413756\" xlink:href=\"#me0b82cb531\" y=\"225.378308\"/>\r\n      </g>\r\n     </g>\r\n     <g id=\"text_6\">\r\n      <!-- 1250 -->\r\n      <g transform=\"translate(242.688756 239.976745)scale(0.1 -0.1)\">\r\n       <use xlink:href=\"#DejaVuSans-49\"/>\r\n       <use x=\"63.623047\" xlink:href=\"#DejaVuSans-50\"/>\r\n       <use x=\"127.246094\" xlink:href=\"#DejaVuSans-53\"/>\r\n       <use x=\"190.869141\" xlink:href=\"#DejaVuSans-48\"/>\r\n      </g>\r\n     </g>\r\n    </g>\r\n    <g id=\"xtick_7\">\r\n     <g id=\"line2d_7\">\r\n      <g>\r\n       <use style=\"stroke:#000000;stroke-width:0.8;\" x=\"294.696621\" xlink:href=\"#me0b82cb531\" y=\"225.378308\"/>\r\n      </g>\r\n     </g>\r\n     <g id=\"text_7\">\r\n      <!-- 1500 -->\r\n      <g transform=\"translate(281.971621 239.976745)scale(0.1 -0.1)\">\r\n       <use xlink:href=\"#DejaVuSans-49\"/>\r\n       <use x=\"63.623047\" xlink:href=\"#DejaVuSans-53\"/>\r\n       <use x=\"127.246094\" xlink:href=\"#DejaVuSans-48\"/>\r\n       <use x=\"190.869141\" xlink:href=\"#DejaVuSans-48\"/>\r\n      </g>\r\n     </g>\r\n    </g>\r\n    <g id=\"xtick_8\">\r\n     <g id=\"line2d_8\">\r\n      <g>\r\n       <use style=\"stroke:#000000;stroke-width:0.8;\" x=\"333.979485\" xlink:href=\"#me0b82cb531\" y=\"225.378308\"/>\r\n      </g>\r\n     </g>\r\n     <g id=\"text_8\">\r\n      <!-- 1750 -->\r\n      <g transform=\"translate(321.254485 239.976745)scale(0.1 -0.1)\">\r\n       <use xlink:href=\"#DejaVuSans-49\"/>\r\n       <use x=\"63.623047\" xlink:href=\"#DejaVuSans-55\"/>\r\n       <use x=\"127.246094\" xlink:href=\"#DejaVuSans-53\"/>\r\n       <use x=\"190.869141\" xlink:href=\"#DejaVuSans-48\"/>\r\n      </g>\r\n     </g>\r\n    </g>\r\n    <g id=\"xtick_9\">\r\n     <g id=\"line2d_9\">\r\n      <g>\r\n       <use style=\"stroke:#000000;stroke-width:0.8;\" x=\"373.26235\" xlink:href=\"#me0b82cb531\" y=\"225.378308\"/>\r\n      </g>\r\n     </g>\r\n     <g id=\"text_9\">\r\n      <!-- 2000 -->\r\n      <g transform=\"translate(360.53735 239.976745)scale(0.1 -0.1)\">\r\n       <use xlink:href=\"#DejaVuSans-50\"/>\r\n       <use x=\"63.623047\" xlink:href=\"#DejaVuSans-48\"/>\r\n       <use x=\"127.246094\" xlink:href=\"#DejaVuSans-48\"/>\r\n       <use x=\"190.869141\" xlink:href=\"#DejaVuSans-48\"/>\r\n      </g>\r\n     </g>\r\n    </g>\r\n    <g id=\"text_10\">\r\n     <!-- Iterations -->\r\n     <g transform=\"translate(187.367969 253.65487)scale(0.1 -0.1)\">\r\n      <defs>\r\n       <path d=\"M 9.8125 72.90625 \r\nL 19.671875 72.90625 \r\nL 19.671875 0 \r\nL 9.8125 0 \r\nz\r\n\" id=\"DejaVuSans-73\"/>\r\n       <path d=\"M 18.3125 70.21875 \r\nL 18.3125 54.6875 \r\nL 36.8125 54.6875 \r\nL 36.8125 47.703125 \r\nL 18.3125 47.703125 \r\nL 18.3125 18.015625 \r\nQ 18.3125 11.328125 20.140625 9.421875 \r\nQ 21.96875 7.515625 27.59375 7.515625 \r\nL 36.8125 7.515625 \r\nL 36.8125 0 \r\nL 27.59375 0 \r\nQ 17.1875 0 13.234375 3.875 \r\nQ 9.28125 7.765625 9.28125 18.015625 \r\nL 9.28125 47.703125 \r\nL 2.6875 47.703125 \r\nL 2.6875 54.6875 \r\nL 9.28125 54.6875 \r\nL 9.28125 70.21875 \r\nz\r\n\" id=\"DejaVuSans-116\"/>\r\n       <path d=\"M 56.203125 29.59375 \r\nL 56.203125 25.203125 \r\nL 14.890625 25.203125 \r\nQ 15.484375 15.921875 20.484375 11.0625 \r\nQ 25.484375 6.203125 34.421875 6.203125 \r\nQ 39.59375 6.203125 44.453125 7.46875 \r\nQ 49.3125 8.734375 54.109375 11.28125 \r\nL 54.109375 2.78125 \r\nQ 49.265625 0.734375 44.1875 -0.34375 \r\nQ 39.109375 -1.421875 33.890625 -1.421875 \r\nQ 20.796875 -1.421875 13.15625 6.1875 \r\nQ 5.515625 13.8125 5.515625 26.8125 \r\nQ 5.515625 40.234375 12.765625 48.109375 \r\nQ 20.015625 56 32.328125 56 \r\nQ 43.359375 56 49.78125 48.890625 \r\nQ 56.203125 41.796875 56.203125 29.59375 \r\nz\r\nM 47.21875 32.234375 \r\nQ 47.125 39.59375 43.09375 43.984375 \r\nQ 39.0625 48.390625 32.421875 48.390625 \r\nQ 24.90625 48.390625 20.390625 44.140625 \r\nQ 15.875 39.890625 15.1875 32.171875 \r\nz\r\n\" id=\"DejaVuSans-101\"/>\r\n       <path d=\"M 41.109375 46.296875 \r\nQ 39.59375 47.171875 37.8125 47.578125 \r\nQ 36.03125 48 33.890625 48 \r\nQ 26.265625 48 22.1875 43.046875 \r\nQ 18.109375 38.09375 18.109375 28.8125 \r\nL 18.109375 0 \r\nL 9.078125 0 \r\nL 9.078125 54.6875 \r\nL 18.109375 54.6875 \r\nL 18.109375 46.1875 \r\nQ 20.953125 51.171875 25.484375 53.578125 \r\nQ 30.03125 56 36.53125 56 \r\nQ 37.453125 56 38.578125 55.875 \r\nQ 39.703125 55.765625 41.0625 55.515625 \r\nz\r\n\" id=\"DejaVuSans-114\"/>\r\n       <path d=\"M 34.28125 27.484375 \r\nQ 23.390625 27.484375 19.1875 25 \r\nQ 14.984375 22.515625 14.984375 16.5 \r\nQ 14.984375 11.71875 18.140625 8.90625 \r\nQ 21.296875 6.109375 26.703125 6.109375 \r\nQ 34.1875 6.109375 38.703125 11.40625 \r\nQ 43.21875 16.703125 43.21875 25.484375 \r\nL 43.21875 27.484375 \r\nz\r\nM 52.203125 31.203125 \r\nL 52.203125 0 \r\nL 43.21875 0 \r\nL 43.21875 8.296875 \r\nQ 40.140625 3.328125 35.546875 0.953125 \r\nQ 30.953125 -1.421875 24.3125 -1.421875 \r\nQ 15.921875 -1.421875 10.953125 3.296875 \r\nQ 6 8.015625 6 15.921875 \r\nQ 6 25.140625 12.171875 29.828125 \r\nQ 18.359375 34.515625 30.609375 34.515625 \r\nL 43.21875 34.515625 \r\nL 43.21875 35.40625 \r\nQ 43.21875 41.609375 39.140625 45 \r\nQ 35.0625 48.390625 27.6875 48.390625 \r\nQ 23 48.390625 18.546875 47.265625 \r\nQ 14.109375 46.140625 10.015625 43.890625 \r\nL 10.015625 52.203125 \r\nQ 14.9375 54.109375 19.578125 55.046875 \r\nQ 24.21875 56 28.609375 56 \r\nQ 40.484375 56 46.34375 49.84375 \r\nQ 52.203125 43.703125 52.203125 31.203125 \r\nz\r\n\" id=\"DejaVuSans-97\"/>\r\n       <path d=\"M 9.421875 54.6875 \r\nL 18.40625 54.6875 \r\nL 18.40625 0 \r\nL 9.421875 0 \r\nz\r\nM 9.421875 75.984375 \r\nL 18.40625 75.984375 \r\nL 18.40625 64.59375 \r\nL 9.421875 64.59375 \r\nz\r\n\" id=\"DejaVuSans-105\"/>\r\n       <path d=\"M 30.609375 48.390625 \r\nQ 23.390625 48.390625 19.1875 42.75 \r\nQ 14.984375 37.109375 14.984375 27.296875 \r\nQ 14.984375 17.484375 19.15625 11.84375 \r\nQ 23.34375 6.203125 30.609375 6.203125 \r\nQ 37.796875 6.203125 41.984375 11.859375 \r\nQ 46.1875 17.53125 46.1875 27.296875 \r\nQ 46.1875 37.015625 41.984375 42.703125 \r\nQ 37.796875 48.390625 30.609375 48.390625 \r\nz\r\nM 30.609375 56 \r\nQ 42.328125 56 49.015625 48.375 \r\nQ 55.71875 40.765625 55.71875 27.296875 \r\nQ 55.71875 13.875 49.015625 6.21875 \r\nQ 42.328125 -1.421875 30.609375 -1.421875 \r\nQ 18.84375 -1.421875 12.171875 6.21875 \r\nQ 5.515625 13.875 5.515625 27.296875 \r\nQ 5.515625 40.765625 12.171875 48.375 \r\nQ 18.84375 56 30.609375 56 \r\nz\r\n\" id=\"DejaVuSans-111\"/>\r\n       <path d=\"M 54.890625 33.015625 \r\nL 54.890625 0 \r\nL 45.90625 0 \r\nL 45.90625 32.71875 \r\nQ 45.90625 40.484375 42.875 44.328125 \r\nQ 39.84375 48.1875 33.796875 48.1875 \r\nQ 26.515625 48.1875 22.3125 43.546875 \r\nQ 18.109375 38.921875 18.109375 30.90625 \r\nL 18.109375 0 \r\nL 9.078125 0 \r\nL 9.078125 54.6875 \r\nL 18.109375 54.6875 \r\nL 18.109375 46.1875 \r\nQ 21.34375 51.125 25.703125 53.5625 \r\nQ 30.078125 56 35.796875 56 \r\nQ 45.21875 56 50.046875 50.171875 \r\nQ 54.890625 44.34375 54.890625 33.015625 \r\nz\r\n\" id=\"DejaVuSans-110\"/>\r\n       <path d=\"M 44.28125 53.078125 \r\nL 44.28125 44.578125 \r\nQ 40.484375 46.53125 36.375 47.5 \r\nQ 32.28125 48.484375 27.875 48.484375 \r\nQ 21.1875 48.484375 17.84375 46.4375 \r\nQ 14.5 44.390625 14.5 40.28125 \r\nQ 14.5 37.15625 16.890625 35.375 \r\nQ 19.28125 33.59375 26.515625 31.984375 \r\nL 29.59375 31.296875 \r\nQ 39.15625 29.25 43.1875 25.515625 \r\nQ 47.21875 21.78125 47.21875 15.09375 \r\nQ 47.21875 7.46875 41.1875 3.015625 \r\nQ 35.15625 -1.421875 24.609375 -1.421875 \r\nQ 20.21875 -1.421875 15.453125 -0.5625 \r\nQ 10.6875 0.296875 5.421875 2 \r\nL 5.421875 11.28125 \r\nQ 10.40625 8.6875 15.234375 7.390625 \r\nQ 20.0625 6.109375 24.8125 6.109375 \r\nQ 31.15625 6.109375 34.5625 8.28125 \r\nQ 37.984375 10.453125 37.984375 14.40625 \r\nQ 37.984375 18.0625 35.515625 20.015625 \r\nQ 33.0625 21.96875 24.703125 23.78125 \r\nL 21.578125 24.515625 \r\nQ 13.234375 26.265625 9.515625 29.90625 \r\nQ 5.8125 33.546875 5.8125 39.890625 \r\nQ 5.8125 47.609375 11.28125 51.796875 \r\nQ 16.75 56 26.8125 56 \r\nQ 31.78125 56 36.171875 55.265625 \r\nQ 40.578125 54.546875 44.28125 53.078125 \r\nz\r\n\" id=\"DejaVuSans-115\"/>\r\n      </defs>\r\n      <use xlink:href=\"#DejaVuSans-73\"/>\r\n      <use x=\"29.492188\" xlink:href=\"#DejaVuSans-116\"/>\r\n      <use x=\"68.701172\" xlink:href=\"#DejaVuSans-101\"/>\r\n      <use x=\"130.224609\" xlink:href=\"#DejaVuSans-114\"/>\r\n      <use x=\"171.337891\" xlink:href=\"#DejaVuSans-97\"/>\r\n      <use x=\"232.617188\" xlink:href=\"#DejaVuSans-116\"/>\r\n      <use x=\"271.826172\" xlink:href=\"#DejaVuSans-105\"/>\r\n      <use x=\"299.609375\" xlink:href=\"#DejaVuSans-111\"/>\r\n      <use x=\"360.791016\" xlink:href=\"#DejaVuSans-110\"/>\r\n      <use x=\"424.169922\" xlink:href=\"#DejaVuSans-115\"/>\r\n     </g>\r\n    </g>\r\n   </g>\r\n   <g id=\"matplotlib.axis_2\">\r\n    <g id=\"ytick_1\">\r\n     <g id=\"line2d_10\">\r\n      <defs>\r\n       <path d=\"M 0 0 \r\nL -3.5 0 \r\n\" id=\"mb4775c4a7c\" style=\"stroke:#000000;stroke-width:0.8;\"/>\r\n      </defs>\r\n      <g>\r\n       <use style=\"stroke:#000000;stroke-width:0.8;\" x=\"43.78125\" xlink:href=\"#mb4775c4a7c\" y=\"186.388927\"/>\r\n      </g>\r\n     </g>\r\n     <g id=\"text_11\">\r\n      <!-- 2.5 -->\r\n      <g transform=\"translate(20.878125 190.188146)scale(0.1 -0.1)\">\r\n       <defs>\r\n        <path d=\"M 10.6875 12.40625 \r\nL 21 12.40625 \r\nL 21 0 \r\nL 10.6875 0 \r\nz\r\n\" id=\"DejaVuSans-46\"/>\r\n       </defs>\r\n       <use xlink:href=\"#DejaVuSans-50\"/>\r\n       <use x=\"63.623047\" xlink:href=\"#DejaVuSans-46\"/>\r\n       <use x=\"95.410156\" xlink:href=\"#DejaVuSans-53\"/>\r\n      </g>\r\n     </g>\r\n    </g>\r\n    <g id=\"ytick_2\">\r\n     <g id=\"line2d_11\">\r\n      <g>\r\n       <use style=\"stroke:#000000;stroke-width:0.8;\" x=\"43.78125\" xlink:href=\"#mb4775c4a7c\" y=\"142.5415\"/>\r\n      </g>\r\n     </g>\r\n     <g id=\"text_12\">\r\n      <!-- 3.0 -->\r\n      <g transform=\"translate(20.878125 146.340719)scale(0.1 -0.1)\">\r\n       <defs>\r\n        <path d=\"M 40.578125 39.3125 \r\nQ 47.65625 37.796875 51.625 33 \r\nQ 55.609375 28.21875 55.609375 21.1875 \r\nQ 55.609375 10.40625 48.1875 4.484375 \r\nQ 40.765625 -1.421875 27.09375 -1.421875 \r\nQ 22.515625 -1.421875 17.65625 -0.515625 \r\nQ 12.796875 0.390625 7.625 2.203125 \r\nL 7.625 11.71875 \r\nQ 11.71875 9.328125 16.59375 8.109375 \r\nQ 21.484375 6.890625 26.8125 6.890625 \r\nQ 36.078125 6.890625 40.9375 10.546875 \r\nQ 45.796875 14.203125 45.796875 21.1875 \r\nQ 45.796875 27.640625 41.28125 31.265625 \r\nQ 36.765625 34.90625 28.71875 34.90625 \r\nL 20.21875 34.90625 \r\nL 20.21875 43.015625 \r\nL 29.109375 43.015625 \r\nQ 36.375 43.015625 40.234375 45.921875 \r\nQ 44.09375 48.828125 44.09375 54.296875 \r\nQ 44.09375 59.90625 40.109375 62.90625 \r\nQ 36.140625 65.921875 28.71875 65.921875 \r\nQ 24.65625 65.921875 20.015625 65.03125 \r\nQ 15.375 64.15625 9.8125 62.3125 \r\nL 9.8125 71.09375 \r\nQ 15.4375 72.65625 20.34375 73.4375 \r\nQ 25.25 74.21875 29.59375 74.21875 \r\nQ 40.828125 74.21875 47.359375 69.109375 \r\nQ 53.90625 64.015625 53.90625 55.328125 \r\nQ 53.90625 49.265625 50.4375 45.09375 \r\nQ 46.96875 40.921875 40.578125 39.3125 \r\nz\r\n\" id=\"DejaVuSans-51\"/>\r\n       </defs>\r\n       <use xlink:href=\"#DejaVuSans-51\"/>\r\n       <use x=\"63.623047\" xlink:href=\"#DejaVuSans-46\"/>\r\n       <use x=\"95.410156\" xlink:href=\"#DejaVuSans-48\"/>\r\n      </g>\r\n     </g>\r\n    </g>\r\n    <g id=\"ytick_3\">\r\n     <g id=\"line2d_12\">\r\n      <g>\r\n       <use style=\"stroke:#000000;stroke-width:0.8;\" x=\"43.78125\" xlink:href=\"#mb4775c4a7c\" y=\"98.694073\"/>\r\n      </g>\r\n     </g>\r\n     <g id=\"text_13\">\r\n      <!-- 3.5 -->\r\n      <g transform=\"translate(20.878125 102.493292)scale(0.1 -0.1)\">\r\n       <use xlink:href=\"#DejaVuSans-51\"/>\r\n       <use x=\"63.623047\" xlink:href=\"#DejaVuSans-46\"/>\r\n       <use x=\"95.410156\" xlink:href=\"#DejaVuSans-53\"/>\r\n      </g>\r\n     </g>\r\n    </g>\r\n    <g id=\"ytick_4\">\r\n     <g id=\"line2d_13\">\r\n      <g>\r\n       <use style=\"stroke:#000000;stroke-width:0.8;\" x=\"43.78125\" xlink:href=\"#mb4775c4a7c\" y=\"54.846646\"/>\r\n      </g>\r\n     </g>\r\n     <g id=\"text_14\">\r\n      <!-- 4.0 -->\r\n      <g transform=\"translate(20.878125 58.645865)scale(0.1 -0.1)\">\r\n       <defs>\r\n        <path d=\"M 37.796875 64.3125 \r\nL 12.890625 25.390625 \r\nL 37.796875 25.390625 \r\nz\r\nM 35.203125 72.90625 \r\nL 47.609375 72.90625 \r\nL 47.609375 25.390625 \r\nL 58.015625 25.390625 \r\nL 58.015625 17.1875 \r\nL 47.609375 17.1875 \r\nL 47.609375 0 \r\nL 37.796875 0 \r\nL 37.796875 17.1875 \r\nL 4.890625 17.1875 \r\nL 4.890625 26.703125 \r\nz\r\n\" id=\"DejaVuSans-52\"/>\r\n       </defs>\r\n       <use xlink:href=\"#DejaVuSans-52\"/>\r\n       <use x=\"63.623047\" xlink:href=\"#DejaVuSans-46\"/>\r\n       <use x=\"95.410156\" xlink:href=\"#DejaVuSans-48\"/>\r\n      </g>\r\n     </g>\r\n    </g>\r\n    <g id=\"ytick_5\">\r\n     <g id=\"line2d_14\">\r\n      <g>\r\n       <use style=\"stroke:#000000;stroke-width:0.8;\" x=\"43.78125\" xlink:href=\"#mb4775c4a7c\" y=\"10.999219\"/>\r\n      </g>\r\n     </g>\r\n     <g id=\"text_15\">\r\n      <!-- 4.5 -->\r\n      <g transform=\"translate(20.878125 14.798437)scale(0.1 -0.1)\">\r\n       <use xlink:href=\"#DejaVuSans-52\"/>\r\n       <use x=\"63.623047\" xlink:href=\"#DejaVuSans-46\"/>\r\n       <use x=\"95.410156\" xlink:href=\"#DejaVuSans-53\"/>\r\n      </g>\r\n     </g>\r\n    </g>\r\n    <g id=\"text_16\">\r\n     <!-- Loss -->\r\n     <g transform=\"translate(14.798438 127.625495)rotate(-90)scale(0.1 -0.1)\">\r\n      <defs>\r\n       <path d=\"M 9.8125 72.90625 \r\nL 19.671875 72.90625 \r\nL 19.671875 8.296875 \r\nL 55.171875 8.296875 \r\nL 55.171875 0 \r\nL 9.8125 0 \r\nz\r\n\" id=\"DejaVuSans-76\"/>\r\n      </defs>\r\n      <use xlink:href=\"#DejaVuSans-76\"/>\r\n      <use x=\"53.962891\" xlink:href=\"#DejaVuSans-111\"/>\r\n      <use x=\"115.144531\" xlink:href=\"#DejaVuSans-115\"/>\r\n      <use x=\"167.244141\" xlink:href=\"#DejaVuSans-115\"/>\r\n     </g>\r\n    </g>\r\n   </g>\r\n   <g id=\"line2d_15\">\r\n    <path clip-path=\"url(#p20549c5df9)\" d=\"M 58.999432 17.821944 \r\nL 59.942221 37.273444 \r\nL 60.413615 53.344066 \r\nL 60.727878 66.348642 \r\nL 60.885009 70.280658 \r\nL 62.299192 145.071984 \r\nL 62.456324 143.856681 \r\nL 62.770587 154.46954 \r\nL 62.927718 144.401169 \r\nL 63.241981 155.606187 \r\nL 63.399113 164.713246 \r\nL 63.556244 144.488335 \r\nL 63.870507 175.666468 \r\nL 64.027639 172.556119 \r\nL 64.18477 181.700185 \r\nL 64.341901 157.115855 \r\nL 64.656164 183.792603 \r\nL 64.970427 156.298893 \r\nL 65.28469 183.065525 \r\nL 65.441822 168.671 \r\nL 65.598953 172.593356 \r\nL 65.756085 169.153579 \r\nL 65.913216 183.448163 \r\nL 66.070347 176.066774 \r\nL 66.38461 177.294601 \r\nL 66.541742 183.098246 \r\nL 66.698873 174.393458 \r\nL 66.856005 187.170116 \r\nL 67.013136 175.023879 \r\nL 67.170268 179.738861 \r\nL 67.327399 189.215951 \r\nL 67.484531 189.28777 \r\nL 67.641662 193.065986 \r\nL 67.955925 175.900785 \r\nL 68.113056 185.075377 \r\nL 68.270188 182.894706 \r\nL 68.427319 156.155505 \r\nL 68.741582 184.476946 \r\nL 68.898714 186.115261 \r\nL 69.055845 151.2194 \r\nL 69.370108 187.305328 \r\nL 69.52724 180.654175 \r\nL 69.684371 191.41914 \r\nL 69.841502 171.806522 \r\nL 69.998634 197.60442 \r\nL 70.155765 186.580152 \r\nL 70.312897 191.60863 \r\nL 70.470028 191.653645 \r\nL 70.784291 176.717434 \r\nL 70.941423 198.355814 \r\nL 71.255686 174.200184 \r\nL 71.569949 200.930206 \r\nL 71.72708 197.484073 \r\nL 71.884211 188.104331 \r\nL 72.041343 188.888133 \r\nL 72.198474 195.880569 \r\nL 72.355606 191.333584 \r\nL 72.512737 192.473137 \r\nL 72.669869 203.735527 \r\nL 72.984132 183.567632 \r\nL 73.141263 190.802581 \r\nL 73.298395 182.402258 \r\nL 73.455526 188.429242 \r\nL 73.612658 188.993865 \r\nL 73.769789 172.673037 \r\nL 73.92692 199.897827 \r\nL 74.084052 199.127406 \r\nL 74.241183 204.457274 \r\nL 74.398315 180.287217 \r\nL 74.555446 183.509131 \r\nL 74.712578 189.329168 \r\nL 74.869709 188.011959 \r\nL 75.183972 202.550143 \r\nL 75.341104 186.777462 \r\nL 75.498235 184.862533 \r\nL 75.655366 176.124543 \r\nL 75.812498 194.298162 \r\nL 75.969629 192.784647 \r\nL 76.283892 200.850609 \r\nL 76.441024 184.299102 \r\nL 76.598155 179.502578 \r\nL 76.755287 187.225522 \r\nL 76.912418 185.379171 \r\nL 77.06955 197.137605 \r\nL 77.226681 181.95725 \r\nL 77.383813 194.91518 \r\nL 77.540944 191.132992 \r\nL 77.698075 206.017707 \r\nL 78.012338 201.161826 \r\nL 78.16947 193.133394 \r\nL 78.326601 191.908577 \r\nL 78.483733 183.794715 \r\nL 78.640864 191.656509 \r\nL 78.797996 182.224413 \r\nL 78.955127 180.256231 \r\nL 79.112259 195.488438 \r\nL 79.26939 184.456288 \r\nL 79.426522 187.460864 \r\nL 79.583653 176.444249 \r\nL 79.740784 181.150449 \r\nL 80.055047 204.037502 \r\nL 80.212179 192.081278 \r\nL 80.36931 200.70651 \r\nL 80.526442 188.710247 \r\nL 80.683573 161.366991 \r\nL 80.997836 190.826229 \r\nL 81.154968 190.224557 \r\nL 81.312099 189.075386 \r\nL 81.46923 193.709976 \r\nL 81.626362 184.067294 \r\nL 81.783493 183.71978 \r\nL 81.940625 190.599146 \r\nL 82.097756 192.412107 \r\nL 82.254888 191.429908 \r\nL 82.412019 195.363722 \r\nL 82.569151 186.608734 \r\nL 82.726282 199.670494 \r\nL 82.883414 187.226421 \r\nL 83.040545 190.500669 \r\nL 83.197677 190.019595 \r\nL 83.354808 197.416519 \r\nL 83.511939 184.000179 \r\nL 83.669071 180.139438 \r\nL 83.983334 191.089566 \r\nL 84.140465 194.642079 \r\nL 84.297597 191.45437 \r\nL 84.61186 201.751392 \r\nL 84.768991 188.239418 \r\nL 84.926123 186.428088 \r\nL 85.083254 199.030226 \r\nL 85.71178 177.607114 \r\nL 85.868911 194.267113 \r\nL 86.026043 174.856384 \r\nL 86.183174 187.290358 \r\nL 86.340306 189.782769 \r\nL 86.497437 198.084804 \r\nL 86.654569 189.109591 \r\nL 86.8117 199.643627 \r\nL 86.968832 185.677404 \r\nL 87.125963 195.415009 \r\nL 87.283094 190.136596 \r\nL 87.597357 199.149945 \r\nL 87.754489 193.539282 \r\nL 88.068752 192.816762 \r\nL 88.225883 184.886828 \r\nL 88.383015 194.01998 \r\nL 88.540146 193.231975 \r\nL 88.697278 206.201071 \r\nL 88.854409 189.985515 \r\nL 89.011541 191.605556 \r\nL 89.168672 190.862504 \r\nL 89.325803 184.927682 \r\nL 89.640066 199.464946 \r\nL 89.797198 176.074719 \r\nL 89.954329 196.87755 \r\nL 90.268592 183.452826 \r\nL 90.425724 195.22462 \r\nL 90.739987 203.999031 \r\nL 90.897118 194.865921 \r\nL 91.054249 197.363329 \r\nL 91.368512 193.97024 \r\nL 91.525644 188.244498 \r\nL 91.682775 206.456693 \r\nL 91.839907 204.046242 \r\nL 91.997038 206.76722 \r\nL 92.15417 188.811128 \r\nL 92.311301 184.371234 \r\nL 92.468433 200.160433 \r\nL 92.782696 183.657098 \r\nL 92.939827 198.364617 \r\nL 93.096958 199.762468 \r\nL 93.25409 196.564243 \r\nL 93.411221 188.478105 \r\nL 93.568353 203.883682 \r\nL 93.725484 190.941118 \r\nL 94.039747 202.953565 \r\nL 94.196879 187.758846 \r\nL 94.35401 196.835044 \r\nL 94.511142 184.083476 \r\nL 94.668273 192.443406 \r\nL 94.825405 171.346607 \r\nL 94.982536 197.927408 \r\nL 95.139667 192.789937 \r\nL 95.296799 204.600411 \r\nL 95.611062 187.411081 \r\nL 95.768193 199.33011 \r\nL 95.925325 197.110466 \r\nL 96.082456 197.775657 \r\nL 96.396719 200.118073 \r\nL 96.553851 190.934532 \r\nL 96.710982 196.745704 \r\nL 97.025245 184.464254 \r\nL 97.339508 202.964541 \r\nL 97.496639 203.935283 \r\nL 97.810902 192.8789 \r\nL 97.968034 201.891518 \r\nL 98.125165 198.718925 \r\nL 98.282297 190.300286 \r\nL 98.439428 166.224775 \r\nL 98.59656 209.093892 \r\nL 98.753691 200.114414 \r\nL 98.910822 197.504876 \r\nL 99.067954 201.049654 \r\nL 99.225085 186.105476 \r\nL 99.382217 200.521097 \r\nL 99.539348 192.923205 \r\nL 99.853611 199.337825 \r\nL 100.010743 197.752156 \r\nL 100.167874 201.127641 \r\nL 100.325006 207.373491 \r\nL 100.482137 205.21814 \r\nL 100.639268 185.737996 \r\nL 100.953531 193.525378 \r\nL 101.110663 183.994011 \r\nL 101.267794 187.582653 \r\nL 101.424926 203.374423 \r\nL 101.582057 173.434405 \r\nL 101.739189 195.066074 \r\nL 101.89632 182.074565 \r\nL 102.053452 210.725015 \r\nL 102.367715 174.695329 \r\nL 102.681977 195.12079 \r\nL 102.99624 201.933668 \r\nL 103.153372 198.555445 \r\nL 103.310503 186.451986 \r\nL 103.467635 199.933768 \r\nL 103.624766 187.455469 \r\nL 103.781898 196.674951 \r\nL 103.939029 167.914462 \r\nL 104.096161 200.105256 \r\nL 104.253292 192.624135 \r\nL 104.410424 202.659116 \r\nL 104.567555 181.706771 \r\nL 104.881818 201.836216 \r\nL 105.038949 201.807843 \r\nL 105.196081 187.305893 \r\nL 105.353212 195.986071 \r\nL 105.510344 179.693176 \r\nL 105.824607 199.977424 \r\nL 106.13887 190.731849 \r\nL 106.296001 193.072447 \r\nL 106.453132 181.465492 \r\nL 106.610264 191.829273 \r\nL 106.767395 179.96402 \r\nL 107.081658 194.91863 \r\nL 107.23879 194.193768 \r\nL 107.395921 192.07028 \r\nL 107.553053 194.325322 \r\nL 107.710184 193.896225 \r\nL 107.867316 204.376464 \r\nL 108.024447 203.232332 \r\nL 108.181579 173.925285 \r\nL 108.33871 198.639224 \r\nL 108.652973 196.066463 \r\nL 108.810104 191.374836 \r\nL 109.124367 200.563687 \r\nL 109.281499 189.123056 \r\nL 109.595762 196.202575 \r\nL 109.752893 192.041678 \r\nL 109.910025 196.557071 \r\nL 110.067156 194.011575 \r\nL 110.224287 195.261627 \r\nL 110.381419 201.212026 \r\nL 110.53855 177.72052 \r\nL 110.695682 202.437762 \r\nL 110.852813 182.508847 \r\nL 111.167076 187.074482 \r\nL 111.324208 183.871155 \r\nL 111.481339 193.913265 \r\nL 111.638471 191.207508 \r\nL 111.795602 199.790318 \r\nL 111.952734 196.145266 \r\nL 112.109865 195.907269 \r\nL 112.266996 199.329378 \r\nL 112.424128 181.141856 \r\nL 112.581259 194.809616 \r\nL 112.738391 180.214791 \r\nL 112.895522 194.130354 \r\nL 113.209785 170.680183 \r\nL 113.366917 186.103594 \r\nL 113.524048 189.452191 \r\nL 113.68118 189.301109 \r\nL 113.838311 186.203828 \r\nL 113.995443 197.802315 \r\nL 114.152574 181.957584 \r\nL 114.309705 187.661226 \r\nL 114.466837 200.944193 \r\nL 114.623968 178.002152 \r\nL 114.7811 193.366623 \r\nL 114.938231 194.083373 \r\nL 115.095363 193.693772 \r\nL 115.252494 200.328408 \r\nL 115.409626 199.542599 \r\nL 115.723889 190.840341 \r\nL 115.88102 189.953086 \r\nL 116.038151 179.12019 \r\nL 116.195283 188.969904 \r\nL 116.352414 189.407782 \r\nL 116.666677 176.92319 \r\nL 116.98094 199.091884 \r\nL 117.295203 185.176279 \r\nL 117.452335 195.848475 \r\nL 117.609466 193.037154 \r\nL 117.766598 192.770346 \r\nL 118.08086 184.635596 \r\nL 118.237992 179.808338 \r\nL 118.395123 203.22376 \r\nL 118.709386 185.389333 \r\nL 119.023649 196.531354 \r\nL 119.337912 192.552149 \r\nL 119.495044 192.837983 \r\nL 119.652175 199.310038 \r\nL 119.966438 184.623449 \r\nL 120.123569 197.701977 \r\nL 120.280701 197.852578 \r\nL 120.437832 196.751788 \r\nL 120.594964 188.719635 \r\nL 120.752095 204.959423 \r\nL 120.909227 189.984176 \r\nL 121.066358 195.553797 \r\nL 121.22349 191.286625 \r\nL 121.380621 198.734418 \r\nL 121.537753 198.859114 \r\nL 121.694884 208.934865 \r\nL 121.852015 180.73511 \r\nL 122.32341 203.832289 \r\nL 122.480541 204.949659 \r\nL 122.637673 180.737598 \r\nL 122.794804 192.85862 \r\nL 122.951936 195.82579 \r\nL 123.109067 195.374113 \r\nL 123.266199 192.895815 \r\nL 123.42333 199.024267 \r\nL 123.580462 193.266202 \r\nL 123.737593 197.858035 \r\nL 123.894724 197.446585 \r\nL 124.051856 203.751438 \r\nL 124.208987 204.251183 \r\nL 124.366119 189.366489 \r\nL 124.52325 203.88941 \r\nL 124.837513 174.827427 \r\nL 125.151776 188.489186 \r\nL 125.308908 188.233605 \r\nL 125.62317 208.255122 \r\nL 125.780302 196.529974 \r\nL 125.937433 197.161378 \r\nL 126.094565 193.054717 \r\nL 126.565959 195.565234 \r\nL 126.723091 186.634283 \r\nL 127.037354 196.577979 \r\nL 127.194485 188.866075 \r\nL 127.351617 205.854519 \r\nL 127.665879 189.683811 \r\nL 127.823011 189.972092 \r\nL 127.980142 202.83765 \r\nL 128.137274 186.575385 \r\nL 128.451537 190.827148 \r\nL 128.608668 209.294442 \r\nL 128.7658 187.839279 \r\nL 128.922931 201.089295 \r\nL 129.237194 193.421256 \r\nL 129.394326 175.549006 \r\nL 129.708588 215.494672 \r\nL 129.86572 188.085973 \r\nL 130.022851 189.99507 \r\nL 130.179983 200.521076 \r\nL 130.337114 195.122714 \r\nL 130.494246 199.521085 \r\nL 130.651377 194.21614 \r\nL 130.808509 202.313464 \r\nL 131.122772 179.999062 \r\nL 131.279903 195.84536 \r\nL 131.437034 196.114928 \r\nL 131.594166 177.011401 \r\nL 132.06556 209.664369 \r\nL 132.222692 200.935809 \r\nL 132.379823 184.27949 \r\nL 132.536955 188.433926 \r\nL 132.694086 200.01002 \r\nL 132.851218 197.759119 \r\nL 133.008349 202.048851 \r\nL 133.165481 189.648936 \r\nL 133.322612 189.095625 \r\nL 133.479743 195.347476 \r\nL 133.636875 188.179453 \r\nL 133.794006 187.108081 \r\nL 133.951138 173.202053 \r\nL 134.108269 199.661901 \r\nL 134.265401 199.56955 \r\nL 134.422532 200.522247 \r\nL 134.736795 186.686386 \r\nL 134.893927 202.86849 \r\nL 135.051058 206.353135 \r\nL 135.20819 188.907745 \r\nL 135.365321 201.270297 \r\nL 135.522452 192.627251 \r\nL 135.679584 208.85393 \r\nL 135.836715 187.994061 \r\nL 136.150978 206.045075 \r\nL 136.465241 190.866874 \r\nL 136.622373 200.922031 \r\nL 136.779504 188.571104 \r\nL 136.936636 202.539626 \r\nL 137.250898 194.548118 \r\nL 137.40803 191.954512 \r\nL 137.565161 195.676297 \r\nL 137.722293 204.768072 \r\nL 137.879424 180.747822 \r\nL 138.193687 191.34431 \r\nL 138.350819 197.80681 \r\nL 138.50795 171.686823 \r\nL 138.822213 197.223286 \r\nL 138.979345 197.222743 \r\nL 139.136476 188.164295 \r\nL 139.293607 198.433446 \r\nL 139.450739 200.955693 \r\nL 139.60787 206.494766 \r\nL 139.765002 192.991783 \r\nL 139.922133 204.121929 \r\nL 140.079265 195.124951 \r\nL 140.236396 204.464278 \r\nL 140.550659 185.274464 \r\nL 140.707791 195.708454 \r\nL 141.022053 199.391225 \r\nL 141.179185 201.482953 \r\nL 141.493448 197.454237 \r\nL 141.650579 176.516716 \r\nL 141.807711 203.926752 \r\nL 141.964842 197.859833 \r\nL 142.121974 181.407848 \r\nL 142.279105 185.025156 \r\nL 142.436237 172.446226 \r\nL 142.593368 197.915595 \r\nL 142.7505 183.583021 \r\nL 142.907631 193.101195 \r\nL 143.536157 200.546605 \r\nL 143.693288 192.955947 \r\nL 143.85042 192.266733 \r\nL 144.007551 196.266825 \r\nL 144.164683 205.798297 \r\nL 144.478946 184.113291 \r\nL 144.636077 187.817054 \r\nL 144.793209 210.20685 \r\nL 144.95034 191.212777 \r\nL 145.107471 187.059721 \r\nL 145.264603 202.475397 \r\nL 145.421734 202.258454 \r\nL 145.578866 193.753632 \r\nL 145.735997 198.555173 \r\nL 145.893129 183.363507 \r\nL 146.05026 202.414052 \r\nL 146.364523 163.304752 \r\nL 146.521655 199.48736 \r\nL 146.678786 180.421907 \r\nL 146.993049 205.643557 \r\nL 147.15018 206.616786 \r\nL 147.307312 205.982728 \r\nL 147.464443 199.225089 \r\nL 147.621575 183.781919 \r\nL 147.778706 203.506542 \r\nL 147.935838 197.248481 \r\nL 148.092969 195.587396 \r\nL 148.250101 203.76001 \r\nL 148.407232 196.484959 \r\nL 148.564364 178.281693 \r\nL 148.721495 181.352003 \r\nL 149.192889 206.128896 \r\nL 149.350021 194.726673 \r\nL 149.507152 191.988362 \r\nL 149.664284 196.194379 \r\nL 149.821415 192.352749 \r\nL 150.135678 173.252692 \r\nL 150.29281 204.127595 \r\nL 150.449941 194.25875 \r\nL 150.607072 205.235452 \r\nL 150.764204 183.189698 \r\nL 151.078467 201.307618 \r\nL 151.39273 185.486555 \r\nL 151.549861 194.33057 \r\nL 151.706993 188.463281 \r\nL 151.864124 193.417827 \r\nL 152.021256 180.659862 \r\nL 152.178387 194.578456 \r\nL 152.335519 180.854119 \r\nL 152.49265 195.402548 \r\nL 152.649781 195.833296 \r\nL 152.806913 194.271086 \r\nL 152.964044 195.709102 \r\nL 153.121176 189.93061 \r\nL 153.278307 191.440194 \r\nL 153.435439 179.399522 \r\nL 153.59257 192.725958 \r\nL 153.749702 192.206517 \r\nL 153.906833 193.503718 \r\nL 154.063965 202.138818 \r\nL 154.221096 183.662534 \r\nL 154.378228 201.637986 \r\nL 154.535359 188.23877 \r\nL 154.69249 186.240981 \r\nL 154.849622 190.424375 \r\nL 155.006753 182.748454 \r\nL 155.163885 188.567131 \r\nL 155.321016 207.680987 \r\nL 155.478148 186.942385 \r\nL 155.635279 197.682344 \r\nL 155.949542 193.757834 \r\nL 156.106674 195.691351 \r\nL 156.263805 201.084591 \r\nL 156.420936 182.786067 \r\nL 156.578068 194.172421 \r\nL 156.735199 180.108014 \r\nL 156.892331 200.864074 \r\nL 157.049462 197.852578 \r\nL 157.206594 197.107895 \r\nL 157.363725 193.921085 \r\nL 157.520857 202.22611 \r\nL 157.83512 187.790981 \r\nL 158.149383 210.747073 \r\nL 158.306514 178.78081 \r\nL 158.463645 208.517833 \r\nL 158.620777 192.53076 \r\nL 158.777908 208.081397 \r\nL 158.93504 183.708971 \r\nL 159.092171 182.169969 \r\nL 159.249303 195.616897 \r\nL 159.406434 189.297722 \r\nL 159.720697 200.595467 \r\nL 159.877829 198.323888 \r\nL 160.192092 187.884524 \r\nL 160.349223 200.862798 \r\nL 160.506354 183.473609 \r\nL 160.663486 204.926033 \r\nL 160.820617 201.434446 \r\nL 160.977749 195.124575 \r\nL 161.13488 199.354531 \r\nL 161.292012 194.708964 \r\nL 161.449143 198.546266 \r\nL 161.606275 197.143355 \r\nL 161.763406 180.923178 \r\nL 161.920538 199.650736 \r\nL 162.077669 193.099669 \r\nL 162.2348 168.373269 \r\nL 162.391932 196.52067 \r\nL 162.549063 197.731395 \r\nL 162.706195 195.925313 \r\nL 162.863326 207.812101 \r\nL 163.020458 198.992006 \r\nL 163.177589 198.592912 \r\nL 163.334721 177.603163 \r\nL 163.648984 203.023042 \r\nL 163.963247 181.492651 \r\nL 164.120378 192.988689 \r\nL 164.277509 195.332819 \r\nL 164.434641 195.77076 \r\nL 164.591772 192.876872 \r\nL 164.748904 187.596055 \r\nL 165.063167 206.689693 \r\nL 165.534561 188.745728 \r\nL 165.691693 187.056669 \r\nL 165.848824 195.606234 \r\nL 166.005955 187.730452 \r\nL 166.320218 197.509602 \r\nL 166.47735 197.701726 \r\nL 166.634481 194.876877 \r\nL 166.791613 186.508898 \r\nL 166.948744 189.657425 \r\nL 167.105876 196.549544 \r\nL 167.263007 186.94757 \r\nL 167.420139 190.988956 \r\nL 167.57727 190.112657 \r\nL 167.734402 199.22189 \r\nL 168.048664 198.008113 \r\nL 168.362927 182.452939 \r\nL 168.520059 184.004528 \r\nL 168.67719 204.277569 \r\nL 168.834322 199.36141 \r\nL 168.991453 181.961306 \r\nL 169.148585 191.188294 \r\nL 169.305716 191.172947 \r\nL 169.462848 186.840897 \r\nL 169.619979 187.321511 \r\nL 169.777111 201.445632 \r\nL 169.934242 169.790335 \r\nL 170.091373 200.870116 \r\nL 170.248505 191.184593 \r\nL 170.405636 201.429825 \r\nL 170.719899 192.183142 \r\nL 170.877031 197.240347 \r\nL 171.034162 190.287176 \r\nL 171.348425 198.788884 \r\nL 171.505557 192.617842 \r\nL 171.662688 180.624631 \r\nL 171.976951 200.19951 \r\nL 172.134082 191.568905 \r\nL 172.291214 195.510162 \r\nL 172.448345 194.064431 \r\nL 172.605477 200.817051 \r\nL 172.762608 193.201324 \r\nL 172.91974 176.546426 \r\nL 173.076871 182.886405 \r\nL 173.234003 182.035195 \r\nL 173.548266 199.493235 \r\nL 173.705397 190.741342 \r\nL 173.862528 188.729085 \r\nL 174.01966 201.416277 \r\nL 174.176791 196.551761 \r\nL 174.333923 195.156564 \r\nL 174.491054 191.241986 \r\nL 174.648186 190.352284 \r\nL 174.805317 190.903087 \r\nL 174.962449 199.777209 \r\nL 175.11958 185.888158 \r\nL 175.276712 189.792345 \r\nL 175.433843 197.166709 \r\nL 175.590975 189.287561 \r\nL 175.748106 202.677473 \r\nL 175.905237 193.849056 \r\nL 176.062369 191.859276 \r\nL 176.376632 176.710011 \r\nL 176.533763 190.243562 \r\nL 176.690895 190.112155 \r\nL 176.848026 197.131646 \r\nL 177.005158 199.081053 \r\nL 177.162289 198.611311 \r\nL 177.319421 206.677169 \r\nL 177.476552 188.612418 \r\nL 177.790815 199.462709 \r\nL 177.947946 190.593542 \r\nL 178.105078 191.946045 \r\nL 178.262209 198.642464 \r\nL 178.419341 188.291019 \r\nL 178.733604 194.285805 \r\nL 178.890735 193.384019 \r\nL 179.047867 186.807779 \r\nL 179.36213 196.357232 \r\nL 179.519261 188.481659 \r\nL 179.833524 199.514394 \r\nL 179.990655 193.525776 \r\nL 180.304918 198.071381 \r\nL 180.619181 181.838408 \r\nL 180.776313 184.564948 \r\nL 180.933444 197.302047 \r\nL 181.090576 185.089406 \r\nL 181.404838 202.282478 \r\nL 181.56197 192.236541 \r\nL 181.719101 195.835178 \r\nL 181.876233 194.716115 \r\nL 182.033364 203.651225 \r\nL 182.347627 193.600146 \r\nL 182.504759 180.89537 \r\nL 182.66189 199.457524 \r\nL 182.819022 193.070439 \r\nL 182.976153 192.931631 \r\nL 183.133285 194.531015 \r\nL 183.290416 194.759833 \r\nL 183.447547 196.762138 \r\nL 183.604679 195.506398 \r\nL 183.76181 198.429202 \r\nL 183.918942 197.261151 \r\nL 184.076073 202.44117 \r\nL 184.233205 199.049816 \r\nL 184.390336 200.287805 \r\nL 184.547468 195.891232 \r\nL 184.704599 185.741027 \r\nL 184.861731 198.520507 \r\nL 185.018862 186.90337 \r\nL 185.175994 197.472908 \r\nL 185.647388 183.201532 \r\nL 185.804519 204.404397 \r\nL 185.961651 195.759867 \r\nL 186.275914 208.500437 \r\nL 186.433045 172.55729 \r\nL 186.747308 204.001938 \r\nL 186.90444 180.144791 \r\nL 187.061571 185.46709 \r\nL 187.218702 196.112607 \r\nL 187.375834 192.711782 \r\nL 187.532965 203.443127 \r\nL 187.690097 191.272867 \r\nL 187.847228 194.833723 \r\nL 188.00436 202.184273 \r\nL 188.318623 185.376662 \r\nL 188.475754 199.726883 \r\nL 188.632886 186.429656 \r\nL 188.947149 201.530519 \r\nL 189.10428 195.584762 \r\nL 189.418543 172.556641 \r\nL 189.575674 191.866907 \r\nL 189.732806 192.261694 \r\nL 189.889937 202.698653 \r\nL 190.047069 188.298107 \r\nL 190.2042 185.461194 \r\nL 190.675595 198.076692 \r\nL 190.832726 191.454015 \r\nL 191.461252 203.179727 \r\nL 191.618383 181.139744 \r\nL 191.775515 196.953175 \r\nL 191.932646 183.787083 \r\nL 192.089778 197.072414 \r\nL 192.246909 200.841932 \r\nL 192.404041 207.945641 \r\nL 192.718304 196.043611 \r\nL 192.875435 192.770868 \r\nL 193.189698 195.057815 \r\nL 193.346829 187.247204 \r\nL 193.503961 187.380158 \r\nL 193.661092 191.076247 \r\nL 193.818224 206.524456 \r\nL 194.132487 187.987287 \r\nL 194.289618 180.569455 \r\nL 194.44675 188.735629 \r\nL 194.603881 206.257836 \r\nL 194.761013 204.528738 \r\nL 194.918144 198.022728 \r\nL 195.075275 197.113519 \r\nL 195.232407 199.241209 \r\nL 195.54667 165.640269 \r\nL 195.703801 202.217851 \r\nL 195.860933 193.413248 \r\nL 196.018064 204.776624 \r\nL 196.175196 169.741786 \r\nL 196.332327 171.941818 \r\nL 196.489459 196.994594 \r\nL 196.64659 181.860174 \r\nL 196.803721 194.644316 \r\nL 196.960853 186.735959 \r\nL 197.117984 199.604362 \r\nL 197.589379 180.57004 \r\nL 197.74651 198.778869 \r\nL 197.903642 185.687921 \r\nL 198.060773 186.428694 \r\nL 198.217905 201.412618 \r\nL 198.375036 199.655984 \r\nL 198.532168 181.632234 \r\nL 198.689299 198.695508 \r\nL 198.84643 195.52371 \r\nL 199.003562 205.331963 \r\nL 199.160693 197.860356 \r\nL 199.317825 181.391749 \r\nL 199.474956 194.325489 \r\nL 199.632088 195.621665 \r\nL 199.789219 198.118738 \r\nL 199.946351 204.177942 \r\nL 200.103482 193.11167 \r\nL 200.260614 190.346681 \r\nL 200.574877 207.801062 \r\nL 201.046271 186.017014 \r\nL 201.203402 199.894712 \r\nL 201.517665 183.273246 \r\nL 201.674797 195.241639 \r\nL 201.831928 192.010358 \r\nL 201.98906 201.437331 \r\nL 202.303323 190.649597 \r\nL 202.460454 206.211525 \r\nL 202.617585 195.204611 \r\nL 202.774717 192.923435 \r\nL 202.931848 198.54888 \r\nL 203.08898 198.261937 \r\nL 203.246111 180.164654 \r\nL 203.403243 196.192936 \r\nL 203.560374 200.845026 \r\nL 203.717506 195.13528 \r\nL 203.874637 184.606743 \r\nL 204.031769 193.054173 \r\nL 204.1889 190.451326 \r\nL 204.503163 207.915993 \r\nL 204.660294 193.351068 \r\nL 204.817426 197.235894 \r\nL 204.974557 188.211464 \r\nL 205.131689 196.757642 \r\nL 205.28882 193.726744 \r\nL 205.445952 196.769205 \r\nL 205.603083 184.745698 \r\nL 205.760215 197.961697 \r\nL 205.917346 195.065405 \r\nL 206.074478 209.945959 \r\nL 206.231609 200.974719 \r\nL 206.38874 179.704341 \r\nL 206.545872 191.477787 \r\nL 206.703003 191.489977 \r\nL 206.860135 191.300194 \r\nL 207.017266 188.550091 \r\nL 207.174398 177.105822 \r\nL 207.331529 157.069251 \r\nL 207.488661 192.129659 \r\nL 207.802924 202.578557 \r\nL 207.960055 200.111592 \r\nL 208.117187 192.508681 \r\nL 208.274318 207.041032 \r\nL 208.431449 174.349321 \r\nL 208.588581 196.896514 \r\nL 208.745712 197.729743 \r\nL 208.902844 177.577132 \r\nL 209.217107 202.398622 \r\nL 209.374238 197.845825 \r\nL 209.53137 207.533459 \r\nL 209.688501 180.470832 \r\nL 210.002764 196.232703 \r\nL 210.159896 206.061509 \r\nL 210.317027 197.647616 \r\nL 210.474158 159.297091 \r\nL 210.788421 195.948981 \r\nL 210.945553 200.684431 \r\nL 211.102684 186.888317 \r\nL 211.259816 204.334773 \r\nL 211.416947 196.11497 \r\nL 211.574079 177.286112 \r\nL 211.73121 205.072327 \r\nL 211.888342 194.612515 \r\nL 212.045473 192.431593 \r\nL 212.202604 194.923753 \r\nL 212.359736 201.926058 \r\nL 212.516867 191.834688 \r\nL 212.673999 190.634501 \r\nL 212.83113 188.109558 \r\nL 212.988262 196.500431 \r\nL 213.145393 187.469812 \r\nL 213.302525 184.82862 \r\nL 213.459656 200.5603 \r\nL 213.616788 193.555611 \r\nL 213.773919 195.037095 \r\nL 213.931051 185.948624 \r\nL 214.245313 203.333778 \r\nL 214.402445 208.145125 \r\nL 214.716708 183.338877 \r\nL 214.873839 198.701467 \r\nL 215.030971 201.503045 \r\nL 215.188102 195.222759 \r\nL 215.345234 194.003316 \r\nL 215.502365 189.383905 \r\nL 215.816628 204.381649 \r\nL 215.97376 203.530314 \r\nL 216.130891 186.960763 \r\nL 216.288022 200.578072 \r\nL 216.445154 195.68811 \r\nL 216.602285 197.405187 \r\nL 216.759417 190.999201 \r\nL 216.916548 194.068403 \r\nL 217.07368 194.276355 \r\nL 217.387943 202.492667 \r\nL 217.545074 198.798522 \r\nL 217.702206 198.726222 \r\nL 217.859337 201.733599 \r\nL 218.016468 193.744641 \r\nL 218.1736 196.596107 \r\nL 218.330731 179.337425 \r\nL 218.487863 191.548833 \r\nL 218.644994 186.528635 \r\nL 218.802126 198.742907 \r\nL 218.959257 200.63352 \r\nL 219.116389 191.492151 \r\nL 219.27352 197.228492 \r\nL 219.430652 212.010758 \r\nL 219.587783 199.75168 \r\nL 219.744915 196.34245 \r\nL 219.902046 199.51891 \r\nL 220.059177 190.052211 \r\nL 220.216309 194.783627 \r\nL 220.37344 192.998035 \r\nL 220.530572 173.970404 \r\nL 220.687703 194.44663 \r\nL 221.001966 202.976877 \r\nL 221.316229 198.710332 \r\nL 221.473361 188.260556 \r\nL 221.630492 202.266839 \r\nL 221.944755 193.80009 \r\nL 222.101886 195.14588 \r\nL 222.259018 187.928326 \r\nL 222.416149 200.74174 \r\nL 222.573281 197.771643 \r\nL 222.887544 177.781592 \r\nL 223.044675 195.249438 \r\nL 223.201807 181.840165 \r\nL 223.358938 190.188595 \r\nL 223.51607 188.86342 \r\nL 223.673201 209.082246 \r\nL 223.830332 187.162652 \r\nL 223.987464 190.247451 \r\nL 224.144595 186.447407 \r\nL 224.61599 201.908683 \r\nL 224.773121 172.814794 \r\nL 224.930253 198.825995 \r\nL 225.087384 191.757621 \r\nL 225.244516 198.461777 \r\nL 225.401647 197.041971 \r\nL 225.558779 191.468211 \r\nL 225.71591 195.513423 \r\nL 225.873041 203.174333 \r\nL 226.344436 199.111391 \r\nL 226.501567 190.62894 \r\nL 226.658699 199.26149 \r\nL 226.81583 199.354614 \r\nL 227.130093 196.279307 \r\nL 227.287225 190.840007 \r\nL 227.444356 180.492806 \r\nL 227.601487 206.79233 \r\nL 227.91575 190.28611 \r\nL 228.230013 201.501122 \r\nL 228.387145 195.088947 \r\nL 228.544276 196.269711 \r\nL 228.701408 195.921319 \r\nL 228.858539 188.755387 \r\nL 229.015671 201.251103 \r\nL 229.172802 188.989955 \r\nL 229.329934 196.547955 \r\nL 229.487065 187.771077 \r\nL 229.644196 185.252928 \r\nL 229.801328 185.005 \r\nL 229.958459 201.225616 \r\nL 230.115591 199.470466 \r\nL 230.272722 184.172691 \r\nL 230.429854 199.205331 \r\nL 230.586985 188.91523 \r\nL 230.744117 196.537229 \r\nL 230.901248 186.86513 \r\nL 231.529774 199.806626 \r\nL 231.686905 195.52279 \r\nL 231.844037 186.449393 \r\nL 232.001168 184.271733 \r\nL 232.1583 203.102932 \r\nL 232.315431 189.89331 \r\nL 232.472563 202.295817 \r\nL 232.629694 197.310557 \r\nL 232.786826 168.402749 \r\nL 232.943957 196.995242 \r\nL 233.101089 190.767121 \r\nL 233.25822 189.084272 \r\nL 233.572483 193.969048 \r\nL 233.729614 203.304549 \r\nL 233.886746 192.965334 \r\nL 234.043877 208.380006 \r\nL 234.201009 191.723708 \r\nL 234.35814 196.393633 \r\nL 234.515272 189.909221 \r\nL 234.672403 189.558906 \r\nL 234.829535 180.909149 \r\nL 234.986666 186.147899 \r\nL 235.143798 211.367102 \r\nL 235.300929 173.719925 \r\nL 235.45806 191.950707 \r\nL 235.615192 191.042146 \r\nL 235.929455 200.560091 \r\nL 236.086586 193.7331 \r\nL 236.243718 207.439226 \r\nL 236.557981 200.503242 \r\nL 236.872244 213.868483 \r\nL 237.186506 181.461477 \r\nL 237.343638 187.882078 \r\nL 237.500769 189.173445 \r\nL 237.657901 204.748001 \r\nL 237.815032 177.043411 \r\nL 237.972164 195.544075 \r\nL 238.129295 199.918798 \r\nL 238.286427 194.571891 \r\nL 238.443558 194.440567 \r\nL 238.60069 184.520372 \r\nL 238.757821 203.74826 \r\nL 239.072084 209.298289 \r\nL 239.229215 196.922085 \r\nL 239.386347 202.9157 \r\nL 239.543478 203.565858 \r\nL 239.70061 201.020152 \r\nL 239.857741 185.142534 \r\nL 240.014873 190.727459 \r\nL 240.172004 186.05007 \r\nL 240.329136 197.839824 \r\nL 240.486267 195.615978 \r\nL 240.643399 190.731201 \r\nL 240.80053 175.837621 \r\nL 240.957662 198.205674 \r\nL 241.114793 186.465033 \r\nL 241.271924 202.202295 \r\nL 241.429056 199.394256 \r\nL 241.586187 199.074363 \r\nL 241.90045 183.209749 \r\nL 242.057582 189.386603 \r\nL 242.214713 191.069766 \r\nL 242.371845 197.433643 \r\nL 242.528976 198.539597 \r\nL 242.686108 192.531931 \r\nL 242.843239 192.588926 \r\nL 243.00037 194.872089 \r\nL 243.157502 174.496431 \r\nL 243.314633 190.856106 \r\nL 243.628896 196.743488 \r\nL 243.943159 186.491419 \r\nL 244.100291 190.133105 \r\nL 244.257422 185.789931 \r\nL 244.414554 188.165445 \r\nL 244.571685 201.368544 \r\nL 244.728817 196.228877 \r\nL 244.885948 198.277535 \r\nL 245.043079 198.747486 \r\nL 245.200211 206.274563 \r\nL 245.671605 178.527216 \r\nL 245.828737 177.336146 \r\nL 245.985868 194.518617 \r\nL 246.143 190.17904 \r\nL 246.300131 194.971151 \r\nL 246.457263 189.08009 \r\nL 246.614394 190.478903 \r\nL 246.771525 204.708673 \r\nL 246.928657 190.696034 \r\nL 247.085788 194.591063 \r\nL 247.24292 182.140049 \r\nL 247.400051 197.608769 \r\nL 247.557183 201.684737 \r\nL 247.714314 195.626536 \r\nL 247.871446 201.700878 \r\nL 248.028577 194.529928 \r\nL 248.185709 192.543242 \r\nL 248.34284 179.529822 \r\nL 248.657103 193.635752 \r\nL 248.814234 200.599126 \r\nL 248.971366 189.969436 \r\nL 249.285629 203.413208 \r\nL 249.44276 194.12174 \r\nL 249.599892 200.092273 \r\nL 249.757023 192.118076 \r\nL 249.914155 207.566431 \r\nL 250.228418 191.278533 \r\nL 250.385549 189.109884 \r\nL 250.542681 172.674919 \r\nL 250.699812 205.250673 \r\nL 250.856943 195.645228 \r\nL 251.014075 197.885445 \r\nL 251.171206 189.998875 \r\nL 251.328338 197.624115 \r\nL 251.642601 181.486609 \r\nL 251.956864 200.217387 \r\nL 252.113995 201.06569 \r\nL 252.585389 193.337436 \r\nL 252.899652 196.813697 \r\nL 253.056784 192.933387 \r\nL 253.213915 202.369393 \r\nL 253.528178 184.25118 \r\nL 253.68531 196.760925 \r\nL 253.842441 195.221191 \r\nL 253.999573 205.655202 \r\nL 254.156704 204.627194 \r\nL 254.628098 183.169166 \r\nL 254.78523 196.08965 \r\nL 254.942361 184.285219 \r\nL 255.099493 197.905329 \r\nL 255.256624 198.499453 \r\nL 255.413756 187.092902 \r\nL 255.570887 190.761623 \r\nL 255.88515 204.688099 \r\nL 256.199413 195.566572 \r\nL 256.356545 195.75901 \r\nL 256.513676 202.564381 \r\nL 256.670807 194.036853 \r\nL 256.98507 203.301078 \r\nL 257.142202 191.894841 \r\nL 257.456465 203.705566 \r\nL 257.613596 185.99826 \r\nL 257.927859 207.840181 \r\nL 258.084991 207.104112 \r\nL 258.242122 199.07798 \r\nL 258.399253 199.088455 \r\nL 258.556385 187.127881 \r\nL 258.870648 200.554299 \r\nL 259.027779 207.764096 \r\nL 259.342042 188.395434 \r\nL 259.499174 195.157589 \r\nL 259.656305 210.100156 \r\nL 259.813437 205.171598 \r\nL 259.970568 160.987844 \r\nL 260.1277 199.587091 \r\nL 260.284831 204.718416 \r\nL 260.441962 202.359921 \r\nL 260.599094 195.020076 \r\nL 260.756225 194.777103 \r\nL 260.913357 194.809323 \r\nL 261.070488 201.171861 \r\nL 261.22762 189.921619 \r\nL 261.384751 192.216804 \r\nL 261.541883 200.289812 \r\nL 261.699014 170.530209 \r\nL 261.856146 196.68505 \r\nL 262.013277 183.510616 \r\nL 262.170408 205.048366 \r\nL 262.32754 198.004454 \r\nL 262.484671 201.224152 \r\nL 262.641803 188.205087 \r\nL 262.798934 185.599605 \r\nL 263.113197 201.628598 \r\nL 263.270329 191.562298 \r\nL 263.42746 205.125308 \r\nL 263.741723 184.534547 \r\nL 263.898855 187.99057 \r\nL 264.055986 183.318115 \r\nL 264.213117 196.975128 \r\nL 264.370249 190.062665 \r\nL 264.52738 201.320811 \r\nL 264.684512 201.288278 \r\nL 264.841643 200.491031 \r\nL 264.998775 194.261155 \r\nL 265.155906 197.179087 \r\nL 265.313038 184.355302 \r\nL 265.470169 202.566681 \r\nL 265.627301 183.94933 \r\nL 265.784432 200.462137 \r\nL 265.941564 203.082296 \r\nL 266.255826 188.305864 \r\nL 266.412958 192.191589 \r\nL 266.570089 189.912106 \r\nL 266.727221 194.964084 \r\nL 267.041484 188.370365 \r\nL 267.198615 201.651576 \r\nL 267.355747 193.112276 \r\nL 267.512878 207.321347 \r\nL 267.67001 179.051382 \r\nL 267.827141 205.251405 \r\nL 267.984272 193.971933 \r\nL 268.141404 199.439501 \r\nL 268.298535 197.291886 \r\nL 268.455667 203.797227 \r\nL 268.612798 183.407706 \r\nL 268.76993 185.081691 \r\nL 268.927061 182.8499 \r\nL 269.084193 168.525647 \r\nL 269.241324 194.71601 \r\nL 269.398456 173.678256 \r\nL 269.555587 198.812133 \r\nL 269.712719 204.651803 \r\nL 269.86985 186.663408 \r\nL 270.026981 195.832104 \r\nL 270.184113 190.954646 \r\nL 270.498376 208.944002 \r\nL 270.812639 176.24696 \r\nL 270.96977 182.667309 \r\nL 271.126902 207.056797 \r\nL 271.284033 198.400453 \r\nL 271.441165 204.962873 \r\nL 271.598296 198.701822 \r\nL 271.755428 200.560467 \r\nL 272.06969 186.585609 \r\nL 272.226822 187.037308 \r\nL 272.541085 198.766136 \r\nL 272.698216 182.033439 \r\nL 272.855348 199.033195 \r\nL 273.012479 195.560069 \r\nL 273.169611 195.162251 \r\nL 273.326742 174.088639 \r\nL 273.641005 201.850851 \r\nL 274.112399 185.67293 \r\nL 274.426662 198.746043 \r\nL 274.583794 190.379067 \r\nL 274.898057 209.105078 \r\nL 275.055188 193.405659 \r\nL 275.21232 190.208311 \r\nL 275.526583 163.957377 \r\nL 275.683714 198.539973 \r\nL 275.840845 184.129453 \r\nL 275.997977 190.224745 \r\nL 276.155108 190.105297 \r\nL 276.31224 202.720314 \r\nL 276.469371 202.923771 \r\nL 276.783634 193.230449 \r\nL 276.940766 199.772379 \r\nL 277.097897 194.731315 \r\nL 277.255029 203.476476 \r\nL 277.41216 192.109128 \r\nL 277.569291 160.861413 \r\nL 277.726423 201.941948 \r\nL 277.883554 191.321604 \r\nL 278.040686 202.429023 \r\nL 278.197817 183.813741 \r\nL 278.354949 197.607953 \r\nL 278.51208 192.439203 \r\nL 278.669212 192.39584 \r\nL 278.826343 201.882297 \r\nL 279.140606 185.866309 \r\nL 279.297738 192.997094 \r\nL 279.454869 187.835202 \r\nL 279.769132 208.400413 \r\nL 279.926263 202.075801 \r\nL 280.083395 183.01614 \r\nL 280.240526 194.947316 \r\nL 280.711921 183.954118 \r\nL 280.869052 200.351407 \r\nL 281.026184 201.113068 \r\nL 281.340447 190.1224 \r\nL 281.497578 198.101008 \r\nL 281.654709 183.884766 \r\nL 281.811841 193.153612 \r\nL 281.968972 189.160962 \r\nL 282.126104 198.047107 \r\nL 282.283235 177.492099 \r\nL 282.440367 186.544379 \r\nL 282.597498 207.455786 \r\nL 282.75463 203.41626 \r\nL 283.068893 193.026909 \r\nL 283.226024 192.369935 \r\nL 283.383155 194.497228 \r\nL 283.540287 204.722033 \r\nL 283.697418 200.439096 \r\nL 283.85455 199.530012 \r\nL 284.168813 194.484432 \r\nL 284.483076 205.221318 \r\nL 284.640207 187.910011 \r\nL 284.797339 198.164255 \r\nL 285.111602 204.30199 \r\nL 285.268733 174.050043 \r\nL 285.582996 205.455091 \r\nL 285.740127 190.971749 \r\nL 285.897259 188.962628 \r\nL 286.05439 201.158919 \r\nL 286.211522 181.378995 \r\nL 286.368653 199.862639 \r\nL 286.525785 197.632081 \r\nL 286.682916 169.3995 \r\nL 286.840048 203.776904 \r\nL 287.15431 186.952818 \r\nL 287.311442 200.775695 \r\nL 287.468573 190.502028 \r\nL 287.625705 189.4151 \r\nL 287.782836 191.760255 \r\nL 287.939968 199.746662 \r\nL 288.097099 168.647478 \r\nL 288.254231 174.663549 \r\nL 288.568494 201.393529 \r\nL 288.725625 194.097988 \r\nL 288.882757 202.882644 \r\nL 289.197019 185.160117 \r\nL 289.354151 189.284027 \r\nL 289.511282 204.563591 \r\nL 289.668414 194.859 \r\nL 289.825545 203.16965 \r\nL 289.982677 201.369275 \r\nL 290.139808 189.452003 \r\nL 290.29694 205.336438 \r\nL 290.611203 190.575729 \r\nL 290.768334 192.469813 \r\nL 290.925466 190.871055 \r\nL 291.239728 205.836036 \r\nL 291.39686 178.413267 \r\nL 291.711123 193.827019 \r\nL 291.868254 201.077252 \r\nL 292.182517 191.230361 \r\nL 292.339649 200.502259 \r\nL 292.49678 184.286661 \r\nL 292.653912 185.874045 \r\nL 292.968174 196.818945 \r\nL 293.125306 183.224071 \r\nL 293.282437 198.718737 \r\nL 293.439569 192.135409 \r\nL 293.5967 180.547 \r\nL 293.753832 200.323537 \r\nL 293.910963 204.135624 \r\nL 294.068095 183.494684 \r\nL 294.382358 200.886215 \r\nL 294.539489 179.345726 \r\nL 294.696621 201.194818 \r\nL 294.853752 192.655832 \r\nL 295.010883 195.908084 \r\nL 295.168015 201.648085 \r\nL 295.325146 199.034386 \r\nL 295.482278 186.203744 \r\nL 295.639409 184.816367 \r\nL 295.953672 199.298121 \r\nL 296.267935 204.163787 \r\nL 296.425067 189.739322 \r\nL 296.582198 200.982957 \r\nL 296.73933 191.02657 \r\nL 296.896461 199.434672 \r\nL 297.053592 174.439143 \r\nL 297.210724 178.29959 \r\nL 297.367855 179.426431 \r\nL 297.682118 189.521836 \r\nL 297.83925 184.223916 \r\nL 297.996381 204.785175 \r\nL 298.153513 169.707497 \r\nL 298.310644 188.175397 \r\nL 298.624907 196.538714 \r\nL 298.782038 186.435678 \r\nL 298.93917 190.753531 \r\nL 299.096301 199.25413 \r\nL 299.253433 196.013628 \r\nL 299.410564 197.341814 \r\nL 299.567696 202.601493 \r\nL 299.724827 198.830658 \r\nL 299.881959 190.908836 \r\nL 300.03909 200.602827 \r\nL 300.353353 195.888912 \r\nL 300.510485 198.789511 \r\nL 300.824747 180.065466 \r\nL 300.981879 205.62545 \r\nL 301.13901 205.335121 \r\nL 301.296142 187.855483 \r\nL 301.453273 185.660573 \r\nL 301.610405 196.357796 \r\nL 301.767536 185.472756 \r\nL 301.924668 208.50004 \r\nL 302.081799 194.096587 \r\nL 302.238931 190.772307 \r\nL 302.396062 181.873513 \r\nL 302.710325 203.61541 \r\nL 302.867456 186.486777 \r\nL 303.024588 190.979255 \r\nL 303.181719 199.046053 \r\nL 303.338851 180.32044 \r\nL 303.495982 203.479675 \r\nL 303.967377 185.379861 \r\nL 304.124508 202.24708 \r\nL 304.28164 201.67606 \r\nL 304.438771 190.421741 \r\nL 304.595902 201.36685 \r\nL 305.067297 195.777848 \r\nL 305.224428 208.634458 \r\nL 305.38156 197.15684 \r\nL 305.538691 199.305 \r\nL 305.852954 171.291326 \r\nL 306.010086 206.707611 \r\nL 306.167217 200.002514 \r\nL 306.324349 166.554935 \r\nL 306.48148 196.65398 \r\nL 306.795743 205.907333 \r\nL 306.952874 189.082975 \r\nL 307.110006 207.161023 \r\nL 307.267137 204.272885 \r\nL 307.424269 185.464037 \r\nL 307.5814 203.355042 \r\nL 307.738532 203.964805 \r\nL 308.209926 181.272238 \r\nL 308.367057 192.26667 \r\nL 308.524189 192.547675 \r\nL 308.68132 203.528307 \r\nL 308.838452 167.431255 \r\nL 308.995583 207.058699 \r\nL 309.152715 195.887051 \r\nL 309.309846 159.629467 \r\nL 309.466978 201.275586 \r\nL 309.624109 193.160219 \r\nL 309.781241 198.225473 \r\nL 309.938372 189.833325 \r\nL 310.095504 206.143908 \r\nL 310.252635 186.452237 \r\nL 310.409766 193.188507 \r\nL 310.566898 189.825338 \r\nL 310.724029 193.592033 \r\nL 311.038292 193.359849 \r\nL 311.195424 183.434845 \r\nL 311.352555 199.242714 \r\nL 311.509687 190.306475 \r\nL 311.666818 205.487624 \r\nL 311.82395 188.199253 \r\nL 311.981081 199.462584 \r\nL 312.295344 192.785671 \r\nL 312.452475 194.326367 \r\nL 312.609607 174.870727 \r\nL 312.766738 194.565451 \r\nL 312.92387 188.374589 \r\nL 313.395264 205.337253 \r\nL 313.552396 197.100138 \r\nL 313.709527 200.126792 \r\nL 314.02379 193.661908 \r\nL 314.180921 200.120749 \r\nL 314.338053 199.987189 \r\nL 314.495184 189.081261 \r\nL 314.652316 199.216475 \r\nL 314.809447 196.081496 \r\nL 314.966579 197.645776 \r\nL 315.12371 195.549762 \r\nL 315.437973 186.107316 \r\nL 315.595105 208.441393 \r\nL 315.909368 176.766338 \r\nL 316.066499 198.853406 \r\nL 316.22363 191.48222 \r\nL 316.380762 199.816202 \r\nL 316.537893 195.140883 \r\nL 316.695025 181.012393 \r\nL 316.852156 184.397599 \r\nL 317.009288 200.153011 \r\nL 317.166419 200.601343 \r\nL 317.323551 200.172162 \r\nL 317.480682 192.26874 \r\nL 317.637814 205.353603 \r\nL 317.794945 175.996627 \r\nL 318.109208 194.876061 \r\nL 318.266339 201.224341 \r\nL 318.423471 195.553943 \r\nL 318.737734 175.839524 \r\nL 318.894865 193.810586 \r\nL 319.051997 187.125247 \r\nL 319.209128 187.702937 \r\nL 319.523391 208.501002 \r\nL 319.680523 186.475027 \r\nL 319.837654 194.0513 \r\nL 319.994785 186.912277 \r\nL 320.151917 208.749222 \r\nL 320.309048 197.653763 \r\nL 320.46618 200.638308 \r\nL 320.623311 183.887777 \r\nL 320.780443 196.033993 \r\nL 320.937574 183.163186 \r\nL 321.094706 191.482638 \r\nL 321.251837 192.480894 \r\nL 321.408969 176.650862 \r\nL 321.5661 185.350172 \r\nL 321.723232 183.918595 \r\nL 321.880363 194.275435 \r\nL 322.037494 195.710796 \r\nL 322.194626 186.285725 \r\nL 322.351757 193.461922 \r\nL 322.508889 190.778244 \r\nL 322.66602 191.172487 \r\nL 322.823152 193.406662 \r\nL 322.980283 201.689044 \r\nL 323.137415 199.366072 \r\nL 323.451678 185.752443 \r\nL 323.608809 204.113775 \r\nL 323.76594 198.32577 \r\nL 323.923072 198.63454 \r\nL 324.080203 195.28609 \r\nL 324.237335 205.761395 \r\nL 324.551598 186.034159 \r\nL 324.708729 162.542234 \r\nL 324.865861 201.042963 \r\nL 325.022992 188.394326 \r\nL 325.180124 196.671668 \r\nL 325.337255 186.741646 \r\nL 325.494387 197.482756 \r\nL 325.651518 197.204762 \r\nL 325.808649 206.537524 \r\nL 325.965781 178.103179 \r\nL 326.122912 209.406426 \r\nL 326.280044 196.057598 \r\nL 326.437175 194.244303 \r\nL 326.594307 199.919781 \r\nL 326.90857 184.197635 \r\nL 327.065701 201.559874 \r\nL 327.222833 181.910353 \r\nL 327.537095 199.255615 \r\nL 327.851358 196.334944 \r\nL 328.00849 199.961388 \r\nL 328.165621 186.4887 \r\nL 328.322753 198.389727 \r\nL 328.479884 169.551126 \r\nL 328.637016 210.272334 \r\nL 328.794147 188.685387 \r\nL 328.951279 184.459153 \r\nL 329.265542 192.408113 \r\nL 329.422673 193.826183 \r\nL 329.579804 198.908248 \r\nL 329.736936 199.27669 \r\nL 329.894067 195.844858 \r\nL 330.051199 178.643779 \r\nL 330.20833 199.678272 \r\nL 330.365462 201.349141 \r\nL 330.522593 206.185243 \r\nL 330.679725 187.834596 \r\nL 330.836856 205.574058 \r\nL 330.993988 206.26806 \r\nL 331.308251 182.910847 \r\nL 331.465382 201.751141 \r\nL 331.622513 190.595571 \r\nL 331.779645 197.144317 \r\nL 331.936776 199.013687 \r\nL 332.093908 186.685362 \r\nL 332.251039 199.332954 \r\nL 332.408171 198.204628 \r\nL 332.722434 176.299941 \r\nL 333.036697 199.31951 \r\nL 333.350959 186.138741 \r\nL 333.508091 201.289595 \r\nL 333.822354 195.217072 \r\nL 333.979485 202.579874 \r\nL 334.136617 198.056996 \r\nL 334.293748 188.82568 \r\nL 334.45088 193.28205 \r\nL 334.608011 185.836347 \r\nL 334.765143 200.066744 \r\nL 334.922274 195.792065 \r\nL 335.079406 195.118491 \r\nL 335.236537 189.018056 \r\nL 335.393668 190.122755 \r\nL 335.5508 176.588201 \r\nL 335.865063 188.36449 \r\nL 336.336457 212.595578 \r\nL 336.493589 198.298505 \r\nL 336.65072 199.00455 \r\nL 336.807852 195.285651 \r\nL 336.964983 195.108601 \r\nL 337.122115 183.794506 \r\nL 337.436377 205.103668 \r\nL 337.593509 182.130264 \r\nL 337.75064 203.904694 \r\nL 337.907772 198.508799 \r\nL 338.064903 197.815591 \r\nL 338.222035 182.210259 \r\nL 338.379166 189.902739 \r\nL 338.536298 188.628998 \r\nL 338.693429 202.866775 \r\nL 339.007692 198.195742 \r\nL 339.164823 173.00259 \r\nL 339.321955 198.455002 \r\nL 339.479086 198.316549 \r\nL 339.636218 196.564619 \r\nL 339.950481 204.16962 \r\nL 340.107612 200.909988 \r\nL 340.264744 206.362606 \r\nL 340.421875 197.397263 \r\nL 340.579007 202.532225 \r\nL 340.736138 176.395554 \r\nL 340.89327 199.212774 \r\nL 341.050401 152.369114 \r\nL 341.364664 209.902073 \r\nL 341.678927 188.782087 \r\nL 341.836058 192.958686 \r\nL 341.99319 184.746388 \r\nL 342.307453 191.03165 \r\nL 342.464584 185.009746 \r\nL 342.621716 204.215054 \r\nL 342.935978 184.835917 \r\nL 343.09311 197.648619 \r\nL 343.250241 182.374743 \r\nL 343.564504 207.733445 \r\nL 343.721636 198.79616 \r\nL 343.878767 197.379491 \r\nL 344.035899 198.084051 \r\nL 344.19303 186.860927 \r\nL 344.507293 196.368668 \r\nL 344.664425 197.700283 \r\nL 344.821556 205.341916 \r\nL 344.978687 199.577474 \r\nL 345.135819 187.63852 \r\nL 345.29295 195.871913 \r\nL 345.450082 194.23456 \r\nL 345.607213 196.416464 \r\nL 345.764345 180.840027 \r\nL 346.078608 194.955658 \r\nL 346.235739 179.279719 \r\nL 346.392871 201.000039 \r\nL 346.550002 198.101384 \r\nL 346.707134 202.76052 \r\nL 346.864265 181.918194 \r\nL 347.021396 196.727305 \r\nL 347.178528 183.316819 \r\nL 347.335659 211.216961 \r\nL 347.492791 201.722538 \r\nL 347.649922 203.93775 \r\nL 348.121317 189.939705 \r\nL 348.278448 189.790965 \r\nL 348.43558 197.71793 \r\nL 348.592711 194.674361 \r\nL 348.906974 184.024077 \r\nL 349.064105 197.425091 \r\nL 349.221237 200.071051 \r\nL 349.378368 190.229449 \r\nL 349.5355 201.721828 \r\nL 349.692631 185.756918 \r\nL 350.006894 202.229727 \r\nL 350.164026 193.15541 \r\nL 350.321157 203.612566 \r\nL 350.478289 179.794413 \r\nL 350.63542 190.230055 \r\nL 350.792551 183.986818 \r\nL 350.949683 203.016142 \r\nL 351.263946 192.035636 \r\nL 351.421077 191.641957 \r\nL 351.578209 199.798075 \r\nL 351.73534 194.934123 \r\nL 351.892472 178.619609 \r\nL 352.206735 200.104232 \r\nL 352.363866 198.494289 \r\nL 352.520998 188.946299 \r\nL 352.678129 198.035774 \r\nL 352.83526 193.82428 \r\nL 352.992392 184.768467 \r\nL 353.306655 202.019287 \r\nL 353.463786 199.791802 \r\nL 353.620918 200.734004 \r\nL 353.778049 193.480928 \r\nL 353.935181 169.243359 \r\nL 354.092312 195.562996 \r\nL 354.249444 193.379147 \r\nL 354.563706 197.298597 \r\nL 354.720838 186.859254 \r\nL 354.877969 189.60137 \r\nL 355.035101 203.948455 \r\nL 355.192232 188.277931 \r\nL 355.349364 196.867368 \r\nL 355.506495 185.683551 \r\nL 355.663627 208.232374 \r\nL 355.820758 187.851176 \r\nL 355.97789 194.286035 \r\nL 356.135021 185.229553 \r\nL 356.292153 189.597774 \r\nL 356.449284 213.819098 \r\nL 356.763547 191.456168 \r\nL 356.920678 201.746081 \r\nL 357.07781 198.744349 \r\nL 357.234941 188.583419 \r\nL 357.392073 204.588765 \r\nL 357.549204 189.70934 \r\nL 357.706336 211.67144 \r\nL 357.863467 187.070781 \r\nL 358.020599 204.343471 \r\nL 358.17773 201.565581 \r\nL 358.334861 196.149426 \r\nL 358.491993 195.799718 \r\nL 358.649124 202.081614 \r\nL 358.806256 194.606034 \r\nL 358.963387 195.85642 \r\nL 359.120519 190.716336 \r\nL 359.27765 199.792158 \r\nL 359.434782 195.845214 \r\nL 359.591913 199.299375 \r\nL 359.749045 193.797832 \r\nL 360.063308 199.880411 \r\nL 360.37757 176.473311 \r\nL 360.534702 203.35293 \r\nL 360.691833 194.431284 \r\nL 360.848965 200.267085 \r\nL 361.006096 194.17585 \r\nL 361.163228 198.656243 \r\nL 361.320359 192.193011 \r\nL 361.634622 202.16993 \r\nL 361.948885 178.771674 \r\nL 362.106017 190.957343 \r\nL 362.263148 162.375493 \r\nL 362.420279 191.856746 \r\nL 362.734542 188.988345 \r\nL 362.891674 188.697911 \r\nL 363.048805 199.639508 \r\nL 363.363068 197.406399 \r\nL 363.363068 197.406399 \r\n\" style=\"fill:none;stroke:#1f77b4;stroke-linecap:square;stroke-width:1.5;\"/>\r\n   </g>\r\n   <g id=\"patch_3\">\r\n    <path d=\"M 43.78125 225.378308 \r\nL 43.78125 7.938308 \r\n\" style=\"fill:none;stroke:#000000;stroke-linecap:square;stroke-linejoin:miter;stroke-width:0.8;\"/>\r\n   </g>\r\n   <g id=\"patch_4\">\r\n    <path d=\"M 378.58125 225.378308 \r\nL 378.58125 7.938308 \r\n\" style=\"fill:none;stroke:#000000;stroke-linecap:square;stroke-linejoin:miter;stroke-width:0.8;\"/>\r\n   </g>\r\n   <g id=\"patch_5\">\r\n    <path d=\"M 43.78125 225.378308 \r\nL 378.58125 225.378308 \r\n\" style=\"fill:none;stroke:#000000;stroke-linecap:square;stroke-linejoin:miter;stroke-width:0.8;\"/>\r\n   </g>\r\n   <g id=\"patch_6\">\r\n    <path d=\"M 43.78125 7.938308 \r\nL 378.58125 7.938308 \r\n\" style=\"fill:none;stroke:#000000;stroke-linecap:square;stroke-linejoin:miter;stroke-width:0.8;\"/>\r\n   </g>\r\n  </g>\r\n </g>\r\n <defs>\r\n  <clipPath id=\"p20549c5df9\">\r\n   <rect height=\"217.44\" width=\"334.8\" x=\"43.78125\" y=\"7.938308\"/>\r\n  </clipPath>\r\n </defs>\r\n</svg>\r\n",
            "image/png": "[encoded data removed]"
          },
          "metadata": {
            "needs_background": "light"
          }
        }
      ]
    },
    {
      "cell_type": "markdown",
      "metadata": {
        "id": "kKkD5M6eoSiN"
      },
      "source": [
        "## 2.6 Generate music using the RNN model\n",
        "\n",
        "Now, we can use our trained RNN model to generate some music! When generating music, we'll have to feed the model some sort of seed to get it started (because it can't predict anything without something to start with!).\n",
        "\n",
        "Once we have a generated seed, we can then iteratively predict each successive character (remember, we are using the ABC representation for our music) using our trained RNN. More specifically, recall that our RNN outputs a `softmax` over possible successive characters. For inference, we iteratively sample from these distributions, and then use our samples to encode a generated song in the ABC format.\n",
        "\n",
        "Then, all we have to do is write it to a file and listen!"
      ]
    },
    {
      "cell_type": "markdown",
      "metadata": {
        "id": "JIPcXllKjkdr"
      },
      "source": [
        "### Restore the latest checkpoint\n",
        "\n",
        "To keep this inference step simple, we will use a batch size of 1. Because of how the RNN state is passed from timestep to timestep, the model will only be able to accept a fixed batch size once it is built. \n",
        "\n",
        "To run the model with a different `batch_size`, we'll need to rebuild the model and restore the weights from the latest checkpoint, i.e., the weights after the last checkpoint during training:"
      ]
    },
    {
      "cell_type": "code",
      "metadata": {
        "id": "LycQ-ot_jjyu"
      },
      "source": [
        "'''TODO: Rebuild the model using a batch_size=1'''\n",
        "model = build_model(vocab_size, embedding_dim, rnn_units, batch_size=1)\n",
        "\n",
        "# Restore the model weights for the last checkpoint after training\n",
        "model.load_weights(tf.train.latest_checkpoint(checkpoint_dir))\n",
        "model.build(tf.TensorShape([1, None]))\n",
        "\n",
        "model.summary()"
      ],
      "execution_count": 57,
      "outputs": [
        {
          "output_type": "stream",
          "name": "stdout",
          "text": [
            "Model: \"sequential_7\"\n_________________________________________________________________\nLayer (type)                 Output Shape              Param #   \n=================================================================\nembedding_7 (Embedding)      (1, None, 256)            21248     \n_________________________________________________________________\ndense_7 (Dense)              (1, None, 83)             21331     \n=================================================================\nTotal params: 42,579\nTrainable params: 42,579\nNon-trainable params: 0\n_________________________________________________________________\n"
          ]
        }
      ]
    },
    {
      "cell_type": "markdown",
      "metadata": {
        "id": "I9b4V2C8N62l"
      },
      "source": [
        "Notice that we have fed in a fixed `batch_size` of 1 for inference."
      ]
    },
    {
      "cell_type": "markdown",
      "metadata": {
        "id": "DjGz1tDkzf-u"
      },
      "source": [
        "### The prediction procedure\n",
        "\n",
        "Now, we're ready to write the code to generate text in the ABC music format:\n",
        "\n",
        "* Initialize a \"seed\" start string and the RNN state, and set the number of characters we want to generate.\n",
        "\n",
        "* Use the start string and the RNN state to obtain the probability distribution over the next predicted character.\n",
        "\n",
        "* Sample from multinomial distribution to calculate the index of the predicted character. This predicted character is then used as the next input to the model.\n",
        "\n",
        "* At each time step, the updated RNN state is fed back into the model, so that it now has more context in making the next prediction. After predicting the next character, the updated RNN states are again fed back into the model, which is how it learns sequence dependencies in the data, as it gets more information from the previous predictions.\n",
        "\n",
        "![LSTM inference](https://raw.githubusercontent.com/aamini/introtodeeplearning/2019/lab1/img/lstm_inference.png)\n",
        "\n",
        "Complete and experiment with this code block (as well as some of the aspects of network definition and training!), and see how the model performs. How do songs generated after training with a small number of epochs compare to those generated after a longer duration of training?"
      ]
    },
    {
      "cell_type": "code",
      "metadata": {
        "id": "WvuwZBX5Ogfd"
      },
      "source": [
        "### Prediction of a generated song ###\n",
        "\n",
        "def generate_text(model, start_string, generation_length=1000):\n",
        "  # Evaluation step (generating ABC text using the learned RNN model)\n",
        "\n",
        "  '''TODO: convert the start string to numbers (vectorize)'''\n",
        "  input_eval = [char2idx[elem] for elem in start_string]\n",
        "  input_eval = tf.expand_dims(input_eval, 0)\n",
        "\n",
        "  # Empty string to store our results\n",
        "  text_generated = []\n",
        "\n",
        "  # Here batch size == 1\n",
        "  model.reset_states()\n",
        "  tqdm._instances.clear()\n",
        "\n",
        "  for i in tqdm(range(generation_length)):\n",
        "      '''TODO: evaluate the inputs and generate the next character predictions'''\n",
        "      predictions = model(input_eval)\n",
        "      \n",
        "      # Remove the batch dimension\n",
        "      predictions = tf.squeeze(predictions, 0)\n",
        "      \n",
        "      '''TODO: use a multinomial distribution to sample'''\n",
        "      predicted_id = tf.random.categorical(predictions, num_samples=1)[-1,0].numpy()\n",
        "      \n",
        "      # Pass the prediction along with the previous hidden state\n",
        "      #   as the next inputs to the model\n",
        "      input_eval = tf.expand_dims([predicted_id], 0)\n",
        "      \n",
        "      '''TODO: add the predicted character to the generated text!'''\n",
        "      # Hint: consider what format the prediction is in vs. the output\n",
        "      text_generated.append(idx2char[predicted_id])\n",
        "    \n",
        "  return (start_string + ''.join(text_generated))\n",
        "print('done')"
      ],
      "execution_count": 64,
      "outputs": [
        {
          "output_type": "stream",
          "name": "stdout",
          "text": [
            "done\n"
          ]
        }
      ]
    },
    {
      "cell_type": "code",
      "metadata": {
        "id": "ktovv0RFhrkn"
      },
      "source": [
        "'''TODO: Use the model and the function defined above to generate ABC format text of length 1000!\n",
        "    As you may notice, ABC files start with \"X\" - this may be a good start string.'''\n",
        "generated_text = generate_text(model, start_string=\"X\", generation_length=1000) # TODO\n",
        "# generated_text = generate_text('''TODO''', start_string=\"X\", generation_length=1000)"
      ],
      "execution_count": 65,
      "outputs": [
        {
          "output_type": "stream",
          "name": "stderr",
          "text": [
            "100%|██████████| 1000/1000 [00:10<00:00, 94.83it/s]\n"
          ]
        }
      ]
    },
    {
      "cell_type": "markdown",
      "metadata": {
        "id": "AM2Uma_-yVIq"
      },
      "source": [
        "### Play back the generated music!\n",
        "\n",
        "We can now call a function to convert the ABC format text to an audio file, and then play that back to check out our generated music! Try training longer if the resulting song is not long enough, or re-generating the song!"
      ]
    },
    {
      "cell_type": "code",
      "metadata": {
        "id": "LrOtG64bfLto"
      },
      "source": [
        "### Play back generated songs ###\n",
        "\n",
        "generated_songs = mdl.lab1.extract_song_snippet(generated_text)\n",
        "\n",
        "for i, song in enumerate(generated_songs): \n",
        "  # Synthesize the waveform from a song\n",
        "  waveform = mdl.lab1.play_song(song)\n",
        "\n",
        "  # If its a valid song (correct syntax), lets play it! \n",
        "  if waveform:\n",
        "    print(\"Generated song\", i)\n",
        "    ipythondisplay.display(waveform)"
      ],
      "execution_count": 66,
      "outputs": [
        {
          "output_type": "stream",
          "name": "stdout",
          "text": [
            "Found 0 songs in text\n"
          ]
        }
      ]
    },
    {
      "cell_type": "markdown",
      "metadata": {
        "id": "HgVvcrYmSKGG"
      },
      "source": [
        "## 2.7 Experiment and **get awarded for the best songs**!\n",
        "\n",
        "Congrats on making your first sequence model in TensorFlow! It's a pretty big accomplishment, and hopefully you have some sweet tunes to show for it.\n",
        "\n",
        "Consider how you may improve your model and what seems to be most important in terms of performance. Here are some ideas to get you started:\n",
        "\n",
        "*  How does the number of training epochs affect the performance?\n",
        "*  What if you alter or augment the dataset? \n",
        "*  Does the choice of start string significantly affect the result? \n",
        "\n",
        "Try to optimize your model and submit your best song! **MIT students and affiliates will be eligible for prizes during the IAP offering**. To enter the competition, MIT students and affiliates should upload the following to the course Canvas:\n",
        "\n",
        "* a recording of your song;\n",
        "* iPython notebook with the code you used to generate the song;\n",
        "* a description and/or diagram of the architecture and hyperparameters you used -- if there are any additional or interesting modifications you made to the template code, please include these in your description.\n",
        "\n",
        "You can also tweet us at [@MITDeepLearning](https://twitter.com/MITDeepLearning) a copy of the song! See this example song generated by a previous 6.S191 student (credit Ana Heart): <a href=\"https://twitter.com/AnaWhatever16/status/1263092914680410112?s=20\">song from May 20, 2020.</a>\n",
        "<script async src=\"https://platform.twitter.com/widgets.js\" charset=\"utf-8\"></script>\n",
        "\n",
        "Have fun and happy listening!\n",
        "\n",
        "![Let's Dance!](http://33.media.tumblr.com/3d223954ad0a77f4e98a7b87136aa395/tumblr_nlct5lFVbF1qhu7oio1_500.gif)"
      ]
    }
  ]
}